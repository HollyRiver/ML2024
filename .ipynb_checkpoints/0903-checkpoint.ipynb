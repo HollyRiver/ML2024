{
 "cells": [
  {
   "cell_type": "markdown",
   "id": "398f9a2f-39be-4b2d-874d-bab7addd004c",
   "metadata": {},
   "source": [
    "### Machine Learning Introduction"
   ]
  },
  {
   "cell_type": "markdown",
   "id": "40e5a0e3-93e4-4a22-9806-e19058133a71",
   "metadata": {},
   "source": [
    "통계학과 기계학습\n",
    "\n",
    "* 모형과 데이터로부터 모집단, 모수 추론, 해석에 초점\n",
    "* 모형과 데이터로부터 새로운 현상(test data)에 대한 예측성능에 초점"
   ]
  },
  {
   "cell_type": "markdown",
   "id": "2de97900-111d-4bc0-b20c-400c0db4c347",
   "metadata": {},
   "source": [
    "**Statistical Learing**\n",
    "\n",
    "T-test : 통계적 학습과는 관련이 적음\n",
    "\n",
    "최소제곱법에 근거한 선형회귀모형(Just numeric) ~ 판별분석 ~ 로지스틱모형 -> 일반화선형모형(GLM) : 이항분포, 포아송분포 등등...\n",
    "\n",
    "일반화가법모형 : 피쳐벌로 모형을 구성하여 더하는 모형\n",
    "\n",
    "통계적 추론 - 최소제곱추정량 : X가 Y의 평균에 미치는 영향을 파악\n",
    "\n",
    "기계학습 : 가장 작은 Y에 대한 예측오차"
   ]
  },
  {
   "cell_type": "code",
   "execution_count": null,
   "id": "ebbeb67b-0831-470b-bbe7-55ec266bc7f8",
   "metadata": {},
   "outputs": [],
   "source": []
  }
 ],
 "metadata": {
  "kernelspec": {
   "display_name": "Python 3 (ipykernel)",
   "language": "python",
   "name": "python3"
  },
  "language_info": {
   "codemirror_mode": {
    "name": "ipython",
    "version": 3
   },
   "file_extension": ".py",
   "mimetype": "text/x-python",
   "name": "python",
   "nbconvert_exporter": "python",
   "pygments_lexer": "ipython3",
   "version": "3.10.14"
  }
 },
 "nbformat": 4,
 "nbformat_minor": 5
}
