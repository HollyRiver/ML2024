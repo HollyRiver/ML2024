{
 "cells": [
  {
   "cell_type": "code",
   "execution_count": 1,
   "metadata": {},
   "outputs": [],
   "source": [
    "## data\n",
    "import pandas as pd\n",
    "import numpy as np\n",
    "\n",
    "## model\n",
    "import sklearn.linear_model\n",
    "\n",
    "## cv\n",
    "from sklearn.preprocessing import StandardScaler, PowerTransformer\n",
    "from sklearn.model_selection import train_test_split, KFold\n",
    "\n",
    "## visualization\n",
    "import matplotlib.pyplot as plt\n",
    "\n",
    "## utilities\n",
    "import pickle\n",
    "import warnings\n",
    "\n",
    "## 한글 폰트 표시\n",
    "plt.rcParams['font.family'] ='NanumGothic'\n",
    "plt.rcParams['axes.unicode_minus'] = False\n",
    "\n",
    "## warnings 처리\n",
    "warnings.filterwarnings(\"ignore\", category=UserWarning)"
   ]
  },
  {
   "cell_type": "code",
   "execution_count": 2,
   "metadata": {},
   "outputs": [],
   "source": [
    "housing_price = pd.read_csv(\"kc_house_data.csv\")\n",
    "\n",
    "## 전처리\n",
    "df_preprocessed = housing_price.drop([\"id\", \"date\", \"price\"], axis = 1)\\\n",
    ".assign(date = pd.to_datetime(housing_price.date)).assign(price = housing_price.price)\n",
    "\n",
    "## scores recoding\n",
    "scoring_dict = dict()"
   ]
  },
  {
   "cell_type": "code",
   "execution_count": 3,
   "metadata": {},
   "outputs": [],
   "source": [
    "def month_days_split(df_train : pd.DataFrame, df_test : pd.DataFrame) :\n",
    "    \"\"\"\n",
    "    train/test set에서 `date` 열을 월별과 일별로 따로 분석하기 위한 함수\n",
    "    \"\"\"\n",
    "    test_month = df_test.date.dt.month.astype(str)\n",
    "    test_days = df_test.date.map(lambda x : x - df_preprocessed.date.min()).dt.days\n",
    "    train_month = df_train.date.dt.month.astype(str)\n",
    "    train_days = df_train.date.map(lambda x : x - df_preprocessed.date.min()).dt.days\n",
    "    \n",
    "    return [train_month, train_days], [test_month, test_days]\n",
    "\n",
    "df_train, df_test = train_test_split(df_preprocessed, test_size = 0.3, shuffle = True, random_state = 14107)\n",
    "df_train = df_train.reset_index(drop = True)\n",
    "df_test = df_test.reset_index(drop = True)\n",
    "\n",
    "train_date, test_date = month_days_split(df_train, df_test)"
   ]
  },
  {
   "cell_type": "code",
   "execution_count": 57,
   "metadata": {},
   "outputs": [],
   "source": [
    "with open(\"scoring_dict.pkl\", \"rb\") as f :\n",
    "    scoring_dict = pickle.load(f)"
   ]
  },
  {
   "cell_type": "code",
   "execution_count": 8,
   "metadata": {},
   "outputs": [],
   "source": [
    "X = pd.get_dummies(df_train.drop([\"date\", \"price\"], axis = 1).assign(month = train_date[0]), drop_first = True, dtype = int)\n",
    "y = df_train.price\n",
    "\n",
    "XX = pd.get_dummies(df_test.drop([\"date\", \"price\"], axis = 1).assign(month = test_date[0]), drop_first = True, dtype = int)\n",
    "yy = df_test.price"
   ]
  },
  {
   "cell_type": "code",
   "execution_count": 32,
   "metadata": {},
   "outputs": [
    {
     "data": {
      "text/plain": [
       "1e-05"
      ]
     },
     "execution_count": 32,
     "metadata": {},
     "output_type": "execute_result"
    }
   ],
   "source": [
    "10**(-5)"
   ]
  },
  {
   "cell_type": "code",
   "execution_count": 53,
   "metadata": {},
   "outputs": [
    {
     "name": "stdout",
     "output_type": "stream",
     "text": [
      "raw price RMSE = 196397.3735\n",
      "transformed price RMSE = 221208.7977\n",
      "raw price 1se rule RMSE = 199762.3829\n",
      "transformed price 1se rule RMSE = 237982.5168\n"
     ]
    }
   ],
   "source": [
    "## fitting scaler with train set\n",
    "numeric_features = list(set(df_train.columns) - set([\"price\", \"date\", \"waterfront\"])) ## date : 선형이므로 월별로 설정(더미변수 처리)\n",
    "scalr = StandardScaler()\n",
    "y_scalr = PowerTransformer()\n",
    "standarized_features = scalr.fit_transform(df_train.loc[:, numeric_features])\n",
    "\n",
    "## train data\n",
    "X_trans = np.concatenate([standarized_features, np.asarray(pd.get_dummies(train_date[0], drop_first = True, dtype = int).assign(waterfront = df_train.waterfront))], axis = 1) # features\n",
    "y_trans = np.asarray(y_scalr.fit_transform(pd.DataFrame(df_train.price))).reshape(-1) ## scaled target\n",
    "\n",
    "## test data\n",
    "XX_trans = np.concatenate([scalr.transform(df_test.loc[:, numeric_features]), np.asarray(pd.get_dummies(test_date[0], drop_first = True, dtype = int).assign(waterfront = df_test.waterfront))], axis = 1)\n",
    "yy_trans = np.asarray(y_scalr.transform(pd.DataFrame(df_test.price))).reshape(-1)\n",
    "\n",
    "\n",
    "## fitting and cross validation(10-fold)\n",
    "lambdas = 10**np.linspace(5, 1, 100) ## setting grid for plotting\n",
    "kfold = KFold(10, random_state = 14107, shuffle = True)\n",
    "LassoCV = sklearn.linear_model.ElasticNetCV(alphas = lambdas, l1_ratio = 1, cv = kfold)\n",
    "LassoCV.fit(X_trans, y)\n",
    "\n",
    "## fitting and cross validation(10-fold)\n",
    "lambdas = 10**np.linspace(-1, -4, 100) ## setting grid for plotting\n",
    "kfold = KFold(10, random_state = 14107, shuffle = True)\n",
    "LassoCV_trans = sklearn.linear_model.ElasticNetCV(alphas = lambdas, l1_ratio = 1, cv = kfold)\n",
    "LassoCV_trans.fit(X_trans, y_trans)\n",
    "\n",
    "##----------prediction----------\n",
    "\n",
    "## CV optimized predictor : raw price\n",
    "predictr_optim = sklearn.linear_model.ElasticNet(alpha = LassoCV.alpha_, l1_ratio = 1)\n",
    "predictr_optim.fit(X_trans, y)\n",
    "scoring_dict[\"Lasso Regression\"] = np.mean((yy - predictr_optim.predict(XX_trans))**2)**0.5\n",
    "print(f\"raw price RMSE = {np.mean((yy - predictr_optim.predict(XX_trans))**2)**0.5:.4f}\")\n",
    "\n",
    "## CV optimized predictor : transformed price\n",
    "predictr_optim_trans = sklearn.linear_model.ElasticNet(alpha = LassoCV_trans.alpha_, l1_ratio = 1)\n",
    "predictr_optim_trans.fit(X_trans, y_trans)\n",
    "scoring_dict[\"Lasso Regression with transformed price\"] = np.mean((yy - y_scalr.inverse_transform(predictr_optim.predict(XX_trans).reshape(-1,1)).reshape(-1))**2)**0.5\n",
    "print(f\"transformed price RMSE = {np.mean((yy - y_scalr.inverse_transform(predictr_optim.predict(XX_trans).reshape(-1,1)).reshape(-1))**2)**0.5:.4f}\")\n",
    "\n",
    "## 1-se-rule predictor : raw price\n",
    "mse_list = LassoCV.mse_path_.mean(1)\n",
    "indx = np.where(mse_list == np.min(mse_list))\n",
    "min_mse = mse_list[indx]\n",
    "min_std = LassoCV.mse_path_.std(1)[indx]\n",
    "simple_indx = np.min(np.where(mse_list <= min_mse + min_std / np.sqrt(10)))\n",
    "predictr_1se = sklearn.linear_model.ElasticNet(alpha = LassoCV.alphas_[simple_indx], l1_ratio = 1)\n",
    "predictr_1se.fit(X_trans, y)\n",
    "yyhat = predictr_1se.predict(XX_trans)\n",
    "scoring_dict[\"Lasso Regression with 1-se rule\"] = np.mean((yy - yyhat)**2)**0.5\n",
    "print(f\"raw price 1se rule RMSE = {np.mean((yy - yyhat)**2)**0.5:.4f}\")\n",
    "\n",
    "## 1-se-rule predictor : transformed price\n",
    "mse_list_trans = LassoCV_trans.mse_path_.mean(1)\n",
    "indx_trans = np.where(mse_list_trans == np.min(mse_list_trans))\n",
    "min_mse_trans = mse_list_trans[indx_trans]\n",
    "min_std_trans = LassoCV_trans.mse_path_.std(1)[indx]\n",
    "simple_indx_trans = np.min(np.where(mse_list_trans <= min_mse_trans + min_std_trans / np.sqrt(10)))\n",
    "predictr_1se = sklearn.linear_model.ElasticNet(alpha = LassoCV_trans.alphas_[simple_indx_trans], l1_ratio = 1)\n",
    "predictr_1se.fit(X_trans, y_trans)\n",
    "yyhat = y_scalr.inverse_transform(predictr_1se.predict(XX_trans).reshape(-1,1)).reshape(-1)\n",
    "scoring_dict[\"Lasso Regression with transformed price & 1-se rule\"] = np.mean((yy - yyhat)**2)**0.5\n",
    "print(f\"transformed price 1se rule RMSE = {np.mean((yy - yyhat)**2)**0.5:.4f}\")"
   ]
  },
  {
   "cell_type": "code",
   "execution_count": 55,
   "metadata": {},
   "outputs": [
    {
     "name": "stderr",
     "output_type": "stream",
     "text": [
      "<>:7: SyntaxWarning: invalid escape sequence '\\l'\n",
      "<>:18: SyntaxWarning: invalid escape sequence '\\l'\n",
      "<>:7: SyntaxWarning: invalid escape sequence '\\l'\n",
      "<>:18: SyntaxWarning: invalid escape sequence '\\l'\n",
      "/tmp/ipykernel_3029333/4013080677.py:7: SyntaxWarning: invalid escape sequence '\\l'\n",
      "  axs[0].set_xlabel('$-\\log(\\lambda)$', fontsize=20)\n",
      "/tmp/ipykernel_3029333/4013080677.py:18: SyntaxWarning: invalid escape sequence '\\l'\n",
      "  axs[1].set_xlabel('$-\\log(\\lambda)$', fontsize=20)\n"
     ]
    },
    {
     "data": {
      "image/png": "[encoded data removed]",
      "text/plain": [
       "<Figure size 1600x800 with 2 Axes>"
      ]
     },
     "metadata": {},
     "output_type": "display_data"
    },
    {
     "name": "stdout",
     "output_type": "stream",
     "text": [
      "선택된 lambda(raw) =  19.17910,  5094.13801\n",
      "선택된 lambda(powertransform) =  0.00061,  0.00614\n"
     ]
    }
   ],
   "source": [
    "## plotting\n",
    "LassoCV_fig, axs = plt.subplots(1, 2, figsize=(16,8))\n",
    "axs[0].errorbar(-np.log(LassoCV.alphas_), LassoCV.mse_path_.mean(1),\n",
    "            yerr=LassoCV.mse_path_.std(1) / np.sqrt(10))\n",
    "axs[0].axvline(-np.log(LassoCV.alpha_), c='k', ls='--')\n",
    "axs[0].axhline(min_mse + min_std / np.sqrt(10), c = 'k', ls = '--')\n",
    "axs[0].set_xlabel('$-\\log(\\lambda)$', fontsize=20)\n",
    "axs[0].set_ylabel('Cross-validated MSE', fontsize=20)\n",
    "axs[0].scatter(-np.log(LassoCV.alphas_[simple_indx]), mse_list[simple_indx],\n",
    "           color = \"red\", s = 15, label = \"1-se rule selection\", zorder = 5)\n",
    "axs[0].set_title(\"반응변수 변환이 없는 경우 CV MSE와 그 표준오차\")\n",
    "axs[0].legend()\n",
    "\n",
    "axs[1].errorbar(-np.log(LassoCV_trans.alphas_), LassoCV_trans.mse_path_.mean(1),\n",
    "            yerr=LassoCV_trans.mse_path_.std(1) / np.sqrt(10))\n",
    "axs[1].axvline(-np.log(LassoCV_trans.alpha_), c='k', ls='--')\n",
    "axs[1].axhline(min_mse_trans + min_std_trans / np.sqrt(10), c = 'k', ls = '--')\n",
    "axs[1].set_xlabel('$-\\log(\\lambda)$', fontsize=20)\n",
    "axs[1].set_ylabel('Cross-validated MSE', fontsize=20)\n",
    "axs[1].scatter(-np.log(LassoCV_trans.alphas_[simple_indx_trans]), mse_list_trans[simple_indx_trans],\n",
    "           color = \"red\", s = 15, label = \"1-se rule selection\", zorder = 5)\n",
    "axs[1].set_title(\"반응변수를 파워변환 한 경우 CV MSE와 그 표준오차\")\n",
    "axs[1].legend()\n",
    "\n",
    "plt.show()\n",
    "\n",
    "## showing parameter\n",
    "print(f'선택된 lambda(raw) = {LassoCV.alpha_ : .5f}, {LassoCV.alphas_[simple_indx] : .5f}')\n",
    "print(f\"선택된 lambda(powertransform) = {LassoCV_trans.alpha_ : .5f}, {LassoCV_trans.alphas_[simple_indx_trans] : .5f}\")"
   ]
  },
  {
   "cell_type": "code",
   "execution_count": 18,
   "metadata": {},
   "outputs": [
    {
     "data": {
      "text/plain": [
       "2980.9579870417283"
      ]
     },
     "execution_count": 18,
     "metadata": {},
     "output_type": "execute_result"
    }
   ],
   "source": [
    "np.exp(8)"
   ]
  },
  {
   "cell_type": "code",
   "execution_count": 56,
   "metadata": {},
   "outputs": [],
   "source": [
    "with open(\"scoring_dict.pkl\", \"wb\") as f :\n",
    "    pickle.dump(scoring_dict, f)"
   ]
  },
  {
   "cell_type": "code",
   "execution_count": null,
   "metadata": {},
   "outputs": [],
   "source": []
  },
  {
   "cell_type": "code",
   "execution_count": 33,
   "metadata": {},
   "outputs": [
    {
     "data": {
      "text/plain": [
       "{'Linear Regression with days': 196509.2480378606,\n",
       " 'Linear Regression with month': 196439.31546500308,\n",
       " 'Ridge Regression': 196381.86090422017,\n",
       " 'Ridge Regression with transformed price': 221208.76803379238,\n",
       " 'Ridge Regression with 1-se rule': 200062.39715456305,\n",
       " 'Ridge Regression with transformed price & 1-se rule': 240907.14965825903,\n",
       " 'GAM': 156864.5731076838,\n",
       " 'GAM with 1-se rule': 165829.69703731456,\n",
       " 'XGBoost CV': 107541.7772014463,\n",
       " 'Tree CV': 172828.85210206837,\n",
       " 'Linear Regression with Reduction': 192870.63556905373,\n",
       " 'PCR with 26th PC': 192850.14039133323,\n",
       " 'Lasso Regression': 196381.78750713536,\n",
       " 'Lasso Regression with transformed price': 221208.62262207255,\n",
       " 'Lasso Regression with 1-se rule': 200062.39715456305,\n",
       " 'Lasso Regression with transformed price & 1-se rule': 241576.01843636567}"
      ]
     },
     "execution_count": 33,
     "metadata": {},
     "output_type": "execute_result"
    }
   ],
   "source": [
    "scoring_dict"
   ]
  },
  {
   "cell_type": "code",
   "execution_count": 27,
   "metadata": {},
   "outputs": [],
   "source": [
    "import pandas as pd\n",
    "import numpy as np\n",
    "import pickle\n",
    "\n",
    "import plotly.express as px\n",
    "import plotly.graph_objects as go"
   ]
  },
  {
   "cell_type": "code",
   "execution_count": 2,
   "metadata": {},
   "outputs": [],
   "source": [
    "with open(\"scoring_dict.pkl\", \"rb\") as f :\n",
    "    scoring_dict = pickle.load(f)"
   ]
  },
  {
   "cell_type": "code",
   "execution_count": 24,
   "metadata": {},
   "outputs": [],
   "source": [
    "linear_dict = {k:float(v) for k, v in scoring_dict.items() if ((\"Linear\" in k) or (\"Ridge\" in k) or (\"Lasso\" in k)) and (\"Reduction\" not in k)}"
   ]
  },
  {
   "cell_type": "code",
   "execution_count": 93,
   "metadata": {},
   "outputs": [
    {
     "data": {
      "application/vnd.plotly.v1+json": {
       "config": {
        "plotlyServerURL": "https://plot.ly"
       },
       "data": [
        {
         "marker": {
          "color": [
           "skyblue",
           "skyblue",
           "green",
           "green",
           "green",
           "green",
           "blue",
           "blue",
           "blue",
           "blue"
          ],
          "line": {
           "color": [
            "red",
            "skyblue",
            "red",
            "green",
            "green",
            "green",
            "red",
            "blue",
            "blue",
            "blue"
           ],
           "width": 5
          }
         },
         "orientation": "h",
         "text": [
          196439.31546500308,
          196509.2480378606,
          196381.86090422017,
          200062.39715456305,
          221208.76803379238,
          240907.14965825903,
          196397.3734658347,
          199762.3828611226,
          221208.7977211929,
          237982.51678638675
         ],
         "texttemplate": "%{text:.4f}",
         "type": "bar",
         "x": [
          196439.31546500308,
          196509.2480378606,
          196381.86090422017,
          200062.39715456305,
          221208.76803379238,
          240907.14965825903,
          196397.3734658347,
          199762.3828611226,
          221208.7977211929,
          237982.51678638675
         ],
         "y": [
          "Linear Regression with month",
          "Linear Regression with days",
          "Ridge Regression",
          "Ridge Regression with 1-se rule",
          "Ridge Regression with transformed price",
          "Ridge Regression with transformed price & 1-se rule",
          "Lasso Regression",
          "Lasso Regression with 1-se rule",
          "Lasso Regression with transformed price",
          "Lasso Regression with transformed price & 1-se rule"
         ]
        }
       ],
       "layout": {
        "height": 800,
        "template": {
         "data": {
          "bar": [
           {
            "error_x": {
             "color": "#2a3f5f"
            },
            "error_y": {
             "color": "#2a3f5f"
            },
            "marker": {
             "line": {
              "color": "#E5ECF6",
              "width": 0.5
             },
             "pattern": {
              "fillmode": "overlay",
              "size": 10,
              "solidity": 0.2
             }
            },
            "type": "bar"
           }
          ],
          "barpolar": [
           {
            "marker": {
             "line": {
              "color": "#E5ECF6",
              "width": 0.5
             },
             "pattern": {
              "fillmode": "overlay",
              "size": 10,
              "solidity": 0.2
             }
            },
            "type": "barpolar"
           }
          ],
          "carpet": [
           {
            "aaxis": {
             "endlinecolor": "#2a3f5f",
             "gridcolor": "white",
             "linecolor": "white",
             "minorgridcolor": "white",
             "startlinecolor": "#2a3f5f"
            },
            "baxis": {
             "endlinecolor": "#2a3f5f",
             "gridcolor": "white",
             "linecolor": "white",
             "minorgridcolor": "white",
             "startlinecolor": "#2a3f5f"
            },
            "type": "carpet"
           }
          ],
          "choropleth": [
           {
            "colorbar": {
             "outlinewidth": 0,
             "ticks": ""
            },
            "type": "choropleth"
           }
          ],
          "contour": [
           {
            "colorbar": {
             "outlinewidth": 0,
             "ticks": ""
            },
            "colorscale": [
             [
              0,
              "#0d0887"
             ],
             [
              0.1111111111111111,
              "#46039f"
             ],
             [
              0.2222222222222222,
              "#7201a8"
             ],
             [
              0.3333333333333333,
              "#9c179e"
             ],
             [
              0.4444444444444444,
              "#bd3786"
             ],
             [
              0.5555555555555556,
              "#d8576b"
             ],
             [
              0.6666666666666666,
              "#ed7953"
             ],
             [
              0.7777777777777778,
              "#fb9f3a"
             ],
             [
              0.8888888888888888,
              "#fdca26"
             ],
             [
              1,
              "#f0f921"
             ]
            ],
            "type": "contour"
           }
          ],
          "contourcarpet": [
           {
            "colorbar": {
             "outlinewidth": 0,
             "ticks": ""
            },
            "type": "contourcarpet"
           }
          ],
          "heatmap": [
           {
            "colorbar": {
             "outlinewidth": 0,
             "ticks": ""
            },
            "colorscale": [
             [
              0,
              "#0d0887"
             ],
             [
              0.1111111111111111,
              "#46039f"
             ],
             [
              0.2222222222222222,
              "#7201a8"
             ],
             [
              0.3333333333333333,
              "#9c179e"
             ],
             [
              0.4444444444444444,
              "#bd3786"
             ],
             [
              0.5555555555555556,
              "#d8576b"
             ],
             [
              0.6666666666666666,
              "#ed7953"
             ],
             [
              0.7777777777777778,
              "#fb9f3a"
             ],
             [
              0.8888888888888888,
              "#fdca26"
             ],
             [
              1,
              "#f0f921"
             ]
            ],
            "type": "heatmap"
           }
          ],
          "heatmapgl": [
           {
            "colorbar": {
             "outlinewidth": 0,
             "ticks": ""
            },
            "colorscale": [
             [
              0,
              "#0d0887"
             ],
             [
              0.1111111111111111,
              "#46039f"
             ],
             [
              0.2222222222222222,
              "#7201a8"
             ],
             [
              0.3333333333333333,
              "#9c179e"
             ],
             [
              0.4444444444444444,
              "#bd3786"
             ],
             [
              0.5555555555555556,
              "#d8576b"
             ],
             [
              0.6666666666666666,
              "#ed7953"
             ],
             [
              0.7777777777777778,
              "#fb9f3a"
             ],
             [
              0.8888888888888888,
              "#fdca26"
             ],
             [
              1,
              "#f0f921"
             ]
            ],
            "type": "heatmapgl"
           }
          ],
          "histogram": [
           {
            "marker": {
             "pattern": {
              "fillmode": "overlay",
              "size": 10,
              "solidity": 0.2
             }
            },
            "type": "histogram"
           }
          ],
          "histogram2d": [
           {
            "colorbar": {
             "outlinewidth": 0,
             "ticks": ""
            },
            "colorscale": [
             [
              0,
              "#0d0887"
             ],
             [
              0.1111111111111111,
              "#46039f"
             ],
             [
              0.2222222222222222,
              "#7201a8"
             ],
             [
              0.3333333333333333,
              "#9c179e"
             ],
             [
              0.4444444444444444,
              "#bd3786"
             ],
             [
              0.5555555555555556,
              "#d8576b"
             ],
             [
              0.6666666666666666,
              "#ed7953"
             ],
             [
              0.7777777777777778,
              "#fb9f3a"
             ],
             [
              0.8888888888888888,
              "#fdca26"
             ],
             [
              1,
              "#f0f921"
             ]
            ],
            "type": "histogram2d"
           }
          ],
          "histogram2dcontour": [
           {
            "colorbar": {
             "outlinewidth": 0,
             "ticks": ""
            },
            "colorscale": [
             [
              0,
              "#0d0887"
             ],
             [
              0.1111111111111111,
              "#46039f"
             ],
             [
              0.2222222222222222,
              "#7201a8"
             ],
             [
              0.3333333333333333,
              "#9c179e"
             ],
             [
              0.4444444444444444,
              "#bd3786"
             ],
             [
              0.5555555555555556,
              "#d8576b"
             ],
             [
              0.6666666666666666,
              "#ed7953"
             ],
             [
              0.7777777777777778,
              "#fb9f3a"
             ],
             [
              0.8888888888888888,
              "#fdca26"
             ],
             [
              1,
              "#f0f921"
             ]
            ],
            "type": "histogram2dcontour"
           }
          ],
          "mesh3d": [
           {
            "colorbar": {
             "outlinewidth": 0,
             "ticks": ""
            },
            "type": "mesh3d"
           }
          ],
          "parcoords": [
           {
            "line": {
             "colorbar": {
              "outlinewidth": 0,
              "ticks": ""
             }
            },
            "type": "parcoords"
           }
          ],
          "pie": [
           {
            "automargin": true,
            "type": "pie"
           }
          ],
          "scatter": [
           {
            "fillpattern": {
             "fillmode": "overlay",
             "size": 10,
             "solidity": 0.2
            },
            "type": "scatter"
           }
          ],
          "scatter3d": [
           {
            "line": {
             "colorbar": {
              "outlinewidth": 0,
              "ticks": ""
             }
            },
            "marker": {
             "colorbar": {
              "outlinewidth": 0,
              "ticks": ""
             }
            },
            "type": "scatter3d"
           }
          ],
          "scattercarpet": [
           {
            "marker": {
             "colorbar": {
              "outlinewidth": 0,
              "ticks": ""
             }
            },
            "type": "scattercarpet"
           }
          ],
          "scattergeo": [
           {
            "marker": {
             "colorbar": {
              "outlinewidth": 0,
              "ticks": ""
             }
            },
            "type": "scattergeo"
           }
          ],
          "scattergl": [
           {
            "marker": {
             "colorbar": {
              "outlinewidth": 0,
              "ticks": ""
             }
            },
            "type": "scattergl"
           }
          ],
          "scattermapbox": [
           {
            "marker": {
             "colorbar": {
              "outlinewidth": 0,
              "ticks": ""
             }
            },
            "type": "scattermapbox"
           }
          ],
          "scatterpolar": [
           {
            "marker": {
             "colorbar": {
              "outlinewidth": 0,
              "ticks": ""
             }
            },
            "type": "scatterpolar"
           }
          ],
          "scatterpolargl": [
           {
            "marker": {
             "colorbar": {
              "outlinewidth": 0,
              "ticks": ""
             }
            },
            "type": "scatterpolargl"
           }
          ],
          "scatterternary": [
           {
            "marker": {
             "colorbar": {
              "outlinewidth": 0,
              "ticks": ""
             }
            },
            "type": "scatterternary"
           }
          ],
          "surface": [
           {
            "colorbar": {
             "outlinewidth": 0,
             "ticks": ""
            },
            "colorscale": [
             [
              0,
              "#0d0887"
             ],
             [
              0.1111111111111111,
              "#46039f"
             ],
             [
              0.2222222222222222,
              "#7201a8"
             ],
             [
              0.3333333333333333,
              "#9c179e"
             ],
             [
              0.4444444444444444,
              "#bd3786"
             ],
             [
              0.5555555555555556,
              "#d8576b"
             ],
             [
              0.6666666666666666,
              "#ed7953"
             ],
             [
              0.7777777777777778,
              "#fb9f3a"
             ],
             [
              0.8888888888888888,
              "#fdca26"
             ],
             [
              1,
              "#f0f921"
             ]
            ],
            "type": "surface"
           }
          ],
          "table": [
           {
            "cells": {
             "fill": {
              "color": "#EBF0F8"
             },
             "line": {
              "color": "white"
             }
            },
            "header": {
             "fill": {
              "color": "#C8D4E3"
             },
             "line": {
              "color": "white"
             }
            },
            "type": "table"
           }
          ]
         },
         "layout": {
          "annotationdefaults": {
           "arrowcolor": "#2a3f5f",
           "arrowhead": 0,
           "arrowwidth": 1
          },
          "autotypenumbers": "strict",
          "coloraxis": {
           "colorbar": {
            "outlinewidth": 0,
            "ticks": ""
           }
          },
          "colorscale": {
           "diverging": [
            [
             0,
             "#8e0152"
            ],
            [
             0.1,
             "#c51b7d"
            ],
            [
             0.2,
             "#de77ae"
            ],
            [
             0.3,
             "#f1b6da"
            ],
            [
             0.4,
             "#fde0ef"
            ],
            [
             0.5,
             "#f7f7f7"
            ],
            [
             0.6,
             "#e6f5d0"
            ],
            [
             0.7,
             "#b8e186"
            ],
            [
             0.8,
             "#7fbc41"
            ],
            [
             0.9,
             "#4d9221"
            ],
            [
             1,
             "#276419"
            ]
           ],
           "sequential": [
            [
             0,
             "#0d0887"
            ],
            [
             0.1111111111111111,
             "#46039f"
            ],
            [
             0.2222222222222222,
             "#7201a8"
            ],
            [
             0.3333333333333333,
             "#9c179e"
            ],
            [
             0.4444444444444444,
             "#bd3786"
            ],
            [
             0.5555555555555556,
             "#d8576b"
            ],
            [
             0.6666666666666666,
             "#ed7953"
            ],
            [
             0.7777777777777778,
             "#fb9f3a"
            ],
            [
             0.8888888888888888,
             "#fdca26"
            ],
            [
             1,
             "#f0f921"
            ]
           ],
           "sequentialminus": [
            [
             0,
             "#0d0887"
            ],
            [
             0.1111111111111111,
             "#46039f"
            ],
            [
             0.2222222222222222,
             "#7201a8"
            ],
            [
             0.3333333333333333,
             "#9c179e"
            ],
            [
             0.4444444444444444,
             "#bd3786"
            ],
            [
             0.5555555555555556,
             "#d8576b"
            ],
            [
             0.6666666666666666,
             "#ed7953"
            ],
            [
             0.7777777777777778,
             "#fb9f3a"
            ],
            [
             0.8888888888888888,
             "#fdca26"
            ],
            [
             1,
             "#f0f921"
            ]
           ]
          },
          "colorway": [
           "#636efa",
           "#EF553B",
           "#00cc96",
           "#ab63fa",
           "#FFA15A",
           "#19d3f3",
           "#FF6692",
           "#B6E880",
           "#FF97FF",
           "#FECB52"
          ],
          "font": {
           "color": "#2a3f5f"
          },
          "geo": {
           "bgcolor": "white",
           "lakecolor": "white",
           "landcolor": "#E5ECF6",
           "showlakes": true,
           "showland": true,
           "subunitcolor": "white"
          },
          "hoverlabel": {
           "align": "left"
          },
          "hovermode": "closest",
          "mapbox": {
           "style": "light"
          },
          "paper_bgcolor": "white",
          "plot_bgcolor": "#E5ECF6",
          "polar": {
           "angularaxis": {
            "gridcolor": "white",
            "linecolor": "white",
            "ticks": ""
           },
           "bgcolor": "#E5ECF6",
           "radialaxis": {
            "gridcolor": "white",
            "linecolor": "white",
            "ticks": ""
           }
          },
          "scene": {
           "xaxis": {
            "backgroundcolor": "#E5ECF6",
            "gridcolor": "white",
            "gridwidth": 2,
            "linecolor": "white",
            "showbackground": true,
            "ticks": "",
            "zerolinecolor": "white"
           },
           "yaxis": {
            "backgroundcolor": "#E5ECF6",
            "gridcolor": "white",
            "gridwidth": 2,
            "linecolor": "white",
            "showbackground": true,
            "ticks": "",
            "zerolinecolor": "white"
           },
           "zaxis": {
            "backgroundcolor": "#E5ECF6",
            "gridcolor": "white",
            "gridwidth": 2,
            "linecolor": "white",
            "showbackground": true,
            "ticks": "",
            "zerolinecolor": "white"
           }
          },
          "shapedefaults": {
           "line": {
            "color": "#2a3f5f"
           }
          },
          "ternary": {
           "aaxis": {
            "gridcolor": "white",
            "linecolor": "white",
            "ticks": ""
           },
           "baxis": {
            "gridcolor": "white",
            "linecolor": "white",
            "ticks": ""
           },
           "bgcolor": "#E5ECF6",
           "caxis": {
            "gridcolor": "white",
            "linecolor": "white",
            "ticks": ""
           }
          },
          "title": {
           "x": 0.05
          },
          "xaxis": {
           "automargin": true,
           "gridcolor": "white",
           "linecolor": "white",
           "ticks": "",
           "title": {
            "standoff": 15
           },
           "zerolinecolor": "white",
           "zerolinewidth": 2
          },
          "yaxis": {
           "automargin": true,
           "gridcolor": "white",
           "linecolor": "white",
           "ticks": "",
           "title": {
            "standoff": 15
           },
           "zerolinecolor": "white",
           "zerolinewidth": 2
          }
         }
        },
        "title": {
         "font": {
          "size": 30
         },
         "text": "선형 모형 적합결과의 비교(RMSE)",
         "x": 0.5,
         "y": 0.95
        }
       }
      },
      "text/html": [
       "<div>                            <div id=\"ff2dd7e9-a67a-464d-9907-feb5d98ac27d\" class=\"plotly-graph-div\" style=\"height:800px; width:100%;\"></div>            <script type=\"text/javascript\">                require([\"plotly\"], function(Plotly) {                    window.PLOTLYENV=window.PLOTLYENV || {};                                    if (document.getElementById(\"ff2dd7e9-a67a-464d-9907-feb5d98ac27d\")) {                    Plotly.newPlot(                        \"ff2dd7e9-a67a-464d-9907-feb5d98ac27d\",                        [{\"marker\":{\"line\":{\"color\":[\"red\",\"skyblue\",\"red\",\"green\",\"green\",\"green\",\"red\",\"blue\",\"blue\",\"blue\"],\"width\":5},\"color\":[\"skyblue\",\"skyblue\",\"green\",\"green\",\"green\",\"green\",\"blue\",\"blue\",\"blue\",\"blue\"]},\"orientation\":\"h\",\"text\":[196439.31546500308,196509.2480378606,196381.86090422017,200062.39715456305,221208.76803379238,240907.14965825903,196397.3734658347,199762.3828611226,221208.7977211929,237982.51678638675],\"texttemplate\":\"%{text:.4f}\",\"x\":[196439.31546500308,196509.2480378606,196381.86090422017,200062.39715456305,221208.76803379238,240907.14965825903,196397.3734658347,199762.3828611226,221208.7977211929,237982.51678638675],\"y\":[\"Linear Regression with month\",\"Linear Regression with days\",\"Ridge Regression\",\"Ridge Regression with 1-se rule\",\"Ridge Regression with transformed price\",\"Ridge Regression with transformed price & 1-se rule\",\"Lasso Regression\",\"Lasso Regression with 1-se rule\",\"Lasso Regression with transformed price\",\"Lasso Regression with transformed price & 1-se rule\"],\"type\":\"bar\"}],                        {\"template\":{\"data\":{\"histogram2dcontour\":[{\"type\":\"histogram2dcontour\",\"colorbar\":{\"outlinewidth\":0,\"ticks\":\"\"},\"colorscale\":[[0.0,\"#0d0887\"],[0.1111111111111111,\"#46039f\"],[0.2222222222222222,\"#7201a8\"],[0.3333333333333333,\"#9c179e\"],[0.4444444444444444,\"#bd3786\"],[0.5555555555555556,\"#d8576b\"],[0.6666666666666666,\"#ed7953\"],[0.7777777777777778,\"#fb9f3a\"],[0.8888888888888888,\"#fdca26\"],[1.0,\"#f0f921\"]]}],\"choropleth\":[{\"type\":\"choropleth\",\"colorbar\":{\"outlinewidth\":0,\"ticks\":\"\"}}],\"histogram2d\":[{\"type\":\"histogram2d\",\"colorbar\":{\"outlinewidth\":0,\"ticks\":\"\"},\"colorscale\":[[0.0,\"#0d0887\"],[0.1111111111111111,\"#46039f\"],[0.2222222222222222,\"#7201a8\"],[0.3333333333333333,\"#9c179e\"],[0.4444444444444444,\"#bd3786\"],[0.5555555555555556,\"#d8576b\"],[0.6666666666666666,\"#ed7953\"],[0.7777777777777778,\"#fb9f3a\"],[0.8888888888888888,\"#fdca26\"],[1.0,\"#f0f921\"]]}],\"heatmap\":[{\"type\":\"heatmap\",\"colorbar\":{\"outlinewidth\":0,\"ticks\":\"\"},\"colorscale\":[[0.0,\"#0d0887\"],[0.1111111111111111,\"#46039f\"],[0.2222222222222222,\"#7201a8\"],[0.3333333333333333,\"#9c179e\"],[0.4444444444444444,\"#bd3786\"],[0.5555555555555556,\"#d8576b\"],[0.6666666666666666,\"#ed7953\"],[0.7777777777777778,\"#fb9f3a\"],[0.8888888888888888,\"#fdca26\"],[1.0,\"#f0f921\"]]}],\"heatmapgl\":[{\"type\":\"heatmapgl\",\"colorbar\":{\"outlinewidth\":0,\"ticks\":\"\"},\"colorscale\":[[0.0,\"#0d0887\"],[0.1111111111111111,\"#46039f\"],[0.2222222222222222,\"#7201a8\"],[0.3333333333333333,\"#9c179e\"],[0.4444444444444444,\"#bd3786\"],[0.5555555555555556,\"#d8576b\"],[0.6666666666666666,\"#ed7953\"],[0.7777777777777778,\"#fb9f3a\"],[0.8888888888888888,\"#fdca26\"],[1.0,\"#f0f921\"]]}],\"contourcarpet\":[{\"type\":\"contourcarpet\",\"colorbar\":{\"outlinewidth\":0,\"ticks\":\"\"}}],\"contour\":[{\"type\":\"contour\",\"colorbar\":{\"outlinewidth\":0,\"ticks\":\"\"},\"colorscale\":[[0.0,\"#0d0887\"],[0.1111111111111111,\"#46039f\"],[0.2222222222222222,\"#7201a8\"],[0.3333333333333333,\"#9c179e\"],[0.4444444444444444,\"#bd3786\"],[0.5555555555555556,\"#d8576b\"],[0.6666666666666666,\"#ed7953\"],[0.7777777777777778,\"#fb9f3a\"],[0.8888888888888888,\"#fdca26\"],[1.0,\"#f0f921\"]]}],\"surface\":[{\"type\":\"surface\",\"colorbar\":{\"outlinewidth\":0,\"ticks\":\"\"},\"colorscale\":[[0.0,\"#0d0887\"],[0.1111111111111111,\"#46039f\"],[0.2222222222222222,\"#7201a8\"],[0.3333333333333333,\"#9c179e\"],[0.4444444444444444,\"#bd3786\"],[0.5555555555555556,\"#d8576b\"],[0.6666666666666666,\"#ed7953\"],[0.7777777777777778,\"#fb9f3a\"],[0.8888888888888888,\"#fdca26\"],[1.0,\"#f0f921\"]]}],\"mesh3d\":[{\"type\":\"mesh3d\",\"colorbar\":{\"outlinewidth\":0,\"ticks\":\"\"}}],\"scatter\":[{\"fillpattern\":{\"fillmode\":\"overlay\",\"size\":10,\"solidity\":0.2},\"type\":\"scatter\"}],\"parcoords\":[{\"type\":\"parcoords\",\"line\":{\"colorbar\":{\"outlinewidth\":0,\"ticks\":\"\"}}}],\"scatterpolargl\":[{\"type\":\"scatterpolargl\",\"marker\":{\"colorbar\":{\"outlinewidth\":0,\"ticks\":\"\"}}}],\"bar\":[{\"error_x\":{\"color\":\"#2a3f5f\"},\"error_y\":{\"color\":\"#2a3f5f\"},\"marker\":{\"line\":{\"color\":\"#E5ECF6\",\"width\":0.5},\"pattern\":{\"fillmode\":\"overlay\",\"size\":10,\"solidity\":0.2}},\"type\":\"bar\"}],\"scattergeo\":[{\"type\":\"scattergeo\",\"marker\":{\"colorbar\":{\"outlinewidth\":0,\"ticks\":\"\"}}}],\"scatterpolar\":[{\"type\":\"scatterpolar\",\"marker\":{\"colorbar\":{\"outlinewidth\":0,\"ticks\":\"\"}}}],\"histogram\":[{\"marker\":{\"pattern\":{\"fillmode\":\"overlay\",\"size\":10,\"solidity\":0.2}},\"type\":\"histogram\"}],\"scattergl\":[{\"type\":\"scattergl\",\"marker\":{\"colorbar\":{\"outlinewidth\":0,\"ticks\":\"\"}}}],\"scatter3d\":[{\"type\":\"scatter3d\",\"line\":{\"colorbar\":{\"outlinewidth\":0,\"ticks\":\"\"}},\"marker\":{\"colorbar\":{\"outlinewidth\":0,\"ticks\":\"\"}}}],\"scattermapbox\":[{\"type\":\"scattermapbox\",\"marker\":{\"colorbar\":{\"outlinewidth\":0,\"ticks\":\"\"}}}],\"scatterternary\":[{\"type\":\"scatterternary\",\"marker\":{\"colorbar\":{\"outlinewidth\":0,\"ticks\":\"\"}}}],\"scattercarpet\":[{\"type\":\"scattercarpet\",\"marker\":{\"colorbar\":{\"outlinewidth\":0,\"ticks\":\"\"}}}],\"carpet\":[{\"aaxis\":{\"endlinecolor\":\"#2a3f5f\",\"gridcolor\":\"white\",\"linecolor\":\"white\",\"minorgridcolor\":\"white\",\"startlinecolor\":\"#2a3f5f\"},\"baxis\":{\"endlinecolor\":\"#2a3f5f\",\"gridcolor\":\"white\",\"linecolor\":\"white\",\"minorgridcolor\":\"white\",\"startlinecolor\":\"#2a3f5f\"},\"type\":\"carpet\"}],\"table\":[{\"cells\":{\"fill\":{\"color\":\"#EBF0F8\"},\"line\":{\"color\":\"white\"}},\"header\":{\"fill\":{\"color\":\"#C8D4E3\"},\"line\":{\"color\":\"white\"}},\"type\":\"table\"}],\"barpolar\":[{\"marker\":{\"line\":{\"color\":\"#E5ECF6\",\"width\":0.5},\"pattern\":{\"fillmode\":\"overlay\",\"size\":10,\"solidity\":0.2}},\"type\":\"barpolar\"}],\"pie\":[{\"automargin\":true,\"type\":\"pie\"}]},\"layout\":{\"autotypenumbers\":\"strict\",\"colorway\":[\"#636efa\",\"#EF553B\",\"#00cc96\",\"#ab63fa\",\"#FFA15A\",\"#19d3f3\",\"#FF6692\",\"#B6E880\",\"#FF97FF\",\"#FECB52\"],\"font\":{\"color\":\"#2a3f5f\"},\"hovermode\":\"closest\",\"hoverlabel\":{\"align\":\"left\"},\"paper_bgcolor\":\"white\",\"plot_bgcolor\":\"#E5ECF6\",\"polar\":{\"bgcolor\":\"#E5ECF6\",\"angularaxis\":{\"gridcolor\":\"white\",\"linecolor\":\"white\",\"ticks\":\"\"},\"radialaxis\":{\"gridcolor\":\"white\",\"linecolor\":\"white\",\"ticks\":\"\"}},\"ternary\":{\"bgcolor\":\"#E5ECF6\",\"aaxis\":{\"gridcolor\":\"white\",\"linecolor\":\"white\",\"ticks\":\"\"},\"baxis\":{\"gridcolor\":\"white\",\"linecolor\":\"white\",\"ticks\":\"\"},\"caxis\":{\"gridcolor\":\"white\",\"linecolor\":\"white\",\"ticks\":\"\"}},\"coloraxis\":{\"colorbar\":{\"outlinewidth\":0,\"ticks\":\"\"}},\"colorscale\":{\"sequential\":[[0.0,\"#0d0887\"],[0.1111111111111111,\"#46039f\"],[0.2222222222222222,\"#7201a8\"],[0.3333333333333333,\"#9c179e\"],[0.4444444444444444,\"#bd3786\"],[0.5555555555555556,\"#d8576b\"],[0.6666666666666666,\"#ed7953\"],[0.7777777777777778,\"#fb9f3a\"],[0.8888888888888888,\"#fdca26\"],[1.0,\"#f0f921\"]],\"sequentialminus\":[[0.0,\"#0d0887\"],[0.1111111111111111,\"#46039f\"],[0.2222222222222222,\"#7201a8\"],[0.3333333333333333,\"#9c179e\"],[0.4444444444444444,\"#bd3786\"],[0.5555555555555556,\"#d8576b\"],[0.6666666666666666,\"#ed7953\"],[0.7777777777777778,\"#fb9f3a\"],[0.8888888888888888,\"#fdca26\"],[1.0,\"#f0f921\"]],\"diverging\":[[0,\"#8e0152\"],[0.1,\"#c51b7d\"],[0.2,\"#de77ae\"],[0.3,\"#f1b6da\"],[0.4,\"#fde0ef\"],[0.5,\"#f7f7f7\"],[0.6,\"#e6f5d0\"],[0.7,\"#b8e186\"],[0.8,\"#7fbc41\"],[0.9,\"#4d9221\"],[1,\"#276419\"]]},\"xaxis\":{\"gridcolor\":\"white\",\"linecolor\":\"white\",\"ticks\":\"\",\"title\":{\"standoff\":15},\"zerolinecolor\":\"white\",\"automargin\":true,\"zerolinewidth\":2},\"yaxis\":{\"gridcolor\":\"white\",\"linecolor\":\"white\",\"ticks\":\"\",\"title\":{\"standoff\":15},\"zerolinecolor\":\"white\",\"automargin\":true,\"zerolinewidth\":2},\"scene\":{\"xaxis\":{\"backgroundcolor\":\"#E5ECF6\",\"gridcolor\":\"white\",\"linecolor\":\"white\",\"showbackground\":true,\"ticks\":\"\",\"zerolinecolor\":\"white\",\"gridwidth\":2},\"yaxis\":{\"backgroundcolor\":\"#E5ECF6\",\"gridcolor\":\"white\",\"linecolor\":\"white\",\"showbackground\":true,\"ticks\":\"\",\"zerolinecolor\":\"white\",\"gridwidth\":2},\"zaxis\":{\"backgroundcolor\":\"#E5ECF6\",\"gridcolor\":\"white\",\"linecolor\":\"white\",\"showbackground\":true,\"ticks\":\"\",\"zerolinecolor\":\"white\",\"gridwidth\":2}},\"shapedefaults\":{\"line\":{\"color\":\"#2a3f5f\"}},\"annotationdefaults\":{\"arrowcolor\":\"#2a3f5f\",\"arrowhead\":0,\"arrowwidth\":1},\"geo\":{\"bgcolor\":\"white\",\"landcolor\":\"#E5ECF6\",\"subunitcolor\":\"white\",\"showland\":true,\"showlakes\":true,\"lakecolor\":\"white\"},\"title\":{\"x\":0.05},\"mapbox\":{\"style\":\"light\"}}},\"title\":{\"font\":{\"size\":30},\"text\":\"\\uc120\\ud615 \\ubaa8\\ud615 \\uc801\\ud569\\uacb0\\uacfc\\uc758 \\ube44\\uad50(RMSE)\",\"x\":0.5,\"y\":0.95},\"height\":800},                        {\"responsive\": true}                    ).then(function(){\n",
       "                            \n",
       "var gd = document.getElementById('ff2dd7e9-a67a-464d-9907-feb5d98ac27d');\n",
       "var x = new MutationObserver(function (mutations, observer) {{\n",
       "        var display = window.getComputedStyle(gd).display;\n",
       "        if (!display || display === 'none') {{\n",
       "            console.log([gd, 'removed!']);\n",
       "            Plotly.purge(gd);\n",
       "            observer.disconnect();\n",
       "        }}\n",
       "}});\n",
       "\n",
       "// Listen for the removal of the full notebook cells\n",
       "var notebookContainer = gd.closest('#notebook-container');\n",
       "if (notebookContainer) {{\n",
       "    x.observe(notebookContainer, {childList: true});\n",
       "}}\n",
       "\n",
       "// Listen for the clearing of the current output cell\n",
       "var outputEl = gd.closest('.output');\n",
       "if (outputEl) {{\n",
       "    x.observe(outputEl, {childList: true});\n",
       "}}\n",
       "\n",
       "                        })                };                });            </script>        </div>"
      ]
     },
     "metadata": {},
     "output_type": "display_data"
    }
   ],
   "source": [
    "df_score = pd.DataFrame({\"method\" : linear_dict.keys(), \"score\" : linear_dict.values()}).iloc[[1,0,2,4,3,5,6,8,7,9]]\n",
    "\n",
    "fig = go.Figure()\n",
    "fig.add_trace(\n",
    "    go.Bar(\n",
    "        x = df_score.score,\n",
    "        y = df_score.method,\n",
    "        text = df_score.score,\n",
    "        orientation = \"h\",\n",
    "        texttemplate = \"%{text:.4f}\",\n",
    "        marker_line=dict(width=5, color='black')\n",
    "    )\n",
    ")\n",
    "\n",
    "fig.update_layout(height = 800, title = dict(text=\"선형 모형 적합결과의 비교(RMSE)\", font=dict(size=30), x = 0.5, y = 0.95))\n",
    "fig[\"data\"][0][\"marker\"][\"color\"] = [\"skyblue\"]*2 + [\"green\"]*4 + [\"blue\"]*4\n",
    "fig[\"data\"][0][\"marker\"][\"line\"][\"color\"] = [\"red\", \"skyblue\"] + [\"red\"] + [\"green\"]*3 + [\"red\"] + [\"blue\"]*3\n",
    "\n",
    "fig.show()"
   ]
  },
  {
   "cell_type": "code",
   "execution_count": null,
   "metadata": {},
   "outputs": [],
   "source": []
  }
 ],
 "metadata": {
  "kernelspec": {
   "display_name": "plot",
   "language": "python",
   "name": "python3"
  },
  "language_info": {
   "codemirror_mode": {
    "name": "ipython",
    "version": 3
   },
   "file_extension": ".py",
   "mimetype": "text/x-python",
   "name": "python",
   "nbconvert_exporter": "python",
   "pygments_lexer": "ipython3",
   "version": "3.13.1"
  }
 },
 "nbformat": 4,
 "nbformat_minor": 2
}
