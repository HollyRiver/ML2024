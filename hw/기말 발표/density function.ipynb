{
 "cells": [
  {
   "cell_type": "markdown",
   "metadata": {},
   "source": [
    "### King County Data"
   ]
  },
  {
   "cell_type": "code",
   "execution_count": 1,
   "metadata": {},
   "outputs": [],
   "source": [
    "import warnings\n",
    "\n",
    "import pandas as pd\n",
    "import numpy as np\n",
    "from itertools import accumulate\n",
    "\n",
    "import matplotlib.pyplot as plt\n",
    "\n",
    "%matplotlib inline\n",
    "\n",
    "from sklearn.preprocessing import StandardScaler\n",
    "from sklearn.decomposition import PCA, KernelPCA\n",
    "from sklearn.model_selection import train_test_split\n",
    "from sklearn.compose import ColumnTransformer\n",
    "from sklearn.preprocessing import OneHotEncoder\n",
    "\n",
    "warnings.filterwarnings(\"ignore\", category=UserWarning)"
   ]
  },
  {
   "cell_type": "code",
   "execution_count": 2,
   "metadata": {},
   "outputs": [],
   "source": [
    "housing_price = pd.read_csv(\"kc_house_data.csv\")\n",
    "\n",
    "## 전처리\n",
    "df_preprocessed = housing_price.drop([\"id\", \"date\", \"price\"], axis = 1)\\\n",
    ".assign(date = pd.to_datetime(housing_price.date)).assign(price = housing_price.price)\n",
    "\n",
    "## scores recoding\n",
    "scoring_dict = dict()"
   ]
  },
  {
   "cell_type": "code",
   "execution_count": 3,
   "metadata": {},
   "outputs": [],
   "source": [
    "def month_days_split(df_train : pd.DataFrame, df_test : pd.DataFrame) :\n",
    "    \"\"\"\n",
    "    train/test set에서 `date` 열을 월별과 일별로 따로 분석하기 위한 함수\n",
    "    \"\"\"\n",
    "    test_month = df_test.date.dt.month.astype(str)\n",
    "    test_days = df_test.date.map(lambda x : x - df_preprocessed.date.min()).dt.days\n",
    "    train_month = df_train.date.dt.month.astype(str)\n",
    "    train_days = df_train.date.map(lambda x : x - df_preprocessed.date.min()).dt.days\n",
    "    \n",
    "    return [train_month, train_days], [test_month, test_days]\n",
    "\n",
    "df_train, df_test = train_test_split(df_preprocessed, test_size = 0.3, shuffle = True, random_state = 14107)\n",
    "df_train = df_train.reset_index(drop = True)\n",
    "df_test = df_test.reset_index(drop = True)\n",
    "\n",
    "train_date, test_date = month_days_split(df_train, df_test)"
   ]
  },
  {
   "cell_type": "code",
   "execution_count": 4,
   "metadata": {},
   "outputs": [],
   "source": [
    "X = df_train.drop([\"date\", \"price\"], axis = 1).assign(days = train_date[1]) ## 일별\n",
    "y = df_train.price\n",
    "\n",
    "XX = df_test.drop([\"date\", \"price\"], axis = 1).assign(days = test_date[1])\n",
    "yy = df_test.price"
   ]
  },
  {
   "cell_type": "markdown",
   "metadata": {},
   "source": []
  }
 ],
 "metadata": {
  "kernelspec": {
   "display_name": "skl",
   "language": "python",
   "name": "python3"
  },
  "language_info": {
   "codemirror_mode": {
    "name": "ipython",
    "version": 3
   },
   "file_extension": ".py",
   "mimetype": "text/x-python",
   "name": "python",
   "nbconvert_exporter": "python",
   "pygments_lexer": "ipython3",
   "version": "3.12.8"
  }
 },
 "nbformat": 4,
 "nbformat_minor": 2
}
