{
 "cells": [
  {
   "cell_type": "markdown",
   "metadata": {},
   "source": [
    "<div style=\"text-align: center; font-size:x-large;\">기계학습 과제 2</div>\n",
    "\n",
    "<div style=\"text-align: center; font-size:large;\">2024. 11</div>"
   ]
  },
  {
   "cell_type": "markdown",
   "metadata": {},
   "source": [
    "### 개요"
   ]
  },
  {
   "cell_type": "markdown",
   "metadata": {},
   "source": [
    "&nbsp; 해당 분석은 **kaggle**의 **Student Performance Factors** 데이터셋을 사용하여 진행되었으며, 학생의 시험 성적에 영향을 미치는 다양한 요인들을 포함하고 있다. 이 데이터셋은 실제 기관에서 수집된 것이 아닌 교육 및 분석 목적으로 생성된 시뮬레이션 데이터셋임이 명시되어 있다."
   ]
  },
  {
   "cell_type": "code",
   "execution_count": 1,
   "metadata": {},
   "outputs": [],
   "source": [
    "import pandas as pd\n",
    "import numpy as np"
   ]
  },
  {
   "cell_type": "markdown",
   "metadata": {},
   "source": [
    "### 데이터"
   ]
  },
  {
   "cell_type": "markdown",
   "metadata": {},
   "source": [
    "&nbsp; **Student Performance Factors** 데이터셋(이하, 학생 성과 요인 데이터셋)은 총 6607개의 관측값과 20개의 변수로 구성된다. 아래 표는 개별 변수에 대한 구체적인 설명이다.\n",
    "\n",
    "|변수|타입|설명|부가사항|\n",
    "|:-|:-|:-|:-|\n",
    "|Hours_Studied|integer|주별 공부 시간||\n",
    "|Attendance|integer|출석률||\n",
    "|Previous_Scores|integer|이전 시험에서 받은 점수||\n",
    "|Tutoring_Sessions|integer|월간 참석한 튜터링 세션<sup>[1](#tutering)</sup>의 수||\n",
    "|Physical_Activity|integer|매주 평균 신체활동을 하는 시간||\n",
    "|Sleep_Hours|integer|일별 평균 수면 시간||\n",
    "|Extracurricular_Activities|binary|방과후 활동 참여 여부(Yes/No)||\n",
    "|Internet_Access|binary|인터넷 접속 가능 여부(Yes/No)||\n",
    "|Learning_Disabilities|binary|학습 장애<sup>[2](#disability)</sup> 보유 여부(Yes/No)||\n",
    "|Gender|binary|성별(Male/Female)||\n",
    "|School_Type|binary|재학중인 학교의 유형(Public/Private)||\n",
    "|Parental_Involvement|category|학생 교육에 대한 부모의 참여 수준(Low/Medium/High)||\n",
    "|Access_to_Resources|category|교육에 필요한 자원의 이용 가능성(Low/Medium/High)||\n",
    "|Motivation_Level|category|학생의 동기 수준(Low/Medium/High)||\n",
    "|Family_Income|category|가구 소득 수준(Low/Medium/High)||\n",
    "|Peer_Influence|category|학업에 또래 친구가 미치는 영향(Positive/Neutral/Negative)||\n",
    "|Teacher_Quality|category|교사의 수준(Low/Medium/High)|결측치 존재|\n",
    "|Parental_Education_Level|category|부모의 최고 학력 수준(HighSchool/College/Postgraduate)|결측치 존재|\n",
    "|Distance_from_Home|category|집에서 학교까지의 거리 수준(Near, Moderate, Far)|결측치 존재|\n",
    "|Exam_Score|integer|최종 시험 점수|반응변수|\n",
    "\n",
    "\n",
    "<a name=\"tutering\">1</a> : 학습 보충 또는 향상을 위해 참여하는 개인ㆍ소그룹 교육 세션\n",
    "\n",
    "<a name=\"disability\">2</a> : 보통 혹은 그 이상의 지능을 가지고 있음에도 개인의 내적인 요인으로 인해 기본적인 학습 능력에 심한 어려움이 있는 상태"
   ]
  },
  {
   "cell_type": "code",
   "execution_count": 9,
   "metadata": {},
   "outputs": [],
   "source": [
    "sorted_lst = [\"Hours_Studied\", \"Attendance\", \"Previous_Scores\", \"Tutoring_Sessions\", \"Physical_Activity\", \"Sleep_Hours\", \"Extracurricular_Activities\", \"Internet_Access\", \"Learning_Disabilities\", \"Gender\", \"School_Type\", \"Parental_Involvement\", \"Access_to_Resources\", \"Motivation_Level\", \"Family_Income\", \"Peer_Influence\", \"Teacher_Quality\", \"Parental_Education_Level\", \"Distance_from_Home\", \"Exam_Score\"]"
   ]
  },
  {
   "cell_type": "code",
   "execution_count": 10,
   "metadata": {},
   "outputs": [
    {
     "name": "stdout",
     "output_type": "stream",
     "text": [
      "<class 'pandas.core.frame.DataFrame'>\n",
      "RangeIndex: 6607 entries, 0 to 6606\n",
      "Data columns (total 20 columns):\n",
      " #   Column                      Non-Null Count  Dtype \n",
      "---  ------                      --------------  ----- \n",
      " 0   Hours_Studied               6607 non-null   int64 \n",
      " 1   Attendance                  6607 non-null   int64 \n",
      " 2   Previous_Scores             6607 non-null   int64 \n",
      " 3   Tutoring_Sessions           6607 non-null   int64 \n",
      " 4   Physical_Activity           6607 non-null   int64 \n",
      " 5   Sleep_Hours                 6607 non-null   int64 \n",
      " 6   Extracurricular_Activities  6607 non-null   object\n",
      " 7   Internet_Access             6607 non-null   object\n",
      " 8   Learning_Disabilities       6607 non-null   object\n",
      " 9   Gender                      6607 non-null   object\n",
      " 10  School_Type                 6607 non-null   object\n",
      " 11  Parental_Involvement        6607 non-null   object\n",
      " 12  Access_to_Resources         6607 non-null   object\n",
      " 13  Motivation_Level            6607 non-null   object\n",
      " 14  Family_Income               6607 non-null   object\n",
      " 15  Peer_Influence              6607 non-null   object\n",
      " 16  Teacher_Quality             6529 non-null   object\n",
      " 17  Parental_Education_Level    6517 non-null   object\n",
      " 18  Distance_from_Home          6540 non-null   object\n",
      " 19  Exam_Score                  6607 non-null   int64 \n",
      "dtypes: int64(7), object(13)\n",
      "memory usage: 1.0+ MB\n"
     ]
    }
   ],
   "source": [
    "Students[sorted_lst].info()"
   ]
  },
  {
   "cell_type": "code",
   "execution_count": 5,
   "metadata": {},
   "outputs": [
    {
     "data": {
      "text/plain": [
       "(6607, 20)"
      ]
     },
     "execution_count": 5,
     "metadata": {},
     "output_type": "execute_result"
    }
   ],
   "source": [
    "Students.shape"
   ]
  },
  {
   "cell_type": "code",
   "execution_count": 3,
   "metadata": {},
   "outputs": [],
   "source": [
    "Students = pd.read_csv(\"/root/ML2024/hw/StudentPerformanceFactors.csv\")"
   ]
  },
  {
   "cell_type": "code",
   "execution_count": 4,
   "metadata": {},
   "outputs": [
    {
     "name": "stdout",
     "output_type": "stream",
     "text": [
      "<class 'pandas.core.frame.DataFrame'>\n",
      "RangeIndex: 6607 entries, 0 to 6606\n",
      "Data columns (total 20 columns):\n",
      " #   Column                      Non-Null Count  Dtype \n",
      "---  ------                      --------------  ----- \n",
      " 0   Hours_Studied               6607 non-null   int64 \n",
      " 1   Attendance                  6607 non-null   int64 \n",
      " 2   Parental_Involvement        6607 non-null   object\n",
      " 3   Access_to_Resources         6607 non-null   object\n",
      " 4   Extracurricular_Activities  6607 non-null   object\n",
      " 5   Sleep_Hours                 6607 non-null   int64 \n",
      " 6   Previous_Scores             6607 non-null   int64 \n",
      " 7   Motivation_Level            6607 non-null   object\n",
      " 8   Internet_Access             6607 non-null   object\n",
      " 9   Tutoring_Sessions           6607 non-null   int64 \n",
      " 10  Family_Income               6607 non-null   object\n",
      " 11  Teacher_Quality             6529 non-null   object\n",
      " 12  School_Type                 6607 non-null   object\n",
      " 13  Peer_Influence              6607 non-null   object\n",
      " 14  Physical_Activity           6607 non-null   int64 \n",
      " 15  Learning_Disabilities       6607 non-null   object\n",
      " 16  Parental_Education_Level    6517 non-null   object\n",
      " 17  Distance_from_Home          6540 non-null   object\n",
      " 18  Gender                      6607 non-null   object\n",
      " 19  Exam_Score                  6607 non-null   int64 \n",
      "dtypes: int64(7), object(13)\n",
      "memory usage: 1.0+ MB\n"
     ]
    }
   ],
   "source": [
    "Students.info()"
   ]
  },
  {
   "cell_type": "code",
   "execution_count": null,
   "metadata": {},
   "outputs": [],
   "source": []
  }
 ],
 "metadata": {
  "kernelspec": {
   "display_name": "py",
   "language": "python",
   "name": "python3"
  },
  "language_info": {
   "codemirror_mode": {
    "name": "ipython",
    "version": 3
   },
   "file_extension": ".py",
   "mimetype": "text/x-python",
   "name": "python",
   "nbconvert_exporter": "python",
   "pygments_lexer": "ipython3",
   "version": "3.10.14"
  }
 },
 "nbformat": 4,
 "nbformat_minor": 2
}
