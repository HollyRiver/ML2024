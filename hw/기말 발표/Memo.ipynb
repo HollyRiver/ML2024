{
 "cells": [
  {
   "cell_type": "code",
   "execution_count": null,
   "id": "da1b9dc8-d00b-4987-92bc-307882b9408c",
   "metadata": {},
   "outputs": [],
   "source": [
    "## Full model\n",
    "predictr = LinearRegression()\n",
    "predictr.fit(X, y)\n",
    "yhat = predictr.predict(X)\n",
    "\n",
    "## estimate sigma squared\n",
    "n = len(y)\n",
    "n_features = X.shape[1]\n",
    "sigma_sq = np.sum((y - yhat)**2)/(n-n_features-1)\n",
    "\n",
    "other_features = X.drop(\"Apps\", axis = 1)\n",
    "\n",
    "## outputs\n",
    "Cps = [0.0]*(n_features-1)\n",
    "Interaction_term = [\"\"]*(n_features-1)\n",
    "\n",
    "for i in range(n_features-1) :\n",
    "    ## make interaction term\n",
    "    X_tmp = X.assign(Interaction = X[[\"Apps\", other_features.columns[i]]].assign(Interaction = lambda _df : _df.Apps*_df.iloc[:, 1]).Interaction)\n",
    "\n",
    "    ## modeling\n",
    "    predictr = LinearRegression()\n",
    "    predictr.fit(X_tmp, y)\n",
    "    yhat = predictr.predict(X_tmp)\n",
    "    \n",
    "    RSS = np.sum((y - yhat)**2)\n",
    "\n",
    "    Cps[i] = calculate_mallows_cp(X_tmp, y, RSS, sigma_sq)\n",
    "    Interaction_term[i] = \"Apps*\"+other_features.columns[i]\n",
    "\n",
    "pd.DataFrame({\"Interaction term\" : Interaction_term, \"Cp\" : Cps})"
   ]
  }
 ],
 "metadata": {
  "kernelspec": {
   "display_name": "Python 3 (ipykernel)",
   "language": "python",
   "name": "python3"
  },
  "language_info": {
   "codemirror_mode": {
    "name": "ipython",
    "version": 3
   },
   "file_extension": ".py",
   "mimetype": "text/x-python",
   "name": "python",
   "nbconvert_exporter": "python",
   "pygments_lexer": "ipython3",
   "version": "3.10.14"
  }
 },
 "nbformat": 4,
 "nbformat_minor": 5
}
