{
 "cells": [
  {
   "cell_type": "markdown",
   "metadata": {},
   "source": [
    "<div style=\"text-align: center; font-size:x-large;\">기계학습 과제 2</div>\n",
    "\n",
    "<div style=\"text-align: center; font-size:large;\">2024. 11</div>"
   ]
  },
  {
   "cell_type": "markdown",
   "metadata": {},
   "source": [
    "### 개요"
   ]
  },
  {
   "cell_type": "markdown",
   "metadata": {},
   "source": [
    "&nbsp; 해당 분석은 **kaggle**의 **House Sales in King County, USA** 데이터셋을 사용하여 진행되었으며, 해당 데이터셋은 워싱턴에서 가장 인구가 많은 King County에서 2014년 5월부터 2015년 5월까지 이뤄진 실제 주택 거래 정보를 가지고 있다."
   ]
  },
  {
   "cell_type": "code",
   "execution_count": 1,
   "metadata": {},
   "outputs": [],
   "source": [
    "import pandas as pd\n",
    "import numpy as np"
   ]
  },
  {
   "cell_type": "markdown",
   "metadata": {},
   "source": [
    "### 데이터"
   ]
  },
  {
   "cell_type": "markdown",
   "metadata": {},
   "source": [
    "&nbsp; **House Sales in King County, USA** 데이터셋(이하, 주택 판매 데이터셋)은 총 21,613개의 관측값과 21개의 변수로 구성된다. 아래 표는 개별 변수에 대한 구체적인 설명이다.\n",
    "\n",
    "|변수|타입|설명|부가사항|\n",
    "|:-|:-|:-|:-|\n",
    "|id|integer|주택 판매 고유번호||\n",
    "|date|object|주택 판매 일자||\n",
    "|bedrooms|integer|침실의 수||\n",
    "|bathrooms|float|화장실의 수|소수점(0.5)은 목욕 시설이 없는 화장실을 의미|\n",
    "|sqft_living|integer|주택 내부 총 생활공간의 면적$(\\text{ft}^2)$||\n",
    "|sqft_lot|integer|가용한 토지공간의 면적$(\\text{ft}^2)$||\n",
    "|floors|float|주택의 층수|소수점(0.5)은 다락과 같은 부가적인 공간을 의미|\n",
    "|waterfront|binary|주택이 물가를 바라보고 있는지의 여부|1은 물가를 바라보는 것을 의미|\n",
    "|view|integer|주택의 전망에 대한 평가 지수|0부터 4까지의 값을 가지며, 클수록 좋음|\n",
    "|condition|integer|주택 상태에 대한 평가 지수|1부터 5까지의 값을 가지며, 클수록 좋음|\n",
    "|grade|integer|주택의 건축 및 디자인에 대한 전반적인 품질 수준 평가 지수|1부터 13까지의 값을 가지며, 클수록 좋음|\n",
    "|sqft_above|integer|지면 위 주택 내부 공간의 면적$(\\text{ft}^2)$||\n",
    "|sqft_basement|integer|지면 아래 주택 내부 공간의 면적$(\\text{ft}^2)$||\n",
    "|yr_built|integer|주택 완공년도||\n",
    "|yr_renovated|integer|주택을 마지막으로 보수한 연도|0은 완공 이후 보수하지 않았음을 의미|\n",
    "|zipcode|integer|주택이 속하는 우편번호 지역||\n",
    "|lat|float|주택 위치의 위도||\n",
    "|long|float|주택 위치의 경도||\n",
    "|sqft_living15|integer|가장 가까운 15개 가구의 주택 내부 총 생활공간의 면적$(\\text{ft}^2)$||\n",
    "|sqft_lot15|integer|가장 가까운 15개 가구의 총 가용 토지공간의 면적$(\\text{ft}^2)$||\n",
    "|price|float|주택 판매 가격||"
   ]
  },
  {
   "cell_type": "code",
   "execution_count": 3,
   "metadata": {},
   "outputs": [],
   "source": [
    "HouseSales = pd.read_csv(\"/root/ML2024/hw/kc_house_data.csv\")"
   ]
  },
  {
   "cell_type": "code",
   "execution_count": 4,
   "metadata": {},
   "outputs": [
    {
     "name": "stdout",
     "output_type": "stream",
     "text": [
      "           id             date      price  bedrooms  bathrooms  sqft_living  \\\n",
      "0  7129300520  20141013T000000   221900.0         3       1.00         1180   \n",
      "1  6414100192  20141209T000000   538000.0         3       2.25         2570   \n",
      "2  5631500400  20150225T000000   180000.0         2       1.00          770   \n",
      "3  2487200875  20141209T000000   604000.0         4       3.00         1960   \n",
      "4  1954400510  20150218T000000   510000.0         3       2.00         1680   \n",
      "5  7237550310  20140512T000000  1225000.0         4       4.50         5420   \n",
      "6  1321400060  20140627T000000   257500.0         3       2.25         1715   \n",
      "7  2008000270  20150115T000000   291850.0         3       1.50         1060   \n",
      "8  2414600126  20150415T000000   229500.0         3       1.00         1780   \n",
      "9  3793500160  20150312T000000   323000.0         3       2.50         1890   \n",
      "\n",
      "   sqft_lot  floors  waterfront  view  condition  grade  sqft_above  \\\n",
      "0      5650     1.0           0     0          3      7        1180   \n",
      "1      7242     2.0           0     0          3      7        2170   \n",
      "2     10000     1.0           0     0          3      6         770   \n",
      "3      5000     1.0           0     0          5      7        1050   \n",
      "4      8080     1.0           0     0          3      8        1680   \n",
      "5    101930     1.0           0     0          3     11        3890   \n",
      "6      6819     2.0           0     0          3      7        1715   \n",
      "7      9711     1.0           0     0          3      7        1060   \n",
      "8      7470     1.0           0     0          3      7        1050   \n",
      "9      6560     2.0           0     0          3      7        1890   \n",
      "\n",
      "   sqft_basement  yr_built  yr_renovated  zipcode      lat     long  \\\n",
      "0              0      1955             0    98178  47.5112 -122.257   \n",
      "1            400      1951          1991    98125  47.7210 -122.319   \n",
      "2              0      1933             0    98028  47.7379 -122.233   \n",
      "3            910      1965             0    98136  47.5208 -122.393   \n",
      "4              0      1987             0    98074  47.6168 -122.045   \n",
      "5           1530      2001             0    98053  47.6561 -122.005   \n",
      "6              0      1995             0    98003  47.3097 -122.327   \n",
      "7              0      1963             0    98198  47.4095 -122.315   \n",
      "8            730      1960             0    98146  47.5123 -122.337   \n",
      "9              0      2003             0    98038  47.3684 -122.031   \n",
      "\n",
      "   sqft_living15  sqft_lot15  \n",
      "0           1340        5650  \n",
      "1           1690        7639  \n",
      "2           2720        8062  \n",
      "3           1360        5000  \n",
      "4           1800        7503  \n",
      "5           4760      101930  \n",
      "6           2238        6819  \n",
      "7           1650        9711  \n",
      "8           1780        8113  \n",
      "9           2390        7570  \n"
     ]
    }
   ],
   "source": [
    "pd.set_option(\"display.max_columns\", None)\n",
    "pd.set_option(\"display.max_rows\", None)\n",
    "print(HouseSales.head(10))"
   ]
  }
 ],
 "metadata": {
  "kernelspec": {
   "display_name": "py",
   "language": "python",
   "name": "python3"
  },
  "language_info": {
   "codemirror_mode": {
    "name": "ipython",
    "version": 3
   },
   "file_extension": ".py",
   "mimetype": "text/x-python",
   "name": "python",
   "nbconvert_exporter": "python",
   "pygments_lexer": "ipython3",
   "version": "3.10.14"
  }
 },
 "nbformat": 4,
 "nbformat_minor": 2
}
