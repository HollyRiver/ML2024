{
 "cells": [
  {
   "cell_type": "markdown",
   "metadata": {},
   "source": [
    "<div style=\"text-align: center; font-size:x-large;\">기계학습 과제 3</div>\n",
    "\n",
    "<div style=\"text-align: center; font-size:large;\">2024. 12</div>"
   ]
  },
  {
   "cell_type": "markdown",
   "metadata": {},
   "source": [
    "* 과제 2에서 선정한 데이터 및 목표를 가지고 부스팅 알고리즘 중 하나를 적용하여 그 코드와 결과를 보고하시오. 단, 최적의 학습 설정에 대해서는 CV를 사용하시오.\n",
    "\n",
    "* 기말 발표에 대해서 아래 표를 점검하고 진행 완료된 것에 대하여 O를 표시해서 제출하시오.\n",
    "\n",
    "|항목|진행여부|\n",
    "|:-:|:-:|\n",
    "|데이터 확정|O|\n",
    "|데이터 설명(이름, 크기와 변수명, 목표)|O|\n",
    "|데이터 시각화 및 EDA|O|\n",
    "|일반 모형 적용(Linear Regression e.t.c.)|O|\n",
    "|벌점 함수 적용(RIDGE or LASSO)|O|\n",
    "|비선형 적용(GAM etc)|O|\n",
    "|나무 모형(TREE)||\n",
    "|부스팅(BOOSTING)||\n",
    "|SVM||\n",
    "|기타 비지도학습(추가)||"
   ]
  },
  {
   "cell_type": "markdown",
   "metadata": {},
   "source": [
    "## **`XGBoost` 모형 적합**"
   ]
  },
  {
   "cell_type": "markdown",
   "metadata": {},
   "source": [
    "&nbsp; 설명변수들이 전부 수치형 변수이므로, `XGBoost`를 이용하여 모형 적합하는 것의 예측 성능이 가장 뛰어날 것으로 판단된다. 부스팅 알고리즘은 변수 간 비선형 관계도 잘 설명할 수 있으므로, 표준화 등 변수의 변환은 수행하지 않고, 문자열로 입력된 거래일자 `date` 변수만 수치형으로 변환한 뒤 그대로 분석하도록 하겠다."
   ]
  },
  {
   "cell_type": "markdown",
   "metadata": {},
   "source": [
    "## **1. imports**"
   ]
  },
  {
   "cell_type": "code",
   "execution_count": 2,
   "metadata": {},
   "outputs": [],
   "source": [
    "import pandas as pd\n",
    "import numpy as np\n",
    "import warnings\n",
    "\n",
    "import matplotlib.pyplot as plt\n",
    "\n",
    "from sklearn.model_selection import train_test_split\n",
    "from sklearn.pipeline import Pipeline\n",
    "from sklearn.metrics import mean_squared_error\n",
    "\n",
    "from xgboost import XGBRegressor\n",
    "\n",
    "from skopt import BayesSearchCV\n",
    "\n",
    "warnings.filterwarnings(\"ignore\", category=UserWarning)"
   ]
  },
  {
   "cell_type": "code",
   "execution_count": 3,
   "metadata": {},
   "outputs": [],
   "source": [
    "from sklearn.compose import ColumnTransformer"
   ]
  },
  {
   "cell_type": "markdown",
   "metadata": {},
   "source": [
    "## **2. Data**"
   ]
  },
  {
   "cell_type": "code",
   "execution_count": 6,
   "metadata": {},
   "outputs": [],
   "source": [
    "## 원본 데이터\n",
    "housing_price = pd.read_csv(\"./기말 발표/kc_house_data.csv\")\n",
    "\n",
    "## date 열 처리\n",
    "df_preprocessed = housing_price.drop([\"id\", \"date\", \"price\"], axis = 1)\\\n",
    ".assign(date = pd.to_datetime(housing_price.date)).assign(price = housing_price.price)\n",
    "\n",
    "## train/test set 분리\n",
    "train_test_split"
   ]
  },
  {
   "cell_type": "markdown",
   "metadata": {},
   "source": [
    "## **3. 하이퍼파라미터 튜닝**"
   ]
  },
  {
   "cell_type": "code",
   "execution_count": null,
   "metadata": {},
   "outputs": [],
   "source": [
    "predictr = XGBRegressor()\n",
    "\n",
    "fit_params = {\n",
    "    'early_stopping_rounds': 10,\n",
    "    'eval_set':[(X, y)],\n",
    "    'verbose': False,\n",
    "}\n",
    "\n",
    "search_space = {\n",
    "    'max_depth': (0, 50),\n",
    "    'n_estimators': (100, 1000),\n",
    "    'learning_rate': (0.01, 1.0, 'log-uniform'),\n",
    "    'gamma': (1e-9, 0.5, 'log-uniform'),\n",
    "    'scale_pos_weight': (1e-6, 500, 'log-uniform'),\n",
    "}"
   ]
  }
 ],
 "metadata": {
  "kernelspec": {
   "display_name": "Python 3 (ipykernel)",
   "language": "python",
   "name": "python3"
  },
  "language_info": {
   "codemirror_mode": {
    "name": "ipython",
    "version": 3
   },
   "file_extension": ".py",
   "mimetype": "text/x-python",
   "name": "python",
   "nbconvert_exporter": "python",
   "pygments_lexer": "ipython3",
   "version": "3.10.14"
  }
 },
 "nbformat": 4,
 "nbformat_minor": 4
}
