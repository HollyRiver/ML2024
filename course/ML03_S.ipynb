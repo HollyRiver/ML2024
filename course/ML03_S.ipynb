{
 "cells": [
  {
   "cell_type": "code",
   "execution_count": 2,
   "metadata": {
    "id": "exg-79VXogZO"
   },
   "outputs": [],
   "source": [
    "import itertools\n",
    "import numpy as np\n",
    "import pandas as pd\n",
    "from sklearn.linear_model import LinearRegression\n",
    "from sklearn.metrics import mean_squared_error\n",
    "\n",
    "# Sample data\n",
    "np.random.seed(5)\n",
    "X = pd.DataFrame(2+2*np.random.randn(100, 5), columns=['X1', 'X2', 'X3', 'X4', 'X5'])\n",
    "y = 1.5*X['X1'] + X['X3'] + 2 * X['X5'] + np.random.randn(100)"
   ]
  },
  {
   "cell_type": "code",
   "execution_count": 5,
   "metadata": {
    "id": "pU6wi_Z4ouLi"
   },
   "outputs": [],
   "source": [
    "# Define the function to calculate Mallows' Cp\n",
    "def calculate_mallows_cp(X, y, model, residual_sum_of_squares, sigma_squared):\n",
    "    n = len(y)\n",
    "    p = X.shape[1]  # Number of predictors in the model\n",
    "    cp = residual_sum_of_squares / sigma_squared   - (n - 2 * p) # sigma_squared - vay(y)\n",
    "    return cp\n",
    "\n",
    "# Best subset selection using Mallows' Cp\n",
    "def best_subset_selection_mallows_cp(X, y):\n",
    "    n_features = X.shape[1]\n",
    "    model = LinearRegression()\n",
    "    model.fit(X, y)\n",
    "    n = len(y)\n",
    "    predictions = model.predict(X)\n",
    "    sigma_squared = np.sum((y - predictions) ** 2)/(n-n_features-1)\n",
    "    best_cp = float('inf')\n",
    "    best_subset = None\n",
    "    all_combinations = []\n",
    "\n",
    "    # Iterate over all possible feature subsets\n",
    "    for k in range(1, n_features + 1):\n",
    "        for subset in itertools.combinations(range(n_features), k):\n",
    "            X_subset = X.iloc[:, list(subset)]\n",
    "            model = LinearRegression()\n",
    "            model.fit(X_subset, y)\n",
    "            predictions = model.predict(X_subset)\n",
    "            residual_sum_of_squares = np.sum((y - predictions) ** 2)\n",
    "            cp = calculate_mallows_cp(X_subset, y, model, residual_sum_of_squares, sigma_squared)\n",
    "            all_combinations.append((subset, cp))\n",
    "\n",
    "            # Update best subset if the current Cp is better\n",
    "            if cp < best_cp:\n",
    "                print(cp-best_cp)\n",
    "                best_cp = cp\n",
    "                best_subset = subset\n",
    "\n",
    "    return best_subset, best_cp, all_combinations"
   ]
  },
  {
   "cell_type": "code",
   "execution_count": 6,
   "metadata": {
    "colab": {
     "base_uri": "https://localhost:8080/"
    },
    "id": "YWgCIm47pA3Q",
    "outputId": "deccfc59-3e06-42cc-91e8-10fe47b3890a"
   },
   "outputs": [
    {
     "name": "stdout",
     "output_type": "stream",
     "text": [
      "-inf\n",
      "-621.5337367979432\n",
      "-724.4866065373296\n",
      "-410.03788025545\n",
      "Best subset: (0, 2, 4)\n",
      "Best Mallows' Cp: 1.9466260283789723\n"
     ]
    }
   ],
   "source": [
    "# Find the best subset using Mallows' Cp\n",
    "best_subset, best_cp, all_combinations = best_subset_selection_mallows_cp(X, y)\n",
    "# Output the best subset\n",
    "print(f'Best subset: {best_subset}')\n",
    "print(f'Best Mallows\\' Cp: {best_cp}')"
   ]
  }
 ],
 "metadata": {
  "colab": {
   "provenance": []
  },
  "kernelspec": {
   "display_name": "Python 3 (ipykernel)",
   "language": "python",
   "name": "python3"
  },
  "language_info": {
   "codemirror_mode": {
    "name": "ipython",
    "version": 3
   },
   "file_extension": ".py",
   "mimetype": "text/x-python",
   "name": "python",
   "nbconvert_exporter": "python",
   "pygments_lexer": "ipython3",
   "version": "3.10.14"
  }
 },
 "nbformat": 4,
 "nbformat_minor": 4
}
