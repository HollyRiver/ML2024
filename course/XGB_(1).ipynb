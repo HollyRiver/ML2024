{
 "cells": [
  {
   "cell_type": "markdown",
   "metadata": {},
   "source": [
    "## XGBoost"
   ]
  },
  {
   "cell_type": "code",
   "execution_count": 2,
   "metadata": {
    "executionInfo": {
     "elapsed": 342,
     "status": "ok",
     "timestamp": 1733325695550,
     "user": {
      "displayName": "김광수",
      "userId": "04260902725982947063"
     },
     "user_tz": -540
    },
    "id": "0Agt3LZn6XkK"
   },
   "outputs": [],
   "source": [
    "from sklearn.model_selection import train_test_split\n",
    "X, y = diamonds.drop('price', axis=1), diamonds[['price']]\n",
    "\n",
    "cats = X.select_dtypes(exclude=np.number).columns.tolist()\n",
    "# Convert to Pandas category\n",
    "for col in cats:\n",
    "   X[col] = X[col].astype('category')\n",
    "\n",
    "X_train, X_test, y_train, y_test = train_test_split(X, y, random_state=1)\n",
    "import xgboost as xgb"
   ]
  },
  {
   "cell_type": "code",
   "execution_count": null,
   "metadata": {},
   "outputs": [],
   "source": [
    "dtrain_reg = xgb.DMatrix(X_train, y_train, enable_categorical=True)\n",
    "dtest_reg = xgb.DMatrix(X_test, y_test, enable_categorical=True)\n",
    "params = {\"objective\": \"reg:squarederror\"} ## 목적함수. 손실함수랑 똑같은 말이라고 볼 수 있음.\n",
    "\n",
    "n = 500\n",
    "model = xgb.train(\n",
    "   params = params,\n",
    "   dtrain = dtrain_reg, ## data\n",
    "   num_boost_round = n, ## 몇 개의 나무를 쓸 것이냐.\n",
    ")"
   ]
  },
  {
   "cell_type": "markdown",
   "metadata": {},
   "source": [
    "> `DMatrix`는 써도 되고, 안써도 되나, 쓰는 쪽이 더 좋음. 약간 데이터프레임 인코딩하는 느낌으로다가.\n",
    ">\n",
    "> 2차 미분까지 사용하므로, `loss_function`은 반드시 `convex`한 형태여야 함.\n",
    ">\n",
    "> 존나 오래걸리네"
   ]
  },
  {
   "cell_type": "code",
   "execution_count": null,
   "metadata": {
    "colab": {
     "base_uri": "https://localhost:8080/"
    },
    "executionInfo": {
     "elapsed": 531,
     "status": "ok",
     "timestamp": 1733325699917,
     "user": {
      "displayName": "김광수",
      "userId": "04260902725982947063"
     },
     "user_tz": -540
    },
    "id": "MpjYP4FL8N9S",
    "outputId": "86a38453-79a1-4207-856b-8c2a6f10c66e"
   },
   "outputs": [
    {
     "name": "stdout",
     "output_type": "stream",
     "text": [
      "RMSE of the base model: 564.712\n"
     ]
    }
   ],
   "source": [
    "from sklearn.metrics import mean_squared_error\n",
    "\n",
    "preds = model.predict(dtest_reg)\n",
    "rmse = mean_squared_error(y_test, preds, squared=False)\n",
    "\n",
    "print(f\"RMSE of the base model: {rmse:.3f}\")"
   ]
  },
  {
   "cell_type": "code",
   "execution_count": null,
   "metadata": {
    "colab": {
     "base_uri": "https://localhost:8080/"
    },
    "executionInfo": {
     "elapsed": 711,
     "status": "ok",
     "timestamp": 1733325703002,
     "user": {
      "displayName": "김광수",
      "userId": "04260902725982947063"
     },
     "user_tz": -540
    },
    "id": "U2hvZmQb8hml",
    "outputId": "0f07a451-be8b-4413-b52b-e1b2f1d46ac3"
   },
   "outputs": [
    {
     "name": "stdout",
     "output_type": "stream",
     "text": [
      "[0]\ttrain-rmse:2874.49146\tvalidation-rmse:2817.90814\n",
      "[1]\ttrain-rmse:2092.16823\tvalidation-rmse:2054.95423\n",
      "[2]\ttrain-rmse:1552.12189\tvalidation-rmse:1527.41146\n",
      "[3]\ttrain-rmse:1187.31114\tvalidation-rmse:1177.15463\n",
      "[4]\ttrain-rmse:945.00210\tvalidation-rmse:946.17688\n",
      "[5]\ttrain-rmse:787.62126\tvalidation-rmse:798.39908\n",
      "[6]\ttrain-rmse:688.66889\tvalidation-rmse:710.32109\n",
      "[7]\ttrain-rmse:626.37436\tvalidation-rmse:654.59324\n",
      "[8]\ttrain-rmse:589.02723\tvalidation-rmse:624.32385\n",
      "[9]\ttrain-rmse:565.28857\tvalidation-rmse:604.03193\n"
     ]
    }
   ],
   "source": [
    "n=100\n",
    "params = {\"objective\": \"reg:squarederror\", \"num_boost_round\": 14}\n",
    "evals = [(dtrain_reg, \"train\"), (dtest_reg, \"validation\")]\n",
    "\n",
    "model = xgb.train(\n",
    "   params=params,\n",
    "   dtrain=dtrain_reg,\n",
    "   evals=evals\n",
    ")"
   ]
  },
  {
   "cell_type": "code",
   "execution_count": null,
   "metadata": {
    "colab": {
     "base_uri": "https://localhost:8080/"
    },
    "executionInfo": {
     "elapsed": 345,
     "status": "ok",
     "timestamp": 1733325706089,
     "user": {
      "displayName": "김광수",
      "userId": "04260902725982947063"
     },
     "user_tz": -540
    },
    "id": "xxTLd0039zBF",
    "outputId": "b53681b6-6c66-4e3c-86f4-40a6d146b57c"
   },
   "outputs": [
    {
     "name": "stdout",
     "output_type": "stream",
     "text": [
      "RMSE of the base model: 604.032\n"
     ]
    }
   ],
   "source": [
    "preds = model.predict(dtest_reg)\n",
    "rmse = mean_squared_error(y_test, preds, squared=False)\n",
    "\n",
    "print(f\"RMSE of the base model: {rmse:.3f}\")"
   ]
  },
  {
   "cell_type": "code",
   "execution_count": null,
   "metadata": {
    "colab": {
     "base_uri": "https://localhost:8080/"
    },
    "executionInfo": {
     "elapsed": 85154,
     "status": "ok",
     "timestamp": 1733327557604,
     "user": {
      "displayName": "김광수",
      "userId": "04260902725982947063"
     },
     "user_tz": -540
    },
    "id": "YoZUip2w2aJ8",
    "outputId": "8c8b0a6c-0aec-4cfe-859d-0d51b0b8a1eb"
   },
   "outputs": [
    {
     "name": "stdout",
     "output_type": "stream",
     "text": [
      "The best hyperparameters are  {'learning_rate': 0.015, 'max_depth': 6, 'n_estimators': 700}\n"
     ]
    }
   ],
   "source": [
    "from sklearn.model_selection import GridSearchCV\n",
    "from hyperopt import fmin, tpe, hp, STATUS_OK ## 외부 함수인가봄?\n",
    "from sklearn.preprocessing import LabelEncoder\n",
    "from sklearn.metrics import accuracy_score\n",
    "from sklearn.model_selection import GridSearchCV\n",
    "\n",
    "\n",
    "X_train_encoded = X_train.copy()\n",
    "X_test_encoded = X_test.copy()\n",
    "\n",
    "yc_train = y_train.copy()\n",
    "yc_train[:] = 0\n",
    "yc_train[y_train[:] > np.mean(y_train[:])] = 1\n",
    "\n",
    "yc_test = y_test.copy()\n",
    "yc_test[:] = 0\n",
    "yc_test[y_test[:] > np.mean(y_test[:])] = 1\n",
    "\n",
    "yc_test = y_test\n",
    "yc_train = y_train\n",
    "\n",
    "le = LabelEncoder()\n",
    "\n",
    "# Encode categorical features\n",
    "for col in ['cut', 'color', 'clarity']:\n",
    "    X_train_encoded[col] = le.fit_transform(X_train_encoded[col])\n",
    "    X_test_encoded[col] = le.transform(X_test_encoded[col]) # Use the same encoder for test data\n",
    "\n",
    "## 그리드를 설정함. 3*3*2개의 경우를 서치함.\n",
    "param_grid = {\"max_depth\":    [4, 5, 6],\n",
    "              \"n_estimators\": [500, 600, 700],\n",
    "              \"learning_rate\": [0.01, 0.015]}\n",
    "xgb_model = xgb.XGBClassifier()\n",
    "xgb_model = xgb.XGBRegressor()\n",
    "\n",
    "# try out every combination of the above values\n",
    "search = GridSearchCV(xgb_model, param_grid, cv=2).fit(X_train_encoded, yc_train.values.ravel()) ## 하이퍼 파라미터 튜닝. 그리드 서치로 찾음. 2-fold\n",
    "print(\"The best hyperparameters are \",search.best_params_)\n",
    "\n",
    "## random하게 찾아보는 것.\n",
    "# space = {\n",
    "#    'max_depth': hp.quniform('max_depth', 2, 8, 1),\n",
    "#    'learning_rate': hp.loguniform('learning_rate', -5, -2),\n",
    "#    'subsample': hp.uniform('subsample', 0.5, 1)\n",
    "#}\n",
    "#def objective(params):\n",
    "#    params['max_depth'] = int(params['max_depth'])\n",
    "#    xgb_model = xgb.XGBRegressor(eval_metric='rmse', **params)\n",
    "#    xgb_model.fit(X_train_encoded, yc_train.values.ravel())\n",
    "#    y_pred = xgb_model.predict(X_test_encoded)\n",
    "#    score = accuracy_score(yc_test, y_pred)\n",
    "#    return {'loss': -score, 'status': STATUS_OK}\n",
    "\n",
    "# Perform the optimization\n",
    "#best_params = fmin(objective, space, algo=tpe.suggest, max_evals=100)\n",
    "#print(\"Best set of hyperparameters: \", best_params)"
   ]
  },
  {
   "cell_type": "markdown",
   "metadata": {},
   "source": [
    "`-` 최적의 파라미터를 모형에 적용"
   ]
  },
  {
   "cell_type": "code",
   "execution_count": 32,
   "metadata": {
    "colab": {
     "base_uri": "https://localhost:8080/"
    },
    "executionInfo": {
     "elapsed": 4744,
     "status": "ok",
     "timestamp": 1733327654557,
     "user": {
      "displayName": "김광수",
      "userId": "04260902725982947063"
     },
     "user_tz": -540
    },
    "id": "_DZksnkN7ipO",
    "outputId": "9f1a182c-5373-404b-df14-abe322062a4c"
   },
   "outputs": [
    {
     "name": "stdout",
     "output_type": "stream",
     "text": [
      "30566674.262810536\n"
     ]
    }
   ],
   "source": [
    "b_param = {'max_depth': 6, 'learning_rate': 0.015, 'n_estimators': 700}\n",
    "#b_param = {'max_depth': 8, 'learning_rate': 0.078, 'subsample': 0.98}\n",
    "xgb_model = xgb.XGBClassifier(**b_param)\n",
    "xgb_model = xgb.XGBRegressor(**b_param)\n",
    "xgb_model.fit(X_train_encoded, yc_train.values.ravel())\n",
    "\n",
    "y_pred = xgb_model.predict(X_test_encoded)\n",
    "#score = accuracy_score(yc_test, y_pred)\n",
    "score = np.mean((np.array(yc_test) - np.array(y_pred))**2)\n",
    "\n",
    "print(score)"
   ]
  },
  {
   "cell_type": "markdown",
   "metadata": {
    "id": "FYOvkvCaTtNo"
   },
   "source": [
    "https://velog.io/@hyunicecream/GridSearchCV%EB%9E%80-%EC%96%B4%EB%96%BB%EA%B2%8C-%EC%82%AC%EC%9A%A9%ED%95%A0%EA%B9%8C"
   ]
  }
 ],
 "metadata": {
  "colab": {
   "authorship_tag": "ABX9TyPirQv10PZLRr6EMu5GqhuX",
   "provenance": []
  },
  "kernelspec": {
   "display_name": "xgb",
   "language": "python",
   "name": "python3"
  },
  "language_info": {
   "codemirror_mode": {
    "name": "ipython",
    "version": 3
   },
   "file_extension": ".py",
   "mimetype": "text/x-python",
   "name": "python",
   "nbconvert_exporter": "python",
   "pygments_lexer": "ipython3",
   "version": "3.12.0"
  }
 },
 "nbformat": 4,
 "nbformat_minor": 4
}
