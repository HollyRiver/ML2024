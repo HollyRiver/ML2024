{
 "cells": [
  {
   "cell_type": "markdown",
   "metadata": {
    "id": "97qTY_rlDCt8"
   },
   "source": [
    "## $$\\textrm{Samplng & Resampling}$$"
   ]
  },
  {
   "cell_type": "markdown",
   "metadata": {
    "id": "iOZRY9vADMkg"
   },
   "source": [
    "## 1. 기본 설정"
   ]
  },
  {
   "cell_type": "code",
   "execution_count": 1,
   "metadata": {
    "colab": {
     "base_uri": "https://localhost:8080/"
    },
    "id": "5hA4iNAejiIJ",
    "outputId": "a46e2939-eb6d-4402-baad-bd3857ac19c7"
   },
   "outputs": [
    {
     "name": "stdout",
     "output_type": "stream",
     "text": [
      "Collecting ISLP\n",
      "  Downloading ISLP-0.4.0-py3-none-any.whl.metadata (7.0 kB)\n",
      "Requirement already satisfied: numpy>=1.7.1 in /usr/local/lib/python3.10/dist-packages (from ISLP) (1.26.4)\n",
      "Requirement already satisfied: scipy>=0.9 in /usr/local/lib/python3.10/dist-packages (from ISLP) (1.13.1)\n",
      "Requirement already satisfied: pandas>=0.20 in /usr/local/lib/python3.10/dist-packages (from ISLP) (2.2.2)\n",
      "Requirement already satisfied: lxml in /usr/local/lib/python3.10/dist-packages (from ISLP) (4.9.4)\n",
      "Requirement already satisfied: scikit-learn>=1.2 in /usr/local/lib/python3.10/dist-packages (from ISLP) (1.5.2)\n",
      "Requirement already satisfied: joblib in /usr/local/lib/python3.10/dist-packages (from ISLP) (1.4.2)\n",
      "Requirement already satisfied: statsmodels>=0.13 in /usr/local/lib/python3.10/dist-packages (from ISLP) (0.14.4)\n",
      "Collecting lifelines (from ISLP)\n",
      "  Downloading lifelines-0.29.0-py3-none-any.whl.metadata (3.2 kB)\n",
      "Collecting pygam (from ISLP)\n",
      "  Downloading pygam-0.9.1-py3-none-any.whl.metadata (7.1 kB)\n",
      "Requirement already satisfied: torch in /usr/local/lib/python3.10/dist-packages (from ISLP) (2.4.1+cu121)\n",
      "Collecting pytorch-lightning (from ISLP)\n",
      "  Downloading pytorch_lightning-2.4.0-py3-none-any.whl.metadata (21 kB)\n",
      "Collecting torchmetrics (from ISLP)\n",
      "  Downloading torchmetrics-1.4.2-py3-none-any.whl.metadata (19 kB)\n",
      "Requirement already satisfied: python-dateutil>=2.8.2 in /usr/local/lib/python3.10/dist-packages (from pandas>=0.20->ISLP) (2.8.2)\n",
      "Requirement already satisfied: pytz>=2020.1 in /usr/local/lib/python3.10/dist-packages (from pandas>=0.20->ISLP) (2024.2)\n",
      "Requirement already satisfied: tzdata>=2022.7 in /usr/local/lib/python3.10/dist-packages (from pandas>=0.20->ISLP) (2024.2)\n",
      "Requirement already satisfied: threadpoolctl>=3.1.0 in /usr/local/lib/python3.10/dist-packages (from scikit-learn>=1.2->ISLP) (3.5.0)\n",
      "Requirement already satisfied: patsy>=0.5.6 in /usr/local/lib/python3.10/dist-packages (from statsmodels>=0.13->ISLP) (0.5.6)\n",
      "Requirement already satisfied: packaging>=21.3 in /usr/local/lib/python3.10/dist-packages (from statsmodels>=0.13->ISLP) (24.1)\n",
      "Requirement already satisfied: matplotlib>=3.0 in /usr/local/lib/python3.10/dist-packages (from lifelines->ISLP) (3.7.1)\n",
      "Requirement already satisfied: autograd>=1.5 in /usr/local/lib/python3.10/dist-packages (from lifelines->ISLP) (1.7.0)\n",
      "Collecting autograd-gamma>=0.3 (from lifelines->ISLP)\n",
      "  Downloading autograd-gamma-0.5.0.tar.gz (4.0 kB)\n",
      "  Preparing metadata (setup.py) ... \u001b[?25l\u001b[?25hdone\n",
      "Collecting formulaic>=0.2.2 (from lifelines->ISLP)\n",
      "  Downloading formulaic-1.0.2-py3-none-any.whl.metadata (6.8 kB)\n",
      "Requirement already satisfied: progressbar2<5.0.0,>=4.2.0 in /usr/local/lib/python3.10/dist-packages (from pygam->ISLP) (4.5.0)\n",
      "Collecting scipy>=0.9 (from ISLP)\n",
      "  Downloading scipy-1.11.4-cp310-cp310-manylinux_2_17_x86_64.manylinux2014_x86_64.whl.metadata (60 kB)\n",
      "\u001b[2K     \u001b[90m━━━━━━━━━━━━━━━━━━━━━━━━━━━━━━━━━━━━━━━━\u001b[0m \u001b[32m60.4/60.4 kB\u001b[0m \u001b[31m687.2 kB/s\u001b[0m eta \u001b[36m0:00:00\u001b[0m\n",
      "\u001b[?25hRequirement already satisfied: tqdm>=4.57.0 in /usr/local/lib/python3.10/dist-packages (from pytorch-lightning->ISLP) (4.66.5)\n",
      "Requirement already satisfied: PyYAML>=5.4 in /usr/local/lib/python3.10/dist-packages (from pytorch-lightning->ISLP) (6.0.2)\n",
      "Requirement already satisfied: fsspec>=2022.5.0 in /usr/local/lib/python3.10/dist-packages (from fsspec[http]>=2022.5.0->pytorch-lightning->ISLP) (2024.6.1)\n",
      "Requirement already satisfied: typing-extensions>=4.4.0 in /usr/local/lib/python3.10/dist-packages (from pytorch-lightning->ISLP) (4.12.2)\n",
      "Collecting lightning-utilities>=0.10.0 (from pytorch-lightning->ISLP)\n",
      "  Downloading lightning_utilities-0.11.7-py3-none-any.whl.metadata (5.2 kB)\n",
      "Requirement already satisfied: filelock in /usr/local/lib/python3.10/dist-packages (from torch->ISLP) (3.16.1)\n",
      "Requirement already satisfied: sympy in /usr/local/lib/python3.10/dist-packages (from torch->ISLP) (1.13.3)\n",
      "Requirement already satisfied: networkx in /usr/local/lib/python3.10/dist-packages (from torch->ISLP) (3.3)\n",
      "Requirement already satisfied: jinja2 in /usr/local/lib/python3.10/dist-packages (from torch->ISLP) (3.1.4)\n",
      "Collecting interface-meta>=1.2.0 (from formulaic>=0.2.2->lifelines->ISLP)\n",
      "  Downloading interface_meta-1.3.0-py3-none-any.whl.metadata (6.7 kB)\n",
      "Requirement already satisfied: wrapt>=1.0 in /usr/local/lib/python3.10/dist-packages (from formulaic>=0.2.2->lifelines->ISLP) (1.16.0)\n",
      "Requirement already satisfied: aiohttp!=4.0.0a0,!=4.0.0a1 in /usr/local/lib/python3.10/dist-packages (from fsspec[http]>=2022.5.0->pytorch-lightning->ISLP) (3.10.8)\n",
      "Requirement already satisfied: setuptools in /usr/local/lib/python3.10/dist-packages (from lightning-utilities>=0.10.0->pytorch-lightning->ISLP) (71.0.4)\n",
      "Requirement already satisfied: contourpy>=1.0.1 in /usr/local/lib/python3.10/dist-packages (from matplotlib>=3.0->lifelines->ISLP) (1.3.0)\n",
      "Requirement already satisfied: cycler>=0.10 in /usr/local/lib/python3.10/dist-packages (from matplotlib>=3.0->lifelines->ISLP) (0.12.1)\n",
      "Requirement already satisfied: fonttools>=4.22.0 in /usr/local/lib/python3.10/dist-packages (from matplotlib>=3.0->lifelines->ISLP) (4.54.1)\n",
      "Requirement already satisfied: kiwisolver>=1.0.1 in /usr/local/lib/python3.10/dist-packages (from matplotlib>=3.0->lifelines->ISLP) (1.4.7)\n",
      "Requirement already satisfied: pillow>=6.2.0 in /usr/local/lib/python3.10/dist-packages (from matplotlib>=3.0->lifelines->ISLP) (10.4.0)\n",
      "Requirement already satisfied: pyparsing>=2.3.1 in /usr/local/lib/python3.10/dist-packages (from matplotlib>=3.0->lifelines->ISLP) (3.1.4)\n",
      "Requirement already satisfied: six in /usr/local/lib/python3.10/dist-packages (from patsy>=0.5.6->statsmodels>=0.13->ISLP) (1.16.0)\n",
      "Requirement already satisfied: python-utils>=3.8.1 in /usr/local/lib/python3.10/dist-packages (from progressbar2<5.0.0,>=4.2.0->pygam->ISLP) (3.9.0)\n",
      "Requirement already satisfied: MarkupSafe>=2.0 in /usr/local/lib/python3.10/dist-packages (from jinja2->torch->ISLP) (2.1.5)\n",
      "Requirement already satisfied: mpmath<1.4,>=1.1.0 in /usr/local/lib/python3.10/dist-packages (from sympy->torch->ISLP) (1.3.0)\n",
      "Requirement already satisfied: aiohappyeyeballs>=2.3.0 in /usr/local/lib/python3.10/dist-packages (from aiohttp!=4.0.0a0,!=4.0.0a1->fsspec[http]>=2022.5.0->pytorch-lightning->ISLP) (2.4.3)\n",
      "Requirement already satisfied: aiosignal>=1.1.2 in /usr/local/lib/python3.10/dist-packages (from aiohttp!=4.0.0a0,!=4.0.0a1->fsspec[http]>=2022.5.0->pytorch-lightning->ISLP) (1.3.1)\n",
      "Requirement already satisfied: attrs>=17.3.0 in /usr/local/lib/python3.10/dist-packages (from aiohttp!=4.0.0a0,!=4.0.0a1->fsspec[http]>=2022.5.0->pytorch-lightning->ISLP) (24.2.0)\n",
      "Requirement already satisfied: frozenlist>=1.1.1 in /usr/local/lib/python3.10/dist-packages (from aiohttp!=4.0.0a0,!=4.0.0a1->fsspec[http]>=2022.5.0->pytorch-lightning->ISLP) (1.4.1)\n",
      "Requirement already satisfied: multidict<7.0,>=4.5 in /usr/local/lib/python3.10/dist-packages (from aiohttp!=4.0.0a0,!=4.0.0a1->fsspec[http]>=2022.5.0->pytorch-lightning->ISLP) (6.1.0)\n",
      "Requirement already satisfied: yarl<2.0,>=1.12.0 in /usr/local/lib/python3.10/dist-packages (from aiohttp!=4.0.0a0,!=4.0.0a1->fsspec[http]>=2022.5.0->pytorch-lightning->ISLP) (1.13.1)\n",
      "Requirement already satisfied: async-timeout<5.0,>=4.0 in /usr/local/lib/python3.10/dist-packages (from aiohttp!=4.0.0a0,!=4.0.0a1->fsspec[http]>=2022.5.0->pytorch-lightning->ISLP) (4.0.3)\n",
      "Requirement already satisfied: idna>=2.0 in /usr/local/lib/python3.10/dist-packages (from yarl<2.0,>=1.12.0->aiohttp!=4.0.0a0,!=4.0.0a1->fsspec[http]>=2022.5.0->pytorch-lightning->ISLP) (3.10)\n",
      "Downloading ISLP-0.4.0-py3-none-any.whl (3.6 MB)\n",
      "\u001b[2K   \u001b[90m━━━━━━━━━━━━━━━━━━━━━━━━━━━━━━━━━━━━━━━━\u001b[0m \u001b[32m3.6/3.6 MB\u001b[0m \u001b[31m12.1 MB/s\u001b[0m eta \u001b[36m0:00:00\u001b[0m\n",
      "\u001b[?25hDownloading lifelines-0.29.0-py3-none-any.whl (349 kB)\n",
      "\u001b[2K   \u001b[90m━━━━━━━━━━━━━━━━━━━━━━━━━━━━━━━━━━━━━━━━\u001b[0m \u001b[32m349.3/349.3 kB\u001b[0m \u001b[31m9.5 MB/s\u001b[0m eta \u001b[36m0:00:00\u001b[0m\n",
      "\u001b[?25hDownloading pygam-0.9.1-py3-none-any.whl (522 kB)\n",
      "\u001b[2K   \u001b[90m━━━━━━━━━━━━━━━━━━━━━━━━━━━━━━━━━━━━━━━━\u001b[0m \u001b[32m522.0/522.0 kB\u001b[0m \u001b[31m15.1 MB/s\u001b[0m eta \u001b[36m0:00:00\u001b[0m\n",
      "\u001b[?25hDownloading scipy-1.11.4-cp310-cp310-manylinux_2_17_x86_64.manylinux2014_x86_64.whl (36.4 MB)\n",
      "\u001b[2K   \u001b[90m━━━━━━━━━━━━━━━━━━━━━━━━━━━━━━━━━━━━━━━━\u001b[0m \u001b[32m36.4/36.4 MB\u001b[0m \u001b[31m7.1 MB/s\u001b[0m eta \u001b[36m0:00:00\u001b[0m\n",
      "\u001b[?25hDownloading pytorch_lightning-2.4.0-py3-none-any.whl (815 kB)\n",
      "\u001b[2K   \u001b[90m━━━━━━━━━━━━━━━━━━━━━━━━━━━━━━━━━━━━━━━━\u001b[0m \u001b[32m815.2/815.2 kB\u001b[0m \u001b[31m9.9 MB/s\u001b[0m eta \u001b[36m0:00:00\u001b[0m\n",
      "\u001b[?25hDownloading torchmetrics-1.4.2-py3-none-any.whl (869 kB)\n",
      "\u001b[2K   \u001b[90m━━━━━━━━━━━━━━━━━━━━━━━━━━━━━━━━━━━━━━━━\u001b[0m \u001b[32m869.2/869.2 kB\u001b[0m \u001b[31m18.0 MB/s\u001b[0m eta \u001b[36m0:00:00\u001b[0m\n",
      "\u001b[?25hDownloading formulaic-1.0.2-py3-none-any.whl (94 kB)\n",
      "\u001b[2K   \u001b[90m━━━━━━━━━━━━━━━━━━━━━━━━━━━━━━━━━━━━━━━━\u001b[0m \u001b[32m94.5/94.5 kB\u001b[0m \u001b[31m3.2 MB/s\u001b[0m eta \u001b[36m0:00:00\u001b[0m\n",
      "\u001b[?25hDownloading lightning_utilities-0.11.7-py3-none-any.whl (26 kB)\n",
      "Downloading interface_meta-1.3.0-py3-none-any.whl (14 kB)\n",
      "Building wheels for collected packages: autograd-gamma\n",
      "  Building wheel for autograd-gamma (setup.py) ... \u001b[?25l\u001b[?25hdone\n",
      "  Created wheel for autograd-gamma: filename=autograd_gamma-0.5.0-py3-none-any.whl size=4031 sha256=f23e25fb3a68032c8c9656bad877faa3d86b50c08b6b0cd678356b82aeedc80e\n",
      "  Stored in directory: /root/.cache/pip/wheels/25/cc/e0/ef2969164144c899fedb22b338f6703e2b9cf46eeebf254991\n",
      "Successfully built autograd-gamma\n",
      "Installing collected packages: scipy, lightning-utilities, interface-meta, autograd-gamma, torchmetrics, pygam, formulaic, lifelines, pytorch-lightning, ISLP\n",
      "  Attempting uninstall: scipy\n",
      "    Found existing installation: scipy 1.13.1\n",
      "    Uninstalling scipy-1.13.1:\n",
      "      Successfully uninstalled scipy-1.13.1\n",
      "Successfully installed ISLP-0.4.0 autograd-gamma-0.5.0 formulaic-1.0.2 interface-meta-1.3.0 lifelines-0.29.0 lightning-utilities-0.11.7 pygam-0.9.1 pytorch-lightning-2.4.0 scipy-1.11.4 torchmetrics-1.4.2\n"
     ]
    }
   ],
   "source": [
    "!pip install ISLP\n",
    "import numpy as np\n",
    "import statsmodels.api as sm\n",
    "from ISLP import load_data\n",
    "from ISLP.models import (ModelSpec as MS, summarize, poly)\n",
    "\n",
    "from sklearn.model_selection import train_test_split"
   ]
  },
  {
   "cell_type": "code",
   "execution_count": 4,
   "metadata": {
    "id": "0-AJIWDbkERy"
   },
   "outputs": [],
   "source": [
    "from functools import partial\n",
    "from sklearn.model_selection import (cross_validate , KFold , ShuffleSplit)\n",
    "from sklearn.base import clone\n",
    "from ISLP.models import sklearn_sm"
   ]
  },
  {
   "cell_type": "markdown",
   "metadata": {
    "id": "Plzyyfd-DTmN"
   },
   "source": [
    "##2. Validation and CV   "
   ]
  },
  {
   "cell_type": "markdown",
   "metadata": {
    "id": "ebJ8Xq53Ddt0"
   },
   "source": [
    " - Auto data 로딩 및 데이터 쪼개기\n",
    " - Validation 오차 확인"
   ]
  },
  {
   "cell_type": "code",
   "execution_count": 5,
   "metadata": {
    "colab": {
     "base_uri": "https://localhost:8080/"
    },
    "id": "VusntcrakT9M",
    "outputId": "940ba6ab-8e46-4870-c306-2c08630f4ce1"
   },
   "outputs": [
    {
     "name": "stdout",
     "output_type": "stream",
     "text": [
      "                            OLS Regression Results                            \n",
      "==============================================================================\n",
      "Dep. Variable:                    mpg   R-squared:                       0.599\n",
      "Model:                            OLS   Adj. R-squared:                  0.598\n",
      "Method:                 Least Squares   F-statistic:                     433.9\n",
      "Date:                Tue, 08 Oct 2024   Prob (F-statistic):           1.48e-59\n",
      "Time:                        21:22:16   Log-Likelihood:                -879.71\n",
      "No. Observations:                 292   AIC:                             1763.\n",
      "Df Residuals:                     290   BIC:                             1771.\n",
      "Df Model:                           1                                         \n",
      "Covariance Type:            nonrobust                                         \n",
      "==============================================================================\n",
      "                 coef    std err          t      P>|t|      [0.025      0.975]\n",
      "------------------------------------------------------------------------------\n",
      "intercept     39.8828      0.848     47.020      0.000      38.213      41.552\n",
      "horsepower    -0.1587      0.008    -20.831      0.000      -0.174      -0.144\n",
      "==============================================================================\n",
      "Omnibus:                        8.415   Durbin-Watson:                   2.042\n",
      "Prob(Omnibus):                  0.015   Jarque-Bera (JB):                8.304\n",
      "Skew:                           0.397   Prob(JB):                       0.0157\n",
      "Kurtosis:                       3.226   Cond. No.                         327.\n",
      "==============================================================================\n",
      "\n",
      "Notes:\n",
      "[1] Standard Errors assume that the covariance matrix of the errors is correctly specified.\n",
      "24.22829297680054\n",
      "23.201930047104227\n"
     ]
    }
   ],
   "source": [
    "Auto = load_data('Auto')\n",
    "Auto_train, Auto_valid = train_test_split(Auto, test_size=100, random_state=0)\n",
    "\n",
    "hp_mm = MS(['horsepower'])\n",
    "X_train = hp_mm.fit_transform(Auto_train)\n",
    "y_train = Auto_train['mpg']\n",
    "model = sm.OLS(y_train, X_train)\n",
    "results = model.fit()\n",
    "print(results.summary())\n",
    "\n",
    "X_valid = hp_mm.transform(Auto_valid)\n",
    "y_valid = Auto_valid['mpg']\n",
    "valid_pred = results.predict(X_valid)\n",
    "train_pred = results.predict(X_train)\n",
    "\n",
    "print(np.mean((y_train - train_pred)**2))\n",
    "print(np.mean((y_valid - valid_pred)**2))"
   ]
  },
  {
   "cell_type": "code",
   "execution_count": 6,
   "metadata": {
    "id": "FPsnCu7flhuk"
   },
   "outputs": [],
   "source": [
    "# 훈련과 검증 오차를 확인하는 함수 생성\n",
    "# -------------------------------------\n",
    "def evalMSE(terms, response , train , test):\n",
    "    mm = MS(terms)\n",
    "    X_train = mm.fit_transform(train)\n",
    "    y_train = train[response]\n",
    "    X_test = mm.transform(test)\n",
    "    y_test = test[response]\n",
    "    results = sm.OLS(y_train, X_train).fit()\n",
    "    test_pred = results.predict(X_test)\n",
    "    return np.mean((y_test - test_pred)**2)"
   ]
  },
  {
   "cell_type": "markdown",
   "metadata": {
    "id": "8-ityi12EFoD"
   },
   "source": [
    "- 다항모형의 차수를 바꾸면서 검증 오차를 확인 (validation error for degrees)\n"
   ]
  },
  {
   "cell_type": "code",
   "execution_count": 7,
   "metadata": {
    "colab": {
     "base_uri": "https://localhost:8080/"
    },
    "id": "-HMC98NgmFBq",
    "outputId": "d13959fd-2cf0-439b-bea8-799eae3f5846"
   },
   "outputs": [
    {
     "data": {
      "text/plain": [
       "array([23.20193005, 16.99348987, 16.9506061 ])"
      ]
     },
     "execution_count": 7,
     "metadata": {},
     "output_type": "execute_result"
    }
   ],
   "source": [
    "MSE = np.zeros(3)\n",
    "for idx, degree in enumerate(range(1, 4)):\n",
    "    MSE[idx] = evalMSE([poly('horsepower', degree)], 'mpg', Auto_train, Auto_valid)\n",
    "MSE"
   ]
  },
  {
   "cell_type": "markdown",
   "metadata": {
    "id": "H6_GTPhkEqWS"
   },
   "source": [
    "- 교차 검증 오차 (leave-one-out)"
   ]
  },
  {
   "cell_type": "code",
   "execution_count": 8,
   "metadata": {
    "colab": {
     "base_uri": "https://localhost:8080/"
    },
    "id": "Mf21zOPXId-V",
    "outputId": "8dc4f24b-c44f-40d5-9a9b-ec6d510082aa"
   },
   "outputs": [
    {
     "data": {
      "text/plain": [
       "24.23151351792922"
      ]
     },
     "execution_count": 8,
     "metadata": {},
     "output_type": "execute_result"
    }
   ],
   "source": [
    "hp_model = sklearn_sm(sm.OLS, MS(['horsepower']))\n",
    "X, Y = Auto.drop(columns=['mpg']), Auto['mpg']\n",
    "cv_results = cross_validate(hp_model, X, Y, cv=Auto.shape[0])\n",
    "cv_err = np.mean(cv_results['test_score'])\n",
    "cv_err"
   ]
  },
  {
   "cell_type": "markdown",
   "metadata": {
    "id": "Gx10c6OYGR4F"
   },
   "source": [
    "- 다항식의 차수를 키웠을 때의 교차검증오차(leave-one-out)를 확인"
   ]
  },
  {
   "cell_type": "code",
   "execution_count": 9,
   "metadata": {
    "colab": {
     "base_uri": "https://localhost:8080/"
    },
    "id": "Cac-alPyJSSs",
    "outputId": "f4ff45ce-205f-468c-9bc3-ebc65565017c"
   },
   "outputs": [
    {
     "data": {
      "text/plain": [
       "array([24.23151352, 19.24821312, 19.33498406, 19.42443029, 19.03320648])"
      ]
     },
     "execution_count": 9,
     "metadata": {},
     "output_type": "execute_result"
    }
   ],
   "source": [
    "cv_error = np.zeros(5)\n",
    "H = np.array(Auto['horsepower'])\n",
    "M = sklearn_sm(sm.OLS)\n",
    "\n",
    "for i, d in enumerate(range(1,6)):\n",
    "  X = np.power.outer(H, np.arange(d+1))\n",
    "  M_CV = cross_validate(M, X, Y, cv=Auto.shape[0])\n",
    "  cv_error[i] = np.mean(M_CV['test_score'])\n",
    "\n",
    "cv_error"
   ]
  },
  {
   "cell_type": "markdown",
   "metadata": {
    "id": "qXBt5GYmHQQO"
   },
   "source": [
    "- 40 fold-CV를 통해서 차수에 대한 예측 오차를 확인함"
   ]
  },
  {
   "cell_type": "code",
   "execution_count": 11,
   "metadata": {
    "colab": {
     "base_uri": "https://localhost:8080/"
    },
    "id": "iNmSEGJqJq9D",
    "outputId": "aea2bb3d-dde7-47b9-9e95-30521415df5c"
   },
   "outputs": [
    {
     "name": "stdout",
     "output_type": "stream",
     "text": [
      "KFold(n_splits=40, random_state=0, shuffle=True)\n",
      "[18.93586159 18.93586159 18.93586159 18.93586159 18.93586159]\n"
     ]
    }
   ],
   "source": [
    "cv_error = np.zeros(5)\n",
    "# 40개로 쪼개는 CV\n",
    "cv = KFold(n_splits=40, shuffle=True, random_state=0)\n",
    "print(cv)\n",
    "\n",
    "# use same splits for each degree for i, d in enumerate(range(1,6)):\n",
    "X = np.power.outer(H, np.arange(d+1))\n",
    "for i, d in enumerate(range(1,6)):\n",
    "    M_CV = cross_validate(M, X, Y, cv=cv)\n",
    "    cv_error[i] = np.mean(M_CV['test_score'])\n",
    "cv_error\n",
    "print(cv_error)"
   ]
  },
  {
   "cell_type": "markdown",
   "metadata": {
    "id": "cDMcFePoHgRq"
   },
   "source": [
    "- 두 개로 쪼개서 validation error를 확인함"
   ]
  },
  {
   "cell_type": "code",
   "execution_count": 14,
   "metadata": {
    "colab": {
     "base_uri": "https://localhost:8080/"
    },
    "id": "rEfRpFTeKKTw",
    "outputId": "038a148a-69da-43ec-8214-c4b00d2a169f"
   },
   "outputs": [
    {
     "name": "stdout",
     "output_type": "stream",
     "text": [
      "{'fit_time': array([0.01462007]), 'score_time': array([0.0035367]), 'test_score': array([23.61661707])}\n"
     ]
    }
   ],
   "source": [
    "validation = ShuffleSplit(n_splits=1, test_size=196, random_state=0)\n",
    "results = cross_validate(hp_model,\n",
    "Auto.drop(['mpg'], axis=1), Auto['mpg'], cv =validation)\n",
    "print(results)"
   ]
  },
  {
   "cell_type": "markdown",
   "metadata": {
    "id": "itaFHRtGHnj4"
   },
   "source": [
    "##2. Boostrap"
   ]
  },
  {
   "cell_type": "markdown",
   "metadata": {
    "id": "cKCf0j2LLRAy"
   },
   "source": [
    "-  $Var ( \\alpha X + ( 1- \\alpha)Y)$를 최소화하는 문제: 수식에 의해서 $\\alpha$에 대한 해는\n",
    "$$ \\frac{ \\sigma_Y^2 - \\sigma_{XY} }{  \\sigma_X^2 + \\sigma_Y^2 - 2 \\sigma_{XY} }$$"
   ]
  },
  {
   "cell_type": "code",
   "execution_count": 15,
   "metadata": {
    "id": "wG8bSeeDK2o0"
   },
   "outputs": [],
   "source": [
    "# 주어진 데이터의 인덱싱을 통해서 공분산을 얻고 해를 구함\n",
    "# -------------------------------------------------------\n",
    "Portfolio = load_data('Portfolio')\n",
    "def alpha_func(D, idx):\n",
    "    cov_ = np.cov(D[['X','Y']].loc[idx], rowvar=False)\n",
    "    return ((cov_[1,1] - cov_[0,1]) / (cov_[0,0]+cov_[1,1]-2*cov_[0,1]))"
   ]
  },
  {
   "cell_type": "code",
   "execution_count": 18,
   "metadata": {
    "colab": {
     "base_uri": "https://localhost:8080/"
    },
    "id": "XugqIBd1LO0v",
    "outputId": "a20a6d07-0f17-4624-f2d1-9bb97925a136"
   },
   "outputs": [
    {
     "data": {
      "text/plain": [
       "0.57583207459283"
      ]
     },
     "execution_count": 18,
     "metadata": {},
     "output_type": "execute_result"
    }
   ],
   "source": [
    "# 위 함수를 구동\n",
    "# --------------\n",
    "rng = np.random.default_rng()\n",
    "idx = rng.choice(100, 100, replace=True)\n",
    "idx = range(Portfolio.shape[0])\n",
    "alpha_func(Portfolio, idx)\n",
    "# index를 랜덤하게 정해서 결과를 확인"
   ]
  },
  {
   "cell_type": "markdown",
   "metadata": {
    "id": "0S7ERrFNI0Aa"
   },
   "source": [
    "- 붓스트랩 기법의 적용 (알파)\n",
    "   - 알파에 대한 계산을 여러 개의 복원추출 샘플로 구함\n",
    "   - 여기에 나온 여러 개의 알파로 (추정량) $\\hat{\\alpha}$의 표준편차를 추정"
   ]
  },
  {
   "cell_type": "code",
   "execution_count": 20,
   "metadata": {
    "colab": {
     "base_uri": "https://localhost:8080/"
    },
    "id": "9Xq3AoD5MlfN",
    "outputId": "754a9e30-335e-4e18-b711-04ce0ff3fd71"
   },
   "outputs": [
    {
     "data": {
      "text/plain": [
       "0.08945522198999856"
      ]
     },
     "execution_count": 20,
     "metadata": {},
     "output_type": "execute_result"
    }
   ],
   "source": [
    "def boot_SE(func, D, n=None, B=1000, seed=0):\n",
    "    rng = np.random.default_rng(seed)\n",
    "    first_ , second_ = 0, 0\n",
    "    n = n or D.shape[0]\n",
    "    for _ in range(B):\n",
    "        idx = rng.choice(D.index, n, replace=True)\n",
    "        value = func(D, idx)\n",
    "        first_ += value\n",
    "        second_ += value**2\n",
    "    return np.sqrt(second_ / B - (first_ / B)**2) # 표준편차 계산\n",
    "\n",
    "alpha_SE = boot_SE(alpha_func, Portfolio ,B=1000, seed=1)\n",
    "alpha_SE"
   ]
  },
  {
   "cell_type": "markdown",
   "metadata": {
    "id": "H8XRqVTuJvGc"
   },
   "source": [
    "- 붓스트랩 기법의 적용 (OLS)\n",
    "   - 복원추출로 여러 개의 샘플을 만들어 회귀계수들을 확인  \n"
   ]
  },
  {
   "cell_type": "code",
   "execution_count": 21,
   "metadata": {
    "id": "PPUnqavgNUOV"
   },
   "outputs": [],
   "source": [
    "def boot_OLS(model_matrix, response, D, idx):\n",
    "   D_ = D.iloc[idx]     #D.iloc #\n",
    "   Y_ = D_[response]\n",
    "   X_ = clone(model_matrix).fit_transform(D_)\n",
    "   return sm.OLS(Y_, X_).fit().params\n",
    "\n",
    "hp_func = partial(boot_OLS, MS(['horsepower']), 'mpg')\n",
    "# 함수를 구동할 때 모든 인자가 아니라 필요 인지만 받을 수 있게 함\n",
    "# 앞에 두 인자는 고정시키게 됨"
   ]
  },
  {
   "cell_type": "code",
   "execution_count": 22,
   "metadata": {
    "colab": {
     "base_uri": "https://localhost:8080/"
    },
    "id": "gtFh6OSInC31",
    "outputId": "3563ac08-d488-4ad2-8e89-577856f169a7"
   },
   "outputs": [
    {
     "name": "stdout",
     "output_type": "stream",
     "text": [
      "[[39.88064456 -0.1567849 ]\n",
      " [38.73298691 -0.14699495]\n",
      " [38.31734657 -0.14442683]\n",
      " [39.91446826 -0.15782234]\n",
      " [39.43349349 -0.15072702]\n",
      " [40.36629857 -0.15912217]\n",
      " [39.62334517 -0.15449117]\n",
      " [39.0580588  -0.14952908]\n",
      " [38.66688437 -0.14521037]\n",
      " [39.64280792 -0.15555698]]\n"
     ]
    }
   ],
   "source": [
    "rng = np.random.default_rng(0)\n",
    "kk = [hp_func(Auto, rng.choice(392, 392, replace=True)) for _ in range(10)]\n",
    "print(np.array(kk))"
   ]
  },
  {
   "cell_type": "markdown",
   "metadata": {
    "id": "NWKP67nWMGR7"
   },
   "source": [
    "- 붓스트랩으로 얻은 표준오차와 일반 방법론으로 얻은 표준오차를 비교함"
   ]
  },
  {
   "cell_type": "code",
   "execution_count": 23,
   "metadata": {
    "colab": {
     "base_uri": "https://localhost:8080/"
    },
    "id": "jUwrqY2von0Q",
    "outputId": "0a56add2-4f61-47e4-c5a6-b74ed783bf54"
   },
   "outputs": [
    {
     "name": "stdout",
     "output_type": "stream",
     "text": [
      "intercept     0.717654\n",
      "horsepower    0.006041\n",
      "dtype: float64\n",
      "intercept     0.717\n",
      "horsepower    0.006\n",
      "Name: std err, dtype: float64\n"
     ]
    }
   ],
   "source": [
    "def boot_OLS(model_matrix, response, D, idx):\n",
    "   D_ = D.loc[idx]     #D.iloc #\n",
    "   Y_ = D_[response]\n",
    "   X_ = clone(model_matrix).fit_transform(D_)\n",
    "   return sm.OLS(Y_, X_).fit().params\n",
    "\n",
    "hp_func = partial(boot_OLS, MS(['horsepower']), 'mpg')\n",
    "hp_se = boot_SE(hp_func, Auto, B=1000, seed=0)\n",
    "print(hp_se)\n",
    "\n",
    "hp_model.fit(Auto, Auto['mpg'])\n",
    "model_se = summarize(hp_model.results_)['std err']\n",
    "print(model_se)"
   ]
  },
  {
   "cell_type": "code",
   "execution_count": null,
   "metadata": {
    "colab": {
     "base_uri": "https://localhost:8080/"
    },
    "id": "wYepKUHyqWeU",
    "outputId": "27fa7d3c-d8bf-498d-a6fa-2d52a1ef56c4"
   },
   "outputs": [
    {
     "name": "stdout",
     "output_type": "stream",
     "text": [
      "intercept                                  1.538641\n",
      "poly(horsepower, degree=2, raw=True)[0]    0.024696\n",
      "poly(horsepower, degree=2, raw=True)[1]    0.000090\n",
      "dtype: float64\n",
      "intercept                                  1.800\n",
      "poly(horsepower, degree=2, raw=True)[0]    0.031\n",
      "poly(horsepower, degree=2, raw=True)[1]    0.000\n",
      "Name: std err, dtype: float64\n"
     ]
    }
   ],
   "source": [
    "quad_model = MS([poly('horsepower', 2, raw=True)])\n",
    "quad_func = partial(boot_OLS, quad_model, 'mpg')\n",
    "print(boot_SE(quad_func, Auto, B=1000))\n",
    "\n",
    "M = sm.OLS(Auto['mpg'], quad_model.fit_transform(Auto))\n",
    "print(summarize(M.fit())['std err'])"
   ]
  }
 ],
 "metadata": {
  "colab": {
   "provenance": []
  },
  "kernelspec": {
   "display_name": "Python 3 (ipykernel)",
   "language": "python",
   "name": "python3"
  },
  "language_info": {
   "codemirror_mode": {
    "name": "ipython",
    "version": 3
   },
   "file_extension": ".py",
   "mimetype": "text/x-python",
   "name": "python",
   "nbconvert_exporter": "python",
   "pygments_lexer": "ipython3",
   "version": "3.10.14"
  }
 },
 "nbformat": 4,
 "nbformat_minor": 4
}
