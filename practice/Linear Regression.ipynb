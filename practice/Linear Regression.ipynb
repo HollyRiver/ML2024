{
 "cells": [
  {
   "cell_type": "markdown",
   "id": "d5cbd022-ae53-45a7-b18f-ee3dfdbf2e4b",
   "metadata": {},
   "source": [
    "## Linear Regression"
   ]
  },
  {
   "cell_type": "markdown",
   "id": "c48af328-5077-4358-be01-2a1ad1c7bda8",
   "metadata": {},
   "source": [
    "> 가장 간단한 형태의 지도학습 방법, 양적변수의 예측을 위해 유용함."
   ]
  },
  {
   "cell_type": "markdown",
   "id": "2c8592ce-865c-42f5-b196-61363d75839e",
   "metadata": {},
   "source": [
    "좁은 범위에서 양적변수의 예측을 위해 사용하지만, 일반적으로 평균을 알아내는 문제라고 얘기할 수 있다.\n",
    "\n",
    "많은 학습기법들이 선형회귀모형의 일반화 또는 확장의 관점에서 이해될 수 있음."
   ]
  },
  {
   "cell_type": "markdown",
   "id": "e8dc6154-3e9e-4e26-a3c1-8fb79db6d717",
   "metadata": {},
   "source": [
    "* 예측변수와 반응변수 간 관계가 있는가?\n",
    "* 변수 간 관계가 얼마나 강한가?(다중공선성까지)\n",
    "* **어떤 예측변수가 반응변수에 크게 기여하는가?**\n",
    "* 예측변수가 반응변수에 미치는 효과를 얼마나 정확히 예측할 수 있는가?\n",
    "* **반응변수의 미래 값을 얼마나 정확히 예측할 수 있는가?**\n",
    "* 변수간의 관계가 선형인가?\n",
    "* **예측변수들 사이에 일종의 시너지효과(상호작용)가 있는가?(교호작용 유무)**"
   ]
  },
  {
   "cell_type": "code",
   "execution_count": null,
   "id": "47926616-0f31-44ee-bf9c-dc9421cfe4e6",
   "metadata": {},
   "outputs": [],
   "source": []
  }
 ],
 "metadata": {
  "kernelspec": {
   "display_name": "Python 3 (ipykernel)",
   "language": "python",
   "name": "python3"
  },
  "language_info": {
   "codemirror_mode": {
    "name": "ipython",
    "version": 3
   },
   "file_extension": ".py",
   "mimetype": "text/x-python",
   "name": "python",
   "nbconvert_exporter": "python",
   "pygments_lexer": "ipython3",
   "version": "3.10.14"
  }
 },
 "nbformat": 4,
 "nbformat_minor": 5
}
