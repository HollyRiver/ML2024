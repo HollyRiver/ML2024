{
 "cells": [
  {
   "cell_type": "markdown",
   "id": "88f41665-ba26-4c01-a829-476af54b9bd8",
   "metadata": {},
   "source": [
    "### 비선형 모형"
   ]
  },
  {
   "cell_type": "markdown",
   "id": "98f7dd88-7e4c-4251-b15c-b120fdf44d9c",
   "metadata": {},
   "source": [
    "`-` Polynomial regression\n",
    "\n",
    "* 적절한 차수 p를 선택하기 위한 CV 필요\n",
    "* 전역에서 곡률이 유사하면 문제가 없으나, 로컬에서 곡률이 바뀌면 적절하지 못함"
   ]
  },
  {
   "cell_type": "markdown",
   "id": "e436c6ff-cda7-4028-9ab4-050bba490cf4",
   "metadata": {},
   "source": [
    "`-` Regression Splines\n",
    "\n",
    "* 전체 공간을 K개로 나누어 각각 다항회귀모형을 적합.\n",
    "* 적합된 함수들이 어느 정도 부드럽게 이어지도록 제한을 둔다. 이 경우 구간을 겹치게 만들 수도 있다.\n",
    "* 분할 지점인 knot의 수와 위치를 결정하는 문제와 차수를 어떻게 잡을지가 중요하다.\n",
    "* knot의 수는 CV를 쓰기도 하나, knot의 위치를 선택할 때는 uniform/데이터 포인트의 개수 등으로 나눈다."
   ]
  },
  {
   "cell_type": "markdown",
   "id": "b8cc0def-53f0-437d-b314-3ff384ee8c4b",
   "metadata": {},
   "source": [
    "`-` Natural Cubic Splines\n",
    "\n",
    "* Regression Splines는 예측변수의 범위 바깥에서는 매우 큰 예측 분산을 가진다. 최외곽 knot 바깥에서는 선형 함수가 되도록 제한조건을 건다."
   ]
  },
  {
   "cell_type": "markdown",
   "id": "a001ead9-e0ea-4a60-8485-466e920d36a0",
   "metadata": {},
   "source": [
    "`-` Smoothing Splines\n",
    "\n",
    "* Regression Splines에서 Shirinkage 방법을 동원하여 함수 추정을 최대한 직선으로 하도록 만들 수 있다.\n",
    "* 목적함수의 후항을 0으로 만들기 위해서는 knot 별 함수의 형태가 직선의 형태를 가져야 한다.\n",
    "* 예측변수의 값을 knot으로 설정하여 구간을 따로 선정할 필요가 없다."
   ]
  },
  {
   "cell_type": "markdown",
   "id": "bf88cf08-4cd0-43d4-b125-e6ddea3952d0",
   "metadata": {},
   "source": [
    "`-` Local (Linear) Regression\n",
    "\n",
    "* 각 데이터 포인트에 제일 큰 가중치를 부여하고 멀어질 수록 적게 부여하는 방식으로 모든 데이터포인트에서 선형 회귀모형을 적합한 뒤, 이것들을 결합\n",
    "* 성능과 통계적 성질이 좋으나, 계산량이 매우 많아 기계학습에서 적극적으로 사용되진 못함."
   ]
  },
  {
   "cell_type": "markdown",
   "id": "8d79c76c-f505-4fb3-afc3-385dfb351e3a",
   "metadata": {},
   "source": [
    "`-` Generalized Additive Models (GAM)\n",
    "\n",
    "* 선형모형에서 각 예측변수에 해당하는 선형항을 일반적인 비선형항으로 치환\n",
    "* 가법 구조로 각 설명변수가 예측변수에 주는 효과를 개별적으로 해석 가능\n",
    "* 상호작용이 기본적으로 모형에 포함되지 않아, 새로운 예측변수로 추가해줘야 함"
   ]
  },
  {
   "cell_type": "markdown",
   "id": "fdac08a7-5729-462d-91ed-077f44f7893f",
   "metadata": {},
   "source": [
    "### Tree based model"
   ]
  },
  {
   "cell_type": "code",
   "execution_count": null,
   "id": "686c7284-c562-4639-99ac-5ccb5b20593d",
   "metadata": {},
   "outputs": [],
   "source": []
  }
 ],
 "metadata": {
  "kernelspec": {
   "display_name": "Python 3 (ipykernel)",
   "language": "python",
   "name": "python3"
  },
  "language_info": {
   "codemirror_mode": {
    "name": "ipython",
    "version": 3
   },
   "file_extension": ".py",
   "mimetype": "text/x-python",
   "name": "python",
   "nbconvert_exporter": "python",
   "pygments_lexer": "ipython3",
   "version": "3.10.14"
  }
 },
 "nbformat": 4,
 "nbformat_minor": 5
}
