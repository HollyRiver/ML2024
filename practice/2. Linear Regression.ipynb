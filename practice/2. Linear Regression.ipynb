{
 "cells": [
  {
   "cell_type": "markdown",
   "id": "d5cbd022-ae53-45a7-b18f-ee3dfdbf2e4b",
   "metadata": {},
   "source": [
    "## Linear Regression"
   ]
  },
  {
   "cell_type": "markdown",
   "id": "c48af328-5077-4358-be01-2a1ad1c7bda8",
   "metadata": {},
   "source": [
    "> 가장 간단한 형태의 지도학습 방법, 양적변수의 예측을 위해 유용함."
   ]
  },
  {
   "cell_type": "markdown",
   "id": "2c8592ce-865c-42f5-b196-61363d75839e",
   "metadata": {},
   "source": [
    "좁은 범위에서 양적변수의 예측을 위해 사용하지만, 일반적으로 평균을 알아내는 문제라고 얘기할 수 있다.\n",
    "\n",
    "많은 학습기법들이 선형회귀모형의 일반화 또는 확장의 관점에서 이해될 수 있음."
   ]
  },
  {
   "cell_type": "markdown",
   "id": "e8dc6154-3e9e-4e26-a3c1-8fb79db6d717",
   "metadata": {},
   "source": [
    "* 예측변수와 반응변수 간 관계가 있는가?\n",
    "* 변수 간 관계가 얼마나 강한가?(다중공선성까지)\n",
    "* **어떤 예측변수가 반응변수에 크게 기여하는가?**\n",
    "* 예측변수가 반응변수에 미치는 효과를 얼마나 정확히 예측할 수 있는가?\n",
    "* **반응변수의 미래 값을 얼마나 정확히 예측할 수 있는가?**\n",
    "* 변수간의 관계가 선형인가?\n",
    "* **예측변수들 사이에 일종의 시너지효과(상호작용)가 있는가?(교호작용 유무)**"
   ]
  },
  {
   "cell_type": "markdown",
   "id": "7dba227d-390f-40c6-9723-890ad2502ab0",
   "metadata": {},
   "source": [
    "`-` 단순선형회귀모형"
   ]
  },
  {
   "cell_type": "markdown",
   "id": "deb6b718-66c2-4ad4-bd28-a1f697321bce",
   "metadata": {},
   "source": [
    "$$\\begin{align} Y & \\approx \\beta_0 + \\beta_1 X \\\\\n",
    "\\mathbb{E}(Y) & = \\beta_0 + \\beta_1 X\n",
    "\\end{align}\n",
    "$$"
   ]
  },
  {
   "cell_type": "markdown",
   "id": "716d9faf-bb0c-4bb3-9c12-caaeccbe3e5a",
   "metadata": {},
   "source": [
    "> X는 상수로 간주해도 무방하나, 확률변수로서는 오차항 $\\epsilon$과 독립이여야 한다."
   ]
  },
  {
   "cell_type": "markdown",
   "id": "f699a7b4-e1a9-47b7-9fa9-be66495562e8",
   "metadata": {},
   "source": [
    "`-` 회귀계수의 추정 : 최소제곱법 (Ordinary) Least squares\n",
    "\n",
    "$$\\begin{align}RSS & = \\overset{n}{\\sum} e_i^2 \\\\\n",
    "e_i & = y_i - \\hat y_i = y_i - \\hat \\beta_0 + \\hat \\beta_1 x_i\n",
    "\\end{align}$$\n",
    "\n",
    "> 본래 $\\mathbb{E}[(Y - \\hat Y)^2], ~ \\hat Y = \\mathbb{E}[Y|X]$, 기댓값을 최소화하는 것을 회귀계수로 추정해야 하나, 조건부 기댓값은 실제로 관찰할 수 없으므로 표본평균을 이용한다."
   ]
  },
  {
   "cell_type": "markdown",
   "id": "5219f3cd-7638-4556-be51-5d13ffd18fa1",
   "metadata": {},
   "source": [
    "$$\\begin{align} \\underset{i=1}{\\overset{n}{\\sum}}(y_i - \\beta_0 - \\beta_1 x_i)^2 & = \\mathbb{L}(\\beta_0, \\beta_1) \\\\\n",
    "\\frac{\\partial\\mathbb{L}}{\\partial \\beta_0} & = \\frac{\\partial\\mathbb{L}}{\\partial \\beta_1} = 0 \\\\\n",
    "\\hat \\beta_1 & = \\frac{\\underset{i=1}{\\overset{n}{\\sum}}(x_i-\\bar{x})(y_i - \\bar{y})}{\\underset{i=1}{\\overset{n}{\\sum}}(x_i - \\bar x)^2} \\\\\n",
    "\\underset{i=1}{\\overset{n}{\\sum}}(y_i - \\bar y)^2 & = \\underset{i=1}{\\overset{n}{\\sum}}(y_i - \\hat y_i)^2 + \\underset{i=1}{\\overset{n}{\\sum}}(\\hat y_i - \\bar y)^2 = SSE + SSR \\\\\n",
    "\\underset{i=1}{\\overset{n}{\\sum}}(y_i - \\hat y_i) & = 0, ~ \\underset{i=1}{\\overset{n}{\\sum}}(y_i - \\hat y_i) x_i = 0\n",
    "\\end{align}$$"
   ]
  },
  {
   "cell_type": "markdown",
   "id": "72f979e5-be4b-47ab-8537-9dd961f0de3d",
   "metadata": {},
   "source": [
    "> * $\\hat \\beta_1$의 분자 부분은 $\\bar x, \\bar y$를 무시하면 벡터 간 내적으로 취급할 수 있다. 따라서 기하학적으로 방향이 같다면 그 값이 커지게 된다.\n",
    "> * $\\hat y_i - \\bar y = \\hat \\beta_1(x_i - \\bar x)$, 절편을 제외한 회귀계수의 중요성이 크다."
   ]
  },
  {
   "cell_type": "markdown",
   "id": "7a967af0-4d9e-41f0-879a-e5315106c9f3",
   "metadata": {},
   "source": [
    "`-` 추정의 정확성 평가\n",
    "\n",
    "* 편의 bias : 많은 수의 데이터셋으로부터 적합된 직선을 반복해서 얻었을 때, 평균적인 직선이 실제 모형과 얼마나 다른가? 일치추정량의 경우 편의가 존재하긴 하지만 어쩌고...\n",
    "* 단순선형회귀모형에서 최소제곱법에 의해 얻어진 직선은 불편성unbiaseness이 성립한다.\n",
    "* 표준오차 : 추정의 불확실성 혹은 신뢰성(추정의 정확성 : precison TPR)"
   ]
  },
  {
   "cell_type": "code",
   "execution_count": null,
   "id": "1412ab67-dfb2-40a0-95b0-721c48f061dc",
   "metadata": {},
   "outputs": [],
   "source": []
  }
 ],
 "metadata": {
  "kernelspec": {
   "display_name": "Python 3 (ipykernel)",
   "language": "python",
   "name": "python3"
  },
  "language_info": {
   "codemirror_mode": {
    "name": "ipython",
    "version": 3
   },
   "file_extension": ".py",
   "mimetype": "text/x-python",
   "name": "python",
   "nbconvert_exporter": "python",
   "pygments_lexer": "ipython3",
   "version": "3.10.14"
  }
 },
 "nbformat": 4,
 "nbformat_minor": 5
}
