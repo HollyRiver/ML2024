{
 "cells": [
  {
   "cell_type": "markdown",
   "id": "6c1b68a9-a633-4306-8b77-96d4f6dca9d3",
   "metadata": {},
   "source": [
    "# 분류 모형 Classification\n",
    "\n",
    "---\n",
    "\n"
   ]
  },
  {
   "cell_type": "markdown",
   "id": "8c86757b-ab36-4217-a71b-526981a376f3",
   "metadata": {},
   "source": [
    "**LDA, ROC, KNN에 대해서는 정확하게 이해를 하시는 게 좋겠습니다.**"
   ]
  },
  {
   "cell_type": "markdown",
   "id": "68c7f714-ca78-4b79-9a97-25349afa2e45",
   "metadata": {},
   "source": [
    "## 1. 이론적 배경"
   ]
  },
  {
   "cell_type": "markdown",
   "id": "8793d0f0-2e40-40e5-861c-c28f24851087",
   "metadata": {},
   "source": [
    "### A. Classification\n",
    "\n",
    "---\n",
    "\n"
   ]
  },
  {
   "cell_type": "markdown",
   "id": "227a9041-bef1-4f61-8ff2-763dc3b0c4a2",
   "metadata": {},
   "source": [
    "**반응변수가 질적(qualitative : 수치를 포함) / 범주형(categorical : True or False) 변수인 경우**\n",
    "\n",
    "`-` example\n",
    "\n",
    "- 응급실에 오는 사람들을 증상을 바탕으로 세 가지 범주로 분류함(Classification)\n",
    "- 사용자의 IP주소, 과거 거래내역 등을 근거로 온라인 거래 승인 여부를 결정함(Binary)\n",
    "- 이미지를 보고 개/고양이, 질병유무 등을 판별해냄(Binary)\n",
    "\n",
    "`-` Linear Regression이 아닌 이유\n",
    "\n",
    "> 반응변수의 숫자는 범주의 구분을 위한 레이블일 뿐 숫자로써의 의미는 전혀 가지지 않음.\n",
    ">\n",
    "> Y에 대한 직접적 모형화가 아닌 Y가 특정 범주에 포함될 확률을 모형화함."
   ]
  },
  {
   "cell_type": "markdown",
   "id": "5be51231-15e1-4e12-8c19-da593351ab4f",
   "metadata": {},
   "source": [
    "`-` 임계치 Threshold"
   ]
  },
  {
   "cell_type": "markdown",
   "id": "7fca6fa6-50ae-49f4-87f4-7977ed37be5f",
   "metadata": {},
   "source": [
    "* 특정 관측치에 대해 p(X) > 0.5인 경우 True로 예측할 수 있다. 보수적인 결정을 내리고자 하는 경우 p(X) > 0.1을 True라고 예측하는 것도 가능하다. 이러한 기준이 되는 수치를 임계치라고 한다."
   ]
  },
  {
   "cell_type": "markdown",
   "id": "f656b5ab-5807-4f35-ad09-4c5f41c4e965",
   "metadata": {},
   "source": [
    "### B. 모형\n",
    "\n",
    "---\n",
    "\n"
   ]
  },
  {
   "cell_type": "markdown",
   "id": "785d5555-0427-417f-a5ec-9b9c636e512e",
   "metadata": {},
   "source": [
    "관심이 되는 반응변수 값을 보통 1, 나머지를 0이라 하자.\n",
    "\n",
    "$$Pr(Y = 1|X) = P(X) ∈ (0, 1)$$\n",
    "\n",
    "위 확률을 $X$에 대하여 선형으로 모형화하면(선형회귀모형)\n",
    "\n",
    "$$P(X) = \\beta_0 + \\beta_1 X : \\text{확률값이 모든 실수로 나타난다}$$\n",
    "\n",
    "따라서 확률값을 $(0, 1)$사이의 값으로 예측해주는 모형함수가 필요한데, 대표적인 것이 로지스틱 함수이다.\n",
    "\n",
    "$$P(X) = \\frac{\\exp(\\beta_0 + \\beta_1 X)}{1 + \\exp(\\beta_0 + \\beta_1 X)}$$\n",
    "\n",
    "`-` 위 모형은 간단한 계산을 통해 다음과 같이 표현된다.\n",
    "\n",
    "$$\\text{odds} : \\frac{P(X)}{1-P(X)} = \\exp(\\beta_0 + \\beta_1 X) ∈ (0, ∞)$$\n",
    "\n",
    "$$\\text{logit} : log\\Big(\\frac{P(X)}{1-P(X)}\\Big) = \\beta_0 + \\beta_1 X ∈ (-∞, ∞)$$"
   ]
  },
  {
   "cell_type": "markdown",
   "id": "0e31ddf4-99cd-4d49-b6ee-43bddaf35123",
   "metadata": {},
   "source": [
    "### C. 추정\n",
    "\n",
    "---\n",
    "\n"
   ]
  },
  {
   "cell_type": "markdown",
   "id": "d6f1160f-0066-4bc6-8043-a7cdd93cc6c1",
   "metadata": {},
   "source": [
    "> 반응변수가 범주형변수이므로, 최소제곱법을 사용하는 것은 적절하지 않을 수 있음. 애초에 못구함.\n",
    ">\n",
    "> 최대우도추정법(MLE)으로 보통 추정한다.\n",
    ">\n",
    "> 명시적인 해가 존재하지 않아 수치적인 접근으로 추정치를 얻는다.\n",
    "\n",
    "$$P(Y=1) = \\Big(\\frac{\\exp(z)}{1+\\exp(z)}\\Big)^y, P(Y=0) = \\Big(\\frac{1}{1+\\exp(z)}\\Big)^{1-y}$$"
   ]
  },
  {
   "cell_type": "markdown",
   "id": "8a9a7a6c-4243-41d7-b694-24f7c4edcf2d",
   "metadata": {},
   "source": [
    "### D. **선형판별분석**\n",
    "\n",
    "---"
   ]
  },
  {
   "cell_type": "markdown",
   "id": "585d601e-05eb-44a0-af8d-f64a3889ab99",
   "metadata": {},
   "source": [
    "베이즈 정리를 기반으로 한 사후 확률 계산"
   ]
  },
  {
   "cell_type": "markdown",
   "id": "23885749-229d-4dff-bfde-fd8bb922df6c",
   "metadata": {},
   "source": [
    "$$\\begin{align} P(y|x)P(x) & = P(x|y)P(y) \\\\\n",
    "P(y|x) & = \\frac{P(x|y)P(y)}{P(x)}\n",
    "\\end{align}$$\n",
    "\n",
    "> $x$가 어떤 분포를 따르는가? -> 정규분포 가정. $P(x|y = k) = f_k(x)$(k는 y의 범주), $P(Y=k) = \\pi_k, ~ (\\sum \\pi_k = 1)$\n",
    "\n",
    "$$P(Y = k | X = x) = p_k(x) = \\frac{\\pi_k f_k(x)}{\\sum_{l=1}^{K}f_l(x)}$$"
   ]
  },
  {
   "cell_type": "markdown",
   "id": "129c9553-a8cc-4119-aebd-65bb883590bf",
   "metadata": {},
   "source": [
    "**선형판별분석 : LDA**\n",
    "\n",
    "* 먼저 $p = 1, f_k(x)$가 정규분포임을 가정함. $N(\\mu_k, \\sigma_k^2)$\n",
    "* 각 범주에 해당하는 분포의 분산은 동일하다 가정, 즉, $\\sigma_1^2 = \\cdots = \\sigma^2_K = \\sigma^2$ : 분산의 동질성 가정\n",
    "* 이 경우 데이터 값 $x$에 대하여 조건부 확률 $p_k(x)$를 최대화하는 $k$를 판별(가장 포함될 확률이 높은 그룹을 찾는 것)하는 것은, $\\frac{\\pi_k f_k(x)}{\\sum_{l=1}^{K}f_l(x)}$에서 분모가 동일하므로 분자의 값이 가장 큰 것을 찾는 것과 동일하다. 이는 다음과 같은 값을 최대로 하는 $k$를 찾는 것과 같음을 보일 수 있다. (분모는 Optimization의 해와 관련이 없음.)\n",
    "\n",
    "$$\\text{판별함수 : } \\delta_k(x) = x\\frac{\\mu_k}{\\sigma^2} - \\frac{\\mu_k^2}{2\\sigma^2} + \\log \\pi_k$$\n",
    "\n",
    "* 판별함수가 1차 함수의 형태를 가지고 있으므로, 선형이다.\n",
    "\n",
    "* 예를 들어 $K = 2, \\pi_1 = \\pi_2$인 경우(), 분류를 위한 경계치는 아래와 같이 간단히 된다.(각 그룹에 속할 확률과 그룹 별 분산이 동일하므로, 그룹 별 평균의 중심을 경계치로 함)\n",
    "\n",
    "$$x = \\frac{\\mu_1 + \\mu_2}{2}$$"
   ]
  },
  {
   "cell_type": "markdown",
   "id": "bff7b74c-22a5-4277-9052-ce4665b061fb",
   "metadata": {},
   "source": [
    "`-` $p = 1$인 경우의 LDA 베이즈 분류기 근가\n",
    "\n",
    "$$\\begin{align} \\hat \\delta_k(x) & = x\\frac{\\hat\\mu_k}{\\hat\\sigma^2} - \\frac{\\hat\\mu_k^2}{2\\hat\\sigma^2} + \\log \\hat\\pi_k \\\\\n",
    "\\hat\\mu_k & = \\frac{1}{n_k} \\underset{i:y_i=k}{\\sum} x_i : \\text{범주 별 설명변수 평균} \\\\\n",
    "\\hat\\sigma^2 & = \\frac{1}{n - K} \\overset{K}{\\sum}\\underset{i:y_i=k}{\\sum}(x_i - \\hat\\mu_k)^2 : \\text{범주 별 제곱합의 총합을 자유도로 나눈 것} \\\\\n",
    "\\hat\\pi_k & = \\frac{n_k}{n}\n",
    "\\end{align}$$"
   ]
  },
  {
   "cell_type": "markdown",
   "id": "ba6f9e94-863a-41d4-97e8-e735bb2e7b80",
   "metadata": {},
   "source": [
    "### E. Confusion matrix(혼동 행렬)\n",
    "\n",
    "---"
   ]
  },
  {
   "cell_type": "markdown",
   "id": "c1206c5f-d3ba-441e-a6bc-16cc3173fab9",
   "metadata": {},
   "source": [
    "* Default 여부 혼동행렬\n",
    "\n",
    "||TRUE|TRUE||\n",
    "|-|-|-|-|\n",
    "|Prediction|No|Yes|Total|\n",
    "|No|9644|252|9896|\n",
    "|YES|23|81|104|\n",
    "|Total|9667|333|10000|"
   ]
  },
  {
   "cell_type": "markdown",
   "id": "2413f82f-695e-46fa-bc24-23050c0664a9",
   "metadata": {},
   "source": [
    "> 실제 채무 불이행자, True의 Yes에 해당하는 사람들에 대해서는 75%가 넘는 오분류가 나타남.\n",
    ">\n",
    "> 손해를 끼칠 위험이 큰 고객들을 분별해내야 하는 회사 입장에서는 위와 같은 결과는 바람직하지 않음.\n",
    ">\n",
    "> 데이터의 불균형 때문에 발생하는 문제. 디폴트를 하지 않는 사람들이 훨씬 더 많음.\n",
    ">\n",
    "> 베이즈 분류기에서도 전체 오류율을 최소화(Accuracy)하고자 하기 때문에 특정 범주에 대해서는 좋은 성능을 담보하지 않을 수 있음."
   ]
  },
  {
   "cell_type": "markdown",
   "id": "6fad4251-42a0-4365-9097-d4bf483e146f",
   "metadata": {},
   "source": [
    "* 민감도(Sensitivity) : 주로 관심이 있는 쪽\n",
    "\n",
    "> 1을 1로 분류하는 비율(진양성률, TPR)\n",
    "\n",
    "* 특이도(Specificity)\n",
    "\n",
    "> 0을 0으로 분류하는 비율(진음성률, TNR)\n",
    "\n",
    "**임계치 조정** : 범주가 두 개인 경우 베이즈 분류기는 다음과 같은 조건을 만족하는 관측치에 한하여 default = YES로 분류함.\n",
    "\n",
    "$$P(\\text{default} = YES|X = x) > 0.5$$\n",
    "\n",
    "민감도를 향상시키기 위해서 임계치를 낮춘다면, 특이도가 떨어진다."
   ]
  },
  {
   "cell_type": "markdown",
   "id": "ddaa6ecf-6f0a-41cb-aa07-33b5042944b8",
   "metadata": {},
   "source": [
    "### F. ROC curve\n",
    "\n",
    "---\n",
    "\n",
    "임계치를 변화시키면서 (1-특이도, 민감도)의 조합을 2차원 좌표평면 상에 나타낸 곡선\n",
    "\n",
    "이상적으로는 왼쪽 상단(0, 1)을 통과하는 것이 좋음(가장 이상적인 모형), 이 경우 곡선 아래 면적이 1이 됨.\n",
    "\n",
    "> 곡선 아래 면적이 1에 가까울수록 분류기의 성능이 좋은 것으로 볼 수 있다. 이 아래 면적을 AUC라 하며, 분류기의 성능을 나타내는 지표 중 하나로 활용된다."
   ]
  },
  {
   "cell_type": "markdown",
   "id": "54fa955f-d4ba-45ed-840d-31d63ed4677e",
   "metadata": {},
   "source": [
    "### G. QDA\n",
    "\n",
    "---\n",
    "\n"
   ]
  },
  {
   "cell_type": "markdown",
   "id": "abb38f35-812a-4834-8221-ca046f45422a",
   "metadata": {},
   "source": [
    "각 범주를 특정하는 정규분포의 분산에 이질성을 허용함. 분산이 동일하다는 가정이 없음.\n",
    "\n",
    "이 경우 판별함수가 $x$에 대한 2차식의 형태로 주어져 LDA보다 유연한(복잡한) 모형이 된다.\n",
    "\n",
    "> LDA를 써보고, 그 다음 QDA를 써보는 것이 좋다."
   ]
  },
  {
   "cell_type": "markdown",
   "id": "e810b557-b665-45b2-ae45-b0880dbe6c7c",
   "metadata": {},
   "source": [
    "**Naive Bayes**"
   ]
  },
  {
   "cell_type": "markdown",
   "id": "33c4d9b9-f9fa-4d60-9953-6ca19d70c4a5",
   "metadata": {},
   "source": [
    "LDA, QDA를 사용할 때, 느슨하게 유사확률을 사용하는 분류기. p가 큰 경우 계산이 어렵기 때문.\n",
    "\n",
    "$$P(x_1, \\cdots, x_p | A = a) = \\Pi_{i=1}^{p}P(x_i|A = a)$$"
   ]
  },
  {
   "cell_type": "markdown",
   "id": "ee62caba-6f38-4adb-9ea2-34d62929f9f2",
   "metadata": {},
   "source": [
    "### I. K-nearest neighbors : KNN\n",
    "\n",
    "---"
   ]
  },
  {
   "cell_type": "markdown",
   "id": "29bd06c8-c8b7-4fcc-b3cf-3530d9c46620",
   "metadata": {},
   "source": [
    "* 조건부 확률을 인접한 $K$개의 data points의 상대 비율로 추정함"
   ]
  },
  {
   "cell_type": "markdown",
   "id": "e1bf1139-26c7-48e6-a1ca-848385644c3e",
   "metadata": {},
   "source": [
    "적절한 K값을 선택하는 것이 모형에서 중요함."
   ]
  },
  {
   "cell_type": "markdown",
   "id": "e4fa5bae-1251-4a4e-8b1e-52d1184240be",
   "metadata": {},
   "source": [
    "### J. 분류기의 성능 비교\n",
    "\n",
    "---"
   ]
  },
  {
   "cell_type": "markdown",
   "id": "3f6422a6-4eb7-4930-8bb5-d7a2d3b914dd",
   "metadata": {},
   "source": [
    "* 범주가 2개일 때, LDA와 로지스틱 모형은 선형적인 경계를 생성한다는 측면에서 유사.\n",
    "> 각 범주의 분포가 정규분포로 근사되는지 여부에 따라서 두 방식의 성능이 엇갈릴 수 있음.\n",
    "\n",
    "* KNN은 decision boundary에 어떠한 가정도 하지 않음. 즉, 비선형의 경계일 경우 우월성이 보일 수 있음.\n",
    "\n",
    "* QDA는 KNN과 LDA/로지스틱의 중간 쯤에 위치하는 방법이라 볼 수 있음."
   ]
  },
  {
   "cell_type": "markdown",
   "id": "ad366042-df96-4fe8-8036-0061b707fdd5",
   "metadata": {},
   "source": [
    "`-` 여러 상황\n",
    "\n",
    "각 범주 내의 변수들은 서로 독립인 정규분포\n",
    "\n",
    "각 범주 내 변수들의 상관계수가 -0.5\n",
    "\n",
    "각 범주 내의 변수들은 t분포\n",
    "\n",
    "각 범주 내의 변수들은 각각 상관계수가 0.5, -0.5인 정규분포\n",
    "\n",
    "각 범주 내의 변수들은 서로 독립인 정규분포, 반응변수가 두 변수의 이차 다항식을 이용한 결합으로 생성\n",
    "\n",
    "각 범주 내의 변수들은 서로 독립인 정규분포, 반응변수가 두 변수의 복잡한 비선형결합으로 생성\n",
    "\n",
    "> 모든 상황에서 우월한 분류기는 없음."
   ]
  },
  {
   "cell_type": "markdown",
   "id": "8765c76e-827a-4379-9667-fe28a78c49be",
   "metadata": {},
   "source": [
    "비교적 단순한 모형은 로지스틱이나 LDA가 우수, 복잡한 모형일수록 QDA -> KNN이 우수.\n",
    "\n",
    "KNN에서도 적절한 수의 K를 설정하는 것이 필요함."
   ]
  },
  {
   "cell_type": "markdown",
   "id": "6a51d442-beff-456b-883e-dc4fa80370e4",
   "metadata": {},
   "source": [
    "## 2. 실습"
   ]
  },
  {
   "cell_type": "markdown",
   "id": "778dcbc6-6b88-410d-a0bf-441cd02c3fe2",
   "metadata": {},
   "source": [
    "### **A. 라이브러리 imports**\n",
    "\n",
    "---"
   ]
  },
  {
   "cell_type": "code",
   "execution_count": 1,
   "id": "1f10e7e6-8360-4588-940b-c1177924a957",
   "metadata": {},
   "outputs": [],
   "source": [
    "import numpy as np\n",
    "import pandas as pd\n",
    "from matplotlib.pyplot import subplots\n",
    "import statsmodels.api as sm\n",
    "from ISLP import load_data\n",
    "from ISLP.models import (ModelSpec as MS,summarize)\n",
    "from ISLP import confusion_table\n",
    "from ISLP.models import contrast\n",
    "from sklearn.discriminant_analysis import  (LinearDiscriminantAnalysis as LDA, QuadraticDiscriminantAnalysis as QDA)\n",
    "from sklearn.naive_bayes import GaussianNB\n",
    "from sklearn.neighbors import KNeighborsClassifier\n",
    "from sklearn.preprocessing import StandardScaler\n",
    "from sklearn.model_selection import train_test_split\n",
    "from sklearn.linear_model import LogisticRegression\n",
    "import matplotlib.pyplot as plt"
   ]
  },
  {
   "cell_type": "markdown",
   "id": "f7dbad32-4118-4651-8374-4c3b056df54a",
   "metadata": {},
   "source": [
    "### B. Smarket Data 분석"
   ]
  },
  {
   "cell_type": "code",
   "execution_count": 2,
   "id": "e5d3243b-3c99-49b3-a8fb-a32be2501700",
   "metadata": {},
   "outputs": [
    {
     "name": "stdout",
     "output_type": "stream",
     "text": [
      "Index(['Year', 'Lag1', 'Lag2', 'Lag3', 'Lag4', 'Lag5', 'Volume', 'Today',\n",
      "       'Direction'],\n",
      "      dtype='object')\n",
      "               Year      Lag1      Lag2      Lag3      Lag4      Lag5  \\\n",
      "Year       1.000000  0.029700  0.030596  0.033195  0.035689  0.029788   \n",
      "Lag1       0.029700  1.000000 -0.026294 -0.010803 -0.002986 -0.005675   \n",
      "Lag2       0.030596 -0.026294  1.000000 -0.025897 -0.010854 -0.003558   \n",
      "Lag3       0.033195 -0.010803 -0.025897  1.000000 -0.024051 -0.018808   \n",
      "Lag4       0.035689 -0.002986 -0.010854 -0.024051  1.000000 -0.027084   \n",
      "Lag5       0.029788 -0.005675 -0.003558 -0.018808 -0.027084  1.000000   \n",
      "Volume     0.539006  0.040910 -0.043383 -0.041824 -0.048414 -0.022002   \n",
      "Today      0.030095 -0.026155 -0.010250 -0.002448 -0.006900 -0.034860   \n",
      "Direction  0.074608 -0.039757 -0.024081  0.006132  0.004215  0.005423   \n",
      "\n",
      "             Volume     Today  Direction  \n",
      "Year       0.539006  0.030095   0.074608  \n",
      "Lag1       0.040910 -0.026155  -0.039757  \n",
      "Lag2      -0.043383 -0.010250  -0.024081  \n",
      "Lag3      -0.041824 -0.002448   0.006132  \n",
      "Lag4      -0.048414 -0.006900   0.004215  \n",
      "Lag5      -0.022002 -0.034860   0.005423  \n",
      "Volume     1.000000  0.014592   0.022951  \n",
      "Today      0.014592  1.000000   0.730563  \n",
      "Direction  0.022951  0.730563   1.000000  \n"
     ]
    },
    {
     "data": {
      "image/png": "[encoded data removed]",
      "text/plain": [
       "<Figure size 640x480 with 1 Axes>"
      ]
     },
     "metadata": {},
     "output_type": "display_data"
    }
   ],
   "source": [
    "Smarket = load_data('Smarket')\n",
    "Smarket\n",
    "print(Smarket.columns)\n",
    "import copy\n",
    "\n",
    "Smar = copy.deepcopy(Smarket)\n",
    "Smar['Direction'] = Smar['Direction'].map({'Up': 1, 'Down': 0})\n",
    "print(Smar.corr())\n",
    "plt.plot(Smar['Volume'], 'o')\n",
    "plt.show()"
   ]
  },
  {
   "cell_type": "markdown",
   "id": "1c584370-3c50-401e-af9a-2309f97d86bd",
   "metadata": {},
   "source": [
    "`-` 로지스틱 회귀분석 적용"
   ]
  },
  {
   "cell_type": "code",
   "execution_count": 3,
   "id": "c4145235-8254-4579-a51c-82d617a67882",
   "metadata": {},
   "outputs": [
    {
     "name": "stdout",
     "output_type": "stream",
     "text": [
      "0        True\n",
      "1        True\n",
      "2       False\n",
      "3        True\n",
      "4        True\n",
      "        ...  \n",
      "1245     True\n",
      "1246    False\n",
      "1247     True\n",
      "1248    False\n",
      "1249    False\n",
      "Name: Direction, Length: 1250, dtype: bool\n",
      "             coef  std err      z  P>|z|\n",
      "intercept -0.1260    0.241 -0.523  0.601\n",
      "Lag1      -0.0731    0.050 -1.457  0.145\n",
      "Lag2      -0.0423    0.050 -0.845  0.398\n",
      "Lag3       0.0111    0.050  0.222  0.824\n",
      "Lag4       0.0094    0.050  0.187  0.851\n",
      "Lag5       0.0103    0.050  0.208  0.835\n",
      "Volume     0.1354    0.158  0.855  0.392\n"
     ]
    }
   ],
   "source": [
    "allvars = Smarket.columns.drop(['Today', 'Direction', 'Year'])\n",
    "design = MS(allvars)\n",
    "X = design.fit_transform(Smarket)\n",
    "y = Smarket.Direction == \"Up\"\n",
    "print(y)\n",
    "glm = sm.GLM(y, X, family=sm.families.Binomial()) ## Bernoulli, logistic regression\n",
    "results = glm.fit()\n",
    "print(summarize(results))"
   ]
  },
  {
   "cell_type": "markdown",
   "id": "6508117d-b820-4c2a-a197-8ccf3599e722",
   "metadata": {},
   "source": [
    "`-` Confusion Matrix 산출"
   ]
  },
  {
   "cell_type": "code",
   "execution_count": 4,
   "id": "566e8ce7-ab52-446e-b586-3e744e263de4",
   "metadata": {},
   "outputs": [
    {
     "name": "stdout",
     "output_type": "stream",
     "text": [
      "Truth      Down   Up\n",
      "Predicted           \n",
      "Down        145  141\n",
      "Up          457  507\n"
     ]
    },
    {
     "data": {
      "text/plain": [
       "0.5216"
      ]
     },
     "execution_count": 4,
     "metadata": {},
     "output_type": "execute_result"
    }
   ],
   "source": [
    "probs = results.predict()\n",
    "probs[:10]\n",
    "labels = np.array(['Down']*1250)\n",
    "labels[probs>0.5] = \"Up\" ## Prediction\n",
    "print(confusion_table(labels, Smarket.Direction))\n",
    "np.mean(labels == Smarket.Direction) ## Accuracy"
   ]
  },
  {
   "cell_type": "markdown",
   "id": "6817aa2b-5c30-4b99-a288-f55fb1b19f47",
   "metadata": {},
   "source": [
    "> Up을 1로 본다면, 민감도는 높고, 특이도는 낮은 상황"
   ]
  },
  {
   "cell_type": "markdown",
   "id": "88ff2894-d998-42ed-9b37-417670004cc1",
   "metadata": {},
   "source": [
    "`-` 테스트 자료 검정"
   ]
  },
  {
   "cell_type": "code",
   "execution_count": 5,
   "id": "d53b203e-ec52-4477-b895-5db91369cc7e",
   "metadata": {},
   "outputs": [],
   "source": [
    "train = (Smarket.Year < 2005)\n",
    "Smarket_train = Smarket.loc[train]\n",
    "Smarket_test = Smarket.loc[~train]\n",
    "Smarket_test.shape\n",
    "\n",
    "X_train, X_test = X.loc[train], X.loc[~train]\n",
    "y_train, y_test = y.loc[train], y.loc[~train]\n",
    "glm_train = sm.GLM(y_train, X_train,family=sm.families.Binomial())\n",
    "results = glm_train.fit()\n",
    "probs = results.predict(exog=X_test)"
   ]
  },
  {
   "cell_type": "code",
   "execution_count": 6,
   "id": "8de5ecee-966b-49e2-9cca-60b5e031aebc",
   "metadata": {},
   "outputs": [
    {
     "name": "stdout",
     "output_type": "stream",
     "text": [
      "Truth      Down  Up\n",
      "Predicted          \n",
      "Down         77  97\n",
      "Up           34  44\n"
     ]
    },
    {
     "data": {
      "text/plain": [
       "0.4801587301587302"
      ]
     },
     "execution_count": 6,
     "metadata": {},
     "output_type": "execute_result"
    }
   ],
   "source": [
    "D = Smarket.Direction\n",
    "L_train, L_test = D.loc[train], D.loc[~train] ## train, test 데이터를 쪼갬\n",
    "labels = np.array(['Down']*252)\n",
    "labels[probs>0.5] = 'Up'\n",
    "print(confusion_table(labels, L_test))\n",
    "np.mean(labels == L_test) ## Accuracy"
   ]
  },
  {
   "cell_type": "markdown",
   "id": "6d3265e4-907f-4879-ac9b-9f2f41cfc3e3",
   "metadata": {},
   "source": [
    "`-` 전체 변수가 아닌 Lag1, Lag2만으로 로지스틱 회귀분석을 진행"
   ]
  },
  {
   "cell_type": "code",
   "execution_count": 7,
   "id": "1ddd1c94-d75a-463d-bef4-d7a8a4243da6",
   "metadata": {},
   "outputs": [
    {
     "name": "stdout",
     "output_type": "stream",
     "text": [
      "Truth      Down   Up\n",
      "Predicted           \n",
      "Down         35   35\n",
      "Up           76  106\n"
     ]
    },
    {
     "data": {
      "text/plain": [
       "0.5595238095238095"
      ]
     },
     "execution_count": 7,
     "metadata": {},
     "output_type": "execute_result"
    }
   ],
   "source": [
    "model = MS(['Lag1', 'Lag2']).fit(Smarket)\n",
    "X = model.transform(Smarket)\n",
    "X_train, X_test = X.loc[train], X.loc[~train]\n",
    "glm_train = sm.GLM(y_train,\n",
    "X_train,\n",
    "family=sm.families.Binomial())\n",
    "results = glm_train.fit()\n",
    "probs = results.predict(exog=X_test)\n",
    "labels = np.array(['Down']*252)\n",
    "labels[probs>0.5] = 'Up'\n",
    "print(confusion_table(labels, L_test))\n",
    "np.mean(labels == L_test) ## Accuracy"
   ]
  },
  {
   "cell_type": "markdown",
   "id": "678bc6c9-0b80-4285-b868-10c650cb2725",
   "metadata": {},
   "source": [
    "> Accuracy가 확실히 개선됨."
   ]
  },
  {
   "cell_type": "markdown",
   "id": "a133a796-ae45-4941-8219-daf3e4eecb20",
   "metadata": {},
   "source": [
    "`-` 새로운 데이터의 prediction 매커니즘 표시"
   ]
  },
  {
   "cell_type": "code",
   "execution_count": 8,
   "id": "965dac99-f3d3-4a14-a798-a275b4a4d49b",
   "metadata": {},
   "outputs": [
    {
     "name": "stdout",
     "output_type": "stream",
     "text": [
      "0    0.479146\n",
      "1    0.496094\n",
      "dtype: float64\n"
     ]
    }
   ],
   "source": [
    "newdata = pd.DataFrame({'Lag1':[1.2, 1.5], 'Lag2':[1.1, -0.8]});\n",
    "newX = model.transform(newdata)\n",
    "print(results.predict(newX))"
   ]
  },
  {
   "cell_type": "markdown",
   "id": "7a8779d5-cf81-4705-8fe1-ceeb232f84e3",
   "metadata": {},
   "source": [
    "### B. LDA & QDA"
   ]
  },
  {
   "cell_type": "markdown",
   "id": "a52c4599-3f27-4c59-b4bf-adcd889a9199",
   "metadata": {},
   "source": [
    "`-` 공분산을 사용하는 분류 모형"
   ]
  },
  {
   "cell_type": "code",
   "execution_count": 9,
   "id": "8fe5924f-6638-4a16-a9a6-572eb143f955",
   "metadata": {},
   "outputs": [
    {
     "name": "stdout",
     "output_type": "stream",
     "text": [
      "[[ 0.04279022  0.03389409]\n",
      " [-0.03954635 -0.03132544]]\n",
      "[[ 1.50886781 -0.03340234]\n",
      " [-0.03340234  1.5095363 ]]\n",
      "['Down' 'Up']\n",
      "[0.49198397 0.50801603]\n"
     ]
    }
   ],
   "source": [
    "lda = LDA(store_covariance=True)\n",
    "XX_train, XX_test = [M.drop(columns=['intercept']) for M in [X_train, X_test]] ## 두 개 변수만 사용\n",
    "\n",
    "a, c = np.unique(L_train, return_counts=True)\n",
    "# print(c/np.sum(c))\n",
    "\n",
    "lda.fit(XX_train, L_train)\n",
    "print(lda.means_) ## 범주 1에 대한 mean vector, 범주 2에 대한 mean vector\n",
    "print(lda.covariance_) ## 공분산 행렬(공유)\n",
    "print(lda.classes_) ## 분류 라벨\n",
    "print(lda.priors_) ## y 실제 범주의 비율 (pi 계산할 때 사용)"
   ]
  },
  {
   "cell_type": "markdown",
   "id": "d648238a-c35b-49dd-bc28-8b28231d371c",
   "metadata": {},
   "source": [
    "`-` LDA를 이용한 예측결과 및 혼동행렬"
   ]
  },
  {
   "cell_type": "code",
   "execution_count": 10,
   "id": "317bd848-52f0-4aa8-94bd-c910125abb12",
   "metadata": {},
   "outputs": [
    {
     "name": "stdout",
     "output_type": "stream",
     "text": [
      "['Up' 'Up' 'Up' 'Up' 'Up' 'Up' 'Up' 'Up' 'Up' 'Up' 'Up' 'Down' 'Up' 'Up'\n",
      " 'Up' 'Up' 'Up' 'Down' 'Up' 'Up' 'Down' 'Down' 'Down' 'Up' 'Down' 'Down'\n",
      " 'Up' 'Up' 'Up' 'Down' 'Down' 'Up' 'Up' 'Up' 'Up' 'Up' 'Up' 'Down' 'Down'\n",
      " 'Up' 'Up' 'Up' 'Up' 'Down' 'Down' 'Up' 'Up' 'Up' 'Up' 'Up' 'Up' 'Up' 'Up'\n",
      " 'Up' 'Up' 'Up' 'Up' 'Up' 'Up' 'Up' 'Down' 'Down' 'Up' 'Up' 'Down' 'Down'\n",
      " 'Down' 'Up' 'Up' 'Up' 'Up' 'Up' 'Up' 'Up' 'Down' 'Up' 'Down' 'Down' 'Up'\n",
      " 'Up' 'Up' 'Up' 'Up' 'Down' 'Up' 'Down' 'Down' 'Up' 'Up' 'Up' 'Up' 'Up'\n",
      " 'Up' 'Down' 'Down' 'Down' 'Down' 'Up' 'Up' 'Up' 'Up' 'Up' 'Down' 'Up'\n",
      " 'Up' 'Down' 'Up' 'Up' 'Up' 'Up' 'Up' 'Up' 'Up' 'Up' 'Up' 'Up' 'Down' 'Up'\n",
      " 'Up' 'Up' 'Up' 'Up' 'Up' 'Down' 'Down' 'Up' 'Up' 'Down' 'Up' 'Up' 'Down'\n",
      " 'Down' 'Down' 'Up' 'Up' 'Up' 'Up' 'Up' 'Down' 'Up' 'Up' 'Up' 'Up' 'Down'\n",
      " 'Down' 'Up' 'Up' 'Down' 'Down' 'Up' 'Up' 'Up' 'Up' 'Up' 'Up' 'Up' 'Up'\n",
      " 'Up' 'Up' 'Up' 'Up' 'Up' 'Up' 'Up' 'Up' 'Up' 'Up' 'Up' 'Down' 'Down' 'Up'\n",
      " 'Down' 'Down' 'Up' 'Up' 'Up' 'Up' 'Up' 'Up' 'Down' 'Up' 'Up' 'Up' 'Up'\n",
      " 'Up' 'Up' 'Up' 'Up' 'Down' 'Down' 'Up' 'Up' 'Up' 'Up' 'Up' 'Up' 'Up' 'Up'\n",
      " 'Up' 'Down' 'Down' 'Up' 'Down' 'Up' 'Up' 'Down' 'Down' 'Up' 'Up' 'Down'\n",
      " 'Down' 'Up' 'Down' 'Down' 'Up' 'Up' 'Up' 'Up' 'Down' 'Down' 'Up' 'Up'\n",
      " 'Up' 'Down' 'Down' 'Down' 'Down' 'Down' 'Up' 'Up' 'Up' 'Up' 'Down' 'Down'\n",
      " 'Up' 'Up' 'Up' 'Up' 'Up' 'Up' 'Down' 'Down' 'Up' 'Up' 'Up' 'Up' 'Up'\n",
      " 'Down' 'Up' 'Up' 'Up' 'Up']\n",
      "Truth      Down   Up\n",
      "Predicted           \n",
      "Down         35   35\n",
      "Up           76  106\n"
     ]
    }
   ],
   "source": [
    "lda_pred = lda.predict(XX_test)\n",
    "print(lda_pred)\n",
    "print(confusion_table(lda_pred, L_test))"
   ]
  },
  {
   "cell_type": "markdown",
   "id": "db4b6ac9-0261-4c6f-a94f-e853602f5c4e",
   "metadata": {},
   "source": [
    "> 나름대로 작동을 잘 하는 것을 볼 수 있음."
   ]
  },
  {
   "cell_type": "markdown",
   "id": "4c055476-c6ea-4e47-8f8e-9282d1fd1b9b",
   "metadata": {},
   "source": [
    "`-` LDA 개별 관측치의 판별 확률"
   ]
  },
  {
   "cell_type": "code",
   "execution_count": 14,
   "id": "4ee2de80-86ba-47d9-997f-430b2a26f96b",
   "metadata": {},
   "outputs": [],
   "source": [
    "lda_prob = lda.predict_proba(XX_test)\n",
    "# print(lda_prob)"
   ]
  },
  {
   "cell_type": "markdown",
   "id": "9a6db9b5-1233-4d65-bec8-aaefe73f30c4",
   "metadata": {},
   "source": [
    "확률이 큰 차이가 나지 않기 때문에 분류가 어려울 수 있다."
   ]
  },
  {
   "cell_type": "markdown",
   "id": "35a0c4ca-de37-40be-b0ef-09dd58d0291d",
   "metadata": {},
   "source": [
    "`-` QDA를 이용한 분석"
   ]
  },
  {
   "cell_type": "code",
   "execution_count": 12,
   "id": "889a0d4b-7732-4029-8554-4123e8ac09aa",
   "metadata": {},
   "outputs": [
    {
     "name": "stdout",
     "output_type": "stream",
     "text": [
      "QuadraticDiscriminantAnalysis(store_covariance=True)\n",
      "[[ 1.50662277 -0.03924806]\n",
      " [-0.03924806  1.53559498]]\n",
      "[[ 1.51700576 -0.02787349]\n",
      " [-0.02787349  1.49026815]]\n"
     ]
    }
   ],
   "source": [
    "qda = QDA(store_covariance=True)\n",
    "print(qda.fit(XX_train, L_train))\n",
    "\n",
    "qda.means_, qda.priors_\n",
    "print(qda.covariance_[0]) ## 공분산 행렬이 다름을 가정\n",
    "print(qda.covariance_[1])"
   ]
  },
  {
   "cell_type": "code",
   "execution_count": 13,
   "id": "a9ed725d-6f9c-4c0c-9691-738f29eb059c",
   "metadata": {},
   "outputs": [
    {
     "name": "stdout",
     "output_type": "stream",
     "text": [
      "Truth      Down   Up\n",
      "Predicted           \n",
      "Down         30   20\n",
      "Up           81  121\n"
     ]
    },
    {
     "data": {
      "text/plain": [
       "0.5992063492063492"
      ]
     },
     "execution_count": 13,
     "metadata": {},
     "output_type": "execute_result"
    }
   ],
   "source": [
    "## confusion matrix\n",
    "\n",
    "qda_pred = qda.predict(XX_test)\n",
    "#print(qda_pred)\n",
    "print(confusion_table(qda_pred, L_test))\n",
    "np.mean(qda_pred == L_test) ## accuracy"
   ]
  },
  {
   "cell_type": "markdown",
   "id": "69bfc11e-8ddb-4c6c-9cd7-31ee340079ab",
   "metadata": {},
   "source": [
    "> LDA보다 조금 나아진 성능"
   ]
  },
  {
   "cell_type": "markdown",
   "id": "93025bfc-c345-4d8a-8c7f-1f7e6765edf7",
   "metadata": {},
   "source": [
    "### C. Naive Bayes를 이용"
   ]
  },
  {
   "cell_type": "code",
   "execution_count": 15,
   "id": "96ac8668-bcdf-4e45-95a0-f0207ec887e3",
   "metadata": {},
   "outputs": [
    {
     "name": "stdout",
     "output_type": "stream",
     "text": [
      "GaussianNB()\n",
      "[0.49198397 0.50801603]\n",
      "[[ 0.04279022  0.03389409]\n",
      " [-0.03954635 -0.03132544]]\n",
      "[[1.50355429 1.53246749]\n",
      " [1.51401364 1.48732877]]\n"
     ]
    }
   ],
   "source": [
    "NB = GaussianNB()\n",
    "rs = NB.fit(XX_train, L_train)\n",
    "print(rs)\n",
    "print(NB.class_prior_) ## \n",
    "print(NB.theta_) ## 각 종별 평균 벡터\n",
    "print(NB.var_) ## 공분산 행렬이 아님. QDA와 같은 느낌인데 분산 term만 나타낸 것"
   ]
  },
  {
   "cell_type": "code",
   "execution_count": 16,
   "id": "2a2158ec-ab7a-435b-b615-0c6b2db1657d",
   "metadata": {},
   "outputs": [
    {
     "name": "stdout",
     "output_type": "stream",
     "text": [
      "Truth      Down   Up\n",
      "Predicted           \n",
      "Down         29   20\n",
      "Up           82  121\n"
     ]
    }
   ],
   "source": [
    "nb_labels = NB.predict(XX_test)\n",
    "print(confusion_table(nb_labels , L_test))"
   ]
  },
  {
   "cell_type": "markdown",
   "id": "d69bfaa1-c5a0-4797-ba96-981da3caf2b6",
   "metadata": {},
   "source": [
    "> 성능이 그렇게 떨어지지는 않는다."
   ]
  },
  {
   "cell_type": "markdown",
   "id": "54f0f283-0574-4c08-b9c8-6fdf1c726e3a",
   "metadata": {},
   "source": [
    "### D. KNN"
   ]
  },
  {
   "cell_type": "code",
   "execution_count": 17,
   "id": "1f53c9f7-8b5e-4f26-a266-dd513e7d7ad5",
   "metadata": {},
   "outputs": [
    {
     "name": "stdout",
     "output_type": "stream",
     "text": [
      "Truth      Down  Up\n",
      "Predicted          \n",
      "Down         43  58\n",
      "Up           68  83\n",
      "Truth      Down  Up\n",
      "Predicted          \n",
      "Down         48  55\n",
      "Up           63  86\n"
     ]
    }
   ],
   "source": [
    "knn1 = KNeighborsClassifier(n_neighbors=1) ## K = 1인 KNN\n",
    "knn1.fit(XX_train , L_train)\n",
    "knn1_pred = knn1.predict(XX_test)\n",
    "print(confusion_table(knn1_pred , L_test))\n",
    "\n",
    "knn3 = KNeighborsClassifier(n_neighbors=3)\n",
    "knn3_pred = knn3.fit(XX_train , L_train).predict(XX_test)\n",
    "print(confusion_table(knn3_pred , L_test))"
   ]
  },
  {
   "cell_type": "markdown",
   "id": "e6f29403-ee44-4333-96f5-b16eeefb0824",
   "metadata": {},
   "source": [
    "`-` 새 데이터"
   ]
  },
  {
   "cell_type": "code",
   "execution_count": 18,
   "id": "78e36bc0-4000-4518-87e8-c40be7817b07",
   "metadata": {},
   "outputs": [
    {
     "name": "stdout",
     "output_type": "stream",
     "text": [
      "MOSTYPE     1.000086\n",
      "MAANTHUI    1.000086\n",
      "MGEMOMV     1.000086\n",
      "MGEMLEEF    1.000086\n",
      "MOSHOOFD    1.000086\n",
      "              ...   \n",
      "AZEILPL     1.000086\n",
      "APLEZIER    1.000086\n",
      "AFIETS      1.000086\n",
      "AINBOED     1.000086\n",
      "ABYSTAND    1.000086\n",
      "Length: 85, dtype: float64\n"
     ]
    }
   ],
   "source": [
    "# data loading\n",
    "# ------------\n",
    "Caravan = load_data('Caravan')\n",
    "Purchase = Caravan.Purchase\n",
    "Purchase.value_counts()\n",
    "feature_df = Caravan.drop(columns=['Purchase'])\n",
    "\n",
    "scaler = StandardScaler(with_mean=True, with_std=True, copy=True)\n",
    "scaler.fit(feature_df) # 표준화를 위한 평균과 표준편차를 계산\n",
    "\n",
    "X_std = scaler.transform(feature_df) # 표준화를 진행\n",
    "\n",
    "feature_std = pd.DataFrame(X_std , columns=feature_df.columns)\n",
    "print(feature_std.std())"
   ]
  },
  {
   "cell_type": "code",
   "execution_count": 19,
   "id": "33c6b641-f36a-4c1c-af18-04883fbae289",
   "metadata": {},
   "outputs": [
    {
     "name": "stdout",
     "output_type": "stream",
     "text": [
      "0.111\n",
      "0.067\n",
      "Truth       No  Yes\n",
      "Predicted          \n",
      "No         880   58\n",
      "Yes         53    9\n"
     ]
    }
   ],
   "source": [
    "(X_train, X_test, y_train, y_test) = train_test_split(feature_std, Purchase, test_size=1000, random_state=0)\n",
    "knn1 = KNeighborsClassifier(n_neighbors=1)\n",
    "knn1_pred = knn1.fit(X_train , y_train).predict(X_test)\n",
    "\n",
    "print(np.mean(y_test != knn1_pred)), print(np.mean(y_test != \"No\"))\n",
    "print(confusion_table(knn1_pred , y_test))"
   ]
  },
  {
   "cell_type": "markdown",
   "id": "b3df1ec6-9541-442d-a79a-3c0c9a777715",
   "metadata": {},
   "source": [
    "> 성능이 확연히 올라감. prediction을 할 때, 표준화를 하는 것이 더 성능 면에서 좋음"
   ]
  },
  {
   "cell_type": "markdown",
   "id": "5a04e3ad-e8cb-49c9-b9e8-0578a98cf1c1",
   "metadata": {},
   "source": [
    "`-` Sensitivity만 확인"
   ]
  },
  {
   "cell_type": "code",
   "execution_count": 20,
   "id": "8c3160e1-07d5-49bd-a322-48b646dc39a0",
   "metadata": {},
   "outputs": [
    {
     "name": "stdout",
     "output_type": "stream",
     "text": [
      "K=1: # predicted to rent: 62, # who did rent 9, accuracy 14.5%\n",
      "K=2: # predicted to rent:  6, # who did rent 1, accuracy 16.7%\n",
      "K=3: # predicted to rent: 20, # who did rent 3, accuracy 15.0%\n",
      "K=4: # predicted to rent:  4, # who did rent 0, accuracy 0.0%\n",
      "K=5: # predicted to rent:  7, # who did rent 1, accuracy 14.3%\n"
     ]
    }
   ],
   "source": [
    "for K in range(1,6):\n",
    "  knn = KNeighborsClassifier(n_neighbors=K)\n",
    "  knn_pred = knn.fit(X_train , y_train).predict(X_test)\n",
    "  C = confusion_table(knn_pred, y_test)\n",
    "  templ = ('K={0:d}: # predicted to rent: {1:>2},' + ' # who did rent {2:d}, accuracy {3:.1%}')\n",
    "  pred = C.loc['Yes'].sum()\n",
    "  did_rent = C.loc['Yes','Yes']\n",
    "  print(templ.format(K, pred, did_rent, did_rent / pred))\n",
    "  # rent를 한 사람을 맞춘 것에 대한 정확도임"
   ]
  },
  {
   "cell_type": "markdown",
   "id": "61debb04-b629-4818-927b-26221f259aeb",
   "metadata": {},
   "source": [
    "> 좀 불규칙함. 5가 제일 낫긴 했음."
   ]
  },
  {
   "cell_type": "markdown",
   "id": "e7abb4a9-3ba2-4bb3-99b9-dacc48e27004",
   "metadata": {},
   "source": [
    "### E. 로지스틱 회귀분석 분류 기준 변경(cut-off value)"
   ]
  },
  {
   "cell_type": "code",
   "execution_count": 23,
   "id": "16b74e9f-565b-4262-ac17-5397b16cf587",
   "metadata": {},
   "outputs": [
    {
     "name": "stdout",
     "output_type": "stream",
     "text": [
      "Truth       No  Yes\n",
      "Predicted          \n",
      "No         933   67\n",
      "Yes          0    0\n",
      "Truth       No  Yes\n",
      "Predicted          \n",
      "No         913   58\n",
      "Yes         20    9\n"
     ]
    }
   ],
   "source": [
    "logit = LogisticRegression(C=1e10 , solver='liblinear')\n",
    "logit.fit(X_train , y_train)\n",
    "logit_pred = logit.predict_proba(X_test)\n",
    "logit_labels = np.where(logit_pred[:,1] > 5, 'Yes', 'No') ## 전부 No로 예측, 민감도는 0\n",
    "print(confusion_table(logit_labels , y_test))\n",
    "logit_labels = np.where(logit_pred[:,1]>0.25, 'Yes', 'No')\n",
    "print(confusion_table(logit_labels , y_test))"
   ]
  },
  {
   "cell_type": "markdown",
   "id": "112dc425-0221-45a7-9f91-7a18dcacf053",
   "metadata": {},
   "source": [
    "### F. 제약 및 다양한 회귀분석"
   ]
  },
  {
   "cell_type": "markdown",
   "id": "348480a1-3040-4eee-9ed5-06b66c00a732",
   "metadata": {},
   "source": [
    "`-` 과제나 시험범위 내에 들어가진 않음. 읽어만 보셈(포아송 분포 가정)"
   ]
  }
 ],
 "metadata": {
  "kernelspec": {
   "display_name": "Python 3 (ipykernel)",
   "language": "python",
   "name": "python3"
  },
  "language_info": {
   "codemirror_mode": {
    "name": "ipython",
    "version": 3
   },
   "file_extension": ".py",
   "mimetype": "text/x-python",
   "name": "python",
   "nbconvert_exporter": "python",
   "pygments_lexer": "ipython3",
   "version": "3.10.14"
  }
 },
 "nbformat": 4,
 "nbformat_minor": 5
}
