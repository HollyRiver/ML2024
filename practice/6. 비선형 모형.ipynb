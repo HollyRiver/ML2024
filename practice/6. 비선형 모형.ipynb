{
 "cells": [
  {
   "cell_type": "markdown",
   "metadata": {},
   "source": [
    "# Moving beyond linearity"
   ]
  },
  {
   "cell_type": "markdown",
   "metadata": {},
   "source": [
    "## 1. 이론"
   ]
  },
  {
   "cell_type": "markdown",
   "metadata": {},
   "source": [
    "### **A. 선형 모형의 한계**"
   ]
  },
  {
   "cell_type": "markdown",
   "metadata": {},
   "source": [
    "* 선형모형은 해석 및 적용이 단순하다는 장점이 있다.\n",
    "* 하지만, 모형이 제한적이므로 예측 성능에 한계가 존재하는 경우가 많다.\n",
    "\n",
    "`-` Polynomial regression\n",
    "\n",
    "> 적절한차수 p의 선택을 위하여 CV를 해야 함.\n",
    ">\n",
    "> 전역에서 곡률이 유사하면 문제가 없으나, 로컬에서 곡률이 바뀌면 적절하지 못함.\n",
    "\n",
    "\n",
    "`-` Regression splines\n",
    "\n",
    "> 예측변수의 공간을 K개로 나누어 각각 다항회귀모형을 적합한다. 적합된 함수들이 어느 정도의 smoothness를 가지도록 제한을 둔다.(미분을 몇 번 까지 할 수 있는지에 대한 제약. 2차, 3차 등)\n",
    ">\n",
    "> 구간을 잘게 쪼개는 편\n",
    ">\n",
    "> smoothness를 위해 구간을 overlaping하는 기법도 존재한다. (차수가 높아질 수록 많이 겹치게 만듦)\n",
    "\n",
    "$$f(x) = \\underset{k=1}{\\overset{K}{\\sum}} \\alpha_k B_k(x)$$\n",
    "\n",
    "* **구간(dots)을 얼마나 잡을지(데이터의 밀도가 높으면 dots을 더 촘촘하게... 보통 log(n)개로 잡는 것을 추천)** : CV를 쓰기도 함\n",
    "* dots의 위치를 어떻게 잡아야 하는지 : 이쪽은 CV를 쓰기 어려움. 일반적으로 uniform을 이용(equality)하거나, 데이터 포인트의 개수가 동일하도록 나누거나... > 이 정도 두 방식은 CV할 수 있겠네. 두배로 잡으면 되니까\n",
    "* 차수를 어떻게 잡을지(보통은 2차, 3차 정도 잡으면 잘 품)\n",
    "\n",
    "`-` Smoothing splines\n",
    "\n",
    "> Regression splines와 비슷하나, shirinkage 방법을 동원.\n",
    "\n",
    "$$\\sum(y_i - y(x_i))^2 + \\lambda \\int (g^n(t))^2 dt$$\n",
    "\n",
    "> 결국엔 함수의 변화가 급격하지 않도록 하는 것.\n",
    ">\n",
    "> 후항을 0으로 만들기 위해서는 $g$가 직선이여야 함. 이에 따라 함수를 추정할 때 직선으로 축소시키는 것에 중요시함."
   ]
  },
  {
   "cell_type": "markdown",
   "metadata": {},
   "source": []
  }
 ],
 "metadata": {
  "language_info": {
   "name": "python"
  }
 },
 "nbformat": 4,
 "nbformat_minor": 2
}
