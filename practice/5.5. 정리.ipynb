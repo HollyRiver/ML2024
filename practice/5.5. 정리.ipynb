{
 "cells": [
  {
   "cell_type": "markdown",
   "metadata": {},
   "source": [
    "### 현재까지의 로드맵"
   ]
  },
  {
   "cell_type": "markdown",
   "metadata": {},
   "source": [
    "`-` 지도학습\n",
    "\n",
    "* $X$를 이용하여 $Y$를 예측하는 문제. 기계학습에선 Y가 수치형이면 회귀, 범주형이면 분류로 구분함 ㅇㅅㅇ\n",
    "\n",
    "$$\\begin{align} Y & = \\boldsymbol X\\beta + \\epsilon \\\\\n",
    "\\Rightarrow Y & = f(x_1, \\cdots, x_n) + \\epsilon\n",
    "\\end{align}$$"
   ]
  },
  {
   "cell_type": "markdown",
   "metadata": {},
   "source": [
    "* 데이터는 크게 아래로 나뉨\n",
    "\n",
    "|구분|변수가 적음|변수가 많음|\n",
    "|:-:|:-:|:-:|\n",
    "|선형|제일 쉬운 것. OLS같은 걸로도 충분히 가능|변수선택, Shirinkge, 차원 축소 등이 필요|\n",
    "|비선형|Spline 등 변수가 적을 때 사용 가능한 모형들|실제 데이터는 이런 경우가 많음, 전통적인 통계적 모형만으로 분석하기 어려움|\n",
    "\n",
    "&nbsp;\n",
    "\n",
    "> Kaggle Dataset이 있다면, 어떤 데이터인지, 어떤 방법론에 특화되어 있는지를 알아야 함. 보통 비선형 데이터로 많이 쓸 거임. 근데 애초에 선형 모형은 거의 없징."
   ]
  },
  {
   "cell_type": "markdown",
   "metadata": {},
   "source": [
    "### 중간고사 Summary"
   ]
  },
  {
   "cell_type": "markdown",
   "metadata": {},
   "source": [
    "* 변수가 너무 많으면, 전진선택법이 가장 쉬운 변수선택법임.\n",
    "\n",
    "* 추정량의 분산은 데이터가 가지고 있는 임의성, Randomness때문에 발생한다. 데이터가 Random Sample이기 때문에 발생한다.\n",
    "\n",
    "* 기계학습의 영역에서 모형의 MSE를 분해할 때, 회귀분석과 용어의 차이를 인지해야 함.\n",
    "\n",
    "* MultiClassification에서 민감도를 산출할 때\n",
    "\n",
    "> * 다 더하고 범주 개수로 나누는 경우(가중치 동일) : 특정 범주의 예측이 중요한 경우\n",
    ">\n",
    "> * 개별 범주 비율의 가중합으로 계산하는 경우\n",
    ">\n",
    "> 둘다 사용함. 특정한 범주에서 제대로 예측하고 있는지를 판단하기 위함."
   ]
  }
 ],
 "metadata": {
  "language_info": {
   "name": "python"
  }
 },
 "nbformat": 4,
 "nbformat_minor": 2
}
