{
 "cells": [
  {
   "cell_type": "markdown",
   "id": "6c1b68a9-a633-4306-8b77-96d4f6dca9d3",
   "metadata": {},
   "source": [
    "# 분류 모형 Classification\n",
    "\n",
    "---\n",
    "\n"
   ]
  },
  {
   "cell_type": "markdown",
   "id": "68c7f714-ca78-4b79-9a97-25349afa2e45",
   "metadata": {},
   "source": [
    "## 1. 이론적 배경"
   ]
  },
  {
   "cell_type": "markdown",
   "id": "8793d0f0-2e40-40e5-861c-c28f24851087",
   "metadata": {},
   "source": [
    "### A. Classification\n",
    "\n",
    "---\n",
    "\n"
   ]
  },
  {
   "cell_type": "markdown",
   "id": "227a9041-bef1-4f61-8ff2-763dc3b0c4a2",
   "metadata": {},
   "source": [
    "**반응변수가 질적(qualitative : 수치를 포함) / 범주형(categorical : True or False) 변수인 경우**\n",
    "\n",
    "`-` example\n",
    "\n",
    "- 응급실에 오는 사람들을 증상을 바탕으로 세 가지 범주로 분류함(Classification)\n",
    "- 사용자의 IP주소, 과거 거래내역 등을 근거로 온라인 거래 승인 여부를 결정함(Binary)\n",
    "- 이미지를 보고 개/고양이, 질병유무 등을 판별해냄(Binary)\n",
    "\n",
    "`-` Linear Regression이 아닌 이유\n",
    "\n",
    "> 반응변수의 숫자는 범주의 구분을 위한 레이블일 뿐 숫자로써의 의미는 전혀 가지지 않음.\n",
    ">\n",
    "> Y에 대한 직접적 모형화가 아닌 Y가 특정 범주에 포함될 확률을 모형화함."
   ]
  },
  {
   "cell_type": "markdown",
   "id": "5be51231-15e1-4e12-8c19-da593351ab4f",
   "metadata": {},
   "source": [
    "`-` 임계치 Threshold"
   ]
  },
  {
   "cell_type": "markdown",
   "id": "7fca6fa6-50ae-49f4-87f4-7977ed37be5f",
   "metadata": {},
   "source": [
    "* 특정 관측치에 대해 p(X) > 0.5인 경우 True로 예측할 수 있다. 보수적인 결정을 내리고자 하는 경우 p(X) > 0.1을 True라고 예측하는 것도 가능하다. 이러한 기준이 되는 수치를 임계치라고 한다."
   ]
  },
  {
   "cell_type": "markdown",
   "id": "f656b5ab-5807-4f35-ad09-4c5f41c4e965",
   "metadata": {},
   "source": [
    "### B. 모형\n",
    "\n",
    "---\n",
    "\n"
   ]
  },
  {
   "cell_type": "markdown",
   "id": "785d5555-0427-417f-a5ec-9b9c636e512e",
   "metadata": {},
   "source": [
    "관심이 되는 반응변수 값을 보통 1, 나머지를 0이라 하자.\n",
    "\n",
    "$$Pr(Y = 1|X) = P(X) ∈ (0, 1)$$\n",
    "\n",
    "위 확률을 $X$에 대하여 선형으로 모형화하면(선형회귀모형)\n",
    "\n",
    "$$P(X) = \\beta_0 + \\beta_1 X : \\text{확률값이 모든 실수로 나타난다}$$\n",
    "\n",
    "따라서 확률값을 $(0, 1)$사이의 값으로 예측해주는 모형함수가 필요한데, 대표적인 것이 로지스틱 함수이다.\n",
    "\n",
    "$$P(X) = \\frac{\\exp(\\beta_0 + \\beta_1 X)}{1 + \\exp(\\beta_0 + \\beta_1 X)}$$\n",
    "\n",
    "`-` 위 모형은 간단한 계산을 통해 다음과 같이 표현된다.\n",
    "\n",
    "$$\\text{odds} : \\frac{P(X)}{1-P(X)} = \\exp(\\beta_0 + \\beta_1 X) ∈ (0, ∞)$$\n",
    "\n",
    "$$\\text{logit} : log\\Big(\\frac{P(X)}{1-P(X)}\\Big) = \\beta_0 + \\beta_1 X ∈ (-∞, ∞)$$"
   ]
  },
  {
   "cell_type": "markdown",
   "id": "0e31ddf4-99cd-4d49-b6ee-43bddaf35123",
   "metadata": {},
   "source": [
    "### C. 추정\n",
    "\n",
    "---\n",
    "\n"
   ]
  },
  {
   "cell_type": "markdown",
   "id": "d6f1160f-0066-4bc6-8043-a7cdd93cc6c1",
   "metadata": {},
   "source": [
    "> 반응변수가 범주형변수이므로, 최소제곱법을 사용하는 것은 적절하지 않을 수 있음. 애초에 못구함.\n",
    ">\n",
    "> 최대우도추정법(MLE)으로 보통 추정한다.\n",
    ">\n",
    "> 명시적인 해가 존재하지 않아 수치적인 접근으로 추정치를 얻는다.\n",
    "\n",
    "$$P(Y=1) = \\Big(\\frac{\\exp(z)}{1+\\exp(z)}\\Big)^y, P(Y=0) = \\Big(\\frac{1}{1+\\exp(z)}\\Big)^{1-y}$$"
   ]
  },
  {
   "cell_type": "code",
   "execution_count": null,
   "id": "39542bfd-afcf-4f1c-9951-f779f07d8b84",
   "metadata": {},
   "outputs": [],
   "source": []
  }
 ],
 "metadata": {
  "kernelspec": {
   "display_name": "Python 3 (ipykernel)",
   "language": "python",
   "name": "python3"
  },
  "language_info": {
   "codemirror_mode": {
    "name": "ipython",
    "version": 3
   },
   "file_extension": ".py",
   "mimetype": "text/x-python",
   "name": "python",
   "nbconvert_exporter": "python",
   "pygments_lexer": "ipython3",
   "version": "3.10.14"
  }
 },
 "nbformat": 4,
 "nbformat_minor": 5
}
