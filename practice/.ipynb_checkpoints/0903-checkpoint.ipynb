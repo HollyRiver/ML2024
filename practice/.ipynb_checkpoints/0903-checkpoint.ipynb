{
 "cells": [
  {
   "cell_type": "markdown",
   "id": "398f9a2f-39be-4b2d-874d-bab7addd004c",
   "metadata": {},
   "source": [
    "### Machine Learning Introduction"
   ]
  },
  {
   "cell_type": "markdown",
   "id": "40e5a0e3-93e4-4a22-9806-e19058133a71",
   "metadata": {},
   "source": [
    "통계학과 기계학습\n",
    "\n",
    "* 모형과 데이터로부터 모집단, 모수 추론, 해석에 초점\n",
    "* 모형과 데이터로부터 새로운 현상(test data)에 대한 예측성능에 초점"
   ]
  },
  {
   "cell_type": "markdown",
   "id": "2de97900-111d-4bc0-b20c-400c0db4c347",
   "metadata": {},
   "source": [
    "**Statistical Learing**\n",
    "\n",
    "T-test : 통계적 학습과는 관련이 적음\n",
    "\n",
    "최소제곱법에 근거한 선형회귀모형(Just numeric) ~ 판별분석 ~ 로지스틱모형 -> 일반화선형모형(GLM) : 이항분포, 포아송분포 등등...\n",
    "\n",
    "일반화가법모형 : 피쳐벌로 모형을 구성하여 더하는 모형\n",
    "\n",
    "통계적 추론 - 최소제곱추정량 : X가 Y의 평균에 미치는 영향을 파악\n",
    "\n",
    "기계학습 : 가장 작은 Y에 대한 예측오차"
   ]
  },
  {
   "cell_type": "markdown",
   "id": "ec8e33df-f995-4bf8-a91f-35979742ec53",
   "metadata": {},
   "source": [
    "$$\\mathbb{E}[(\\hat Y - Y)^2] = \\mathbb{E}[\\hat f(x) - f(x)]^2 + \\text{Var}(\\epsilon)$$\n",
    "\n",
    "> MSE는 분산과 $\\text{Bias}^2$-term으로 나뉨"
   ]
  },
  {
   "cell_type": "markdown",
   "id": "598cab8f-8c62-4cf2-9623-ede1fbaa6ebe",
   "metadata": {},
   "source": [
    "### f를 추정하는 방법"
   ]
  },
  {
   "cell_type": "markdown",
   "id": "d982de33-9e98-430c-afe3-6a919b0d11bf",
   "metadata": {},
   "source": [
    "`-` 모수적 방법 : f의 형태를 구체적으로 가정한 뒤, 데이터로부터 모형을 학습하여 f를 추정\n",
    "\n",
    "> 선형회귀분석 등"
   ]
  },
  {
   "cell_type": "markdown",
   "id": "0983c996-c5f9-42a2-8099-a7771703b839",
   "metadata": {},
   "source": [
    "`-` 비모수적 방법 : f의 형태에 구체적인 가정 없이, 데이터로부터 모형을 학습하여 f를 추정\n",
    "\n",
    "> 트리 등, 데이터가 커짐에 따라 모수가 무수히 많아지는 모형\n",
    ">\n",
    "> $\\hat f$값이 지나치게 rough하지 않도록 추정함 -> 과적합 문제 회피"
   ]
  },
  {
   "cell_type": "markdown",
   "id": "49823d1b-9685-4c90-93de-0a30d643db4b",
   "metadata": {},
   "source": [
    "### 지도학습 / 비지도학습"
   ]
  },
  {
   "cell_type": "markdown",
   "id": "97fcc540-1e2b-4d93-8617-7f4d625ea227",
   "metadata": {},
   "source": [
    "Label/Response의 존재 여부에 따라 구분\n",
    "\n",
    "`-` 지도학습 Supervised Learning : 회귀분석, 분류분석 등. 반응변수 존재\n",
    "\n",
    "`-` 비지도학습 Unsupervised Learning  : 군집분석, 연관분석, 주성분분석 등. 반응변수 없음."
   ]
  },
  {
   "cell_type": "markdown",
   "id": "625d32d2-3fa5-4cfc-95d6-05b902542b66",
   "metadata": {},
   "source": [
    "### 모형의 평가"
   ]
  },
  {
   "cell_type": "markdown",
   "id": "2f936726-7ee7-41cd-b159-91025146c66c",
   "metadata": {},
   "source": [
    "여러 학습법이 소개되는 이유 : 모든 데이터에서 항상 가장 우수한 모형은 존재하지 않음.\n",
    "\n",
    "`-` 모형의 수준\n",
    "\n",
    "* 대범주 : 회귀모형, 분류모형(Regression / Classification)\n",
    "* 소범주 : 단순선형회귀, 비선형회귀, KDE, 딥 네트워크 등\n",
    "* 세부범주 : 같은 소범주 모형 안에서 계수가 다른 것들"
   ]
  },
  {
   "cell_type": "markdown",
   "id": "639652ab-0ec9-44c2-adcd-830683fe6909",
   "metadata": {},
   "source": [
    "평균 측도 : MSE\n",
    "\n",
    "훈련 MSE / 평가 MSE : 평가 데이터는 예측의 정확도를 위해서 훈련 데이터와 구별되는 데이터이다. 훈련자료의 MSE를 줄이면서도, 평가 MSE를 최소화시키는 것이 중요.\n",
    "\n",
    "> 과적합 문제 Overfitting : 훈련 MSE가 과도하게 작아지는 모형 적합 시, 평가 MSE가 증가하는 현상이 발생할수도 있다."
   ]
  },
  {
   "cell_type": "markdown",
   "id": "f00a523c-041f-4f7b-80f3-054f0554a3dd",
   "metadata": {},
   "source": [
    "$(y - \\hat y)^2 = y^2 - 2y \\hat y + \\hat y^2 = (y - E[y])^2 + (\\hat y - E[y])^2$"
   ]
  },
  {
   "cell_type": "markdown",
   "id": "a11a17c1-94f6-4fb7-a60c-19873d3a7ecf",
   "metadata": {},
   "source": [
    "단순한 모형을 쓰면 평균(조건부 평균)을 못쫓아가는 문제가 생기고(과소적합), 복잡한 모형을 쓰면 개별 관측치의 분산이 커지는 문제가 생긴다(과적합)."
   ]
  },
  {
   "cell_type": "code",
   "execution_count": null,
   "id": "61514100-c88f-4585-85dd-3ccf4a9c2cd7",
   "metadata": {},
   "outputs": [],
   "source": []
  }
 ],
 "metadata": {
  "kernelspec": {
   "display_name": "Python 3 (ipykernel)",
   "language": "python",
   "name": "python3"
  },
  "language_info": {
   "codemirror_mode": {
    "name": "ipython",
    "version": 3
   },
   "file_extension": ".py",
   "mimetype": "text/x-python",
   "name": "python",
   "nbconvert_exporter": "python",
   "pygments_lexer": "ipython3",
   "version": "3.10.14"
  }
 },
 "nbformat": 4,
 "nbformat_minor": 5
}
